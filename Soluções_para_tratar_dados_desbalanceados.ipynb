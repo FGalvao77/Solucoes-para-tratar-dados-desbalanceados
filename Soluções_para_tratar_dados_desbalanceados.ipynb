{
  "nbformat": 4,
  "nbformat_minor": 0,
  "metadata": {
    "colab": {
      "name": "Soluções para tratar dados desbalanceados.ipynb",
      "provenance": [],
      "collapsed_sections": [],
      "authorship_tag": "ABX9TyOBsdSV0Ulo13H+2ja6MSt2",
      "include_colab_link": true
    },
    "kernelspec": {
      "name": "python3",
      "display_name": "Python 3"
    },
    "language_info": {
      "name": "python"
    }
  },
  "cells": [
    {
      "cell_type": "markdown",
      "metadata": {
        "id": "view-in-github",
        "colab_type": "text"
      },
      "source": [
        "<a href=\"https://colab.research.google.com/github/FGalvao77/Solucoes-para-tratar-dados-desbalanceados/blob/main/Solu%C3%A7%C3%B5es_para_tratar_dados_desbalanceados.ipynb\" target=\"_parent\"><img src=\"https://colab.research.google.com/assets/colab-badge.svg\" alt=\"Open In Colab\"/></a>"
      ]
    },
    {
      "cell_type": "markdown",
      "source": [
        "# **Soluções para tratar dados desbalanceados** \n",
        "\n",
        "---\n",
        "\n"
      ],
      "metadata": {
        "id": "quuZHSTR1YbS"
      }
    },
    {
      "cell_type": "code",
      "execution_count": 18,
      "metadata": {
        "id": "xZMOBs1v04sB"
      },
      "outputs": [],
      "source": [
        "# @title\n",
        "# suprimir os warnings\n",
        "# from warnings import simplefilter\n",
        "# simplefilter(action='ignore', category=FutureWarning)\n",
        "\n",
        "import warnings\n",
        "warnings.filterwarnings('ignore')\n",
        "\n",
        "!pip install -q scikit-plot --upgrade"
      ]
    },
    {
      "cell_type": "markdown",
      "source": [
        "## Introdução\n",
        "\n",
        "A classe desbalanceada ocorre quando temos um conjunto de dados que possui muitos exemplos de uma classe e poucos exemplos da outra classe.\n",
        "\n",
        "Exemplo:\n",
        "\n",
        "![](https://minerandodados.com.br/wp-content/uploads/2020/02/image-17-669x502.png)\n",
        "\n",
        "\n",
        "Saber como tratar `dados desbalanceados` é fundamental na aplicação de modelos de _Machine Learning_ e, conhecer e dominar alguma(s) técnica(s) é requesito para todo **Data Scientist**. \n",
        "\n",
        "Esse tipo de abordagem é essencial para construção de modelos de classificação, pois o desbalanceamentos entre classes, muitas vezes pode \"condicionar\" uma má inferência ao modelo, ou seja, o modelo irar \"responder\" muito bem para classe majoritária e, para classe minoritária apresentará um desempenho inferior. E isso, com certeza pode impactar diretamente no seu projeto de _Ciência de Dados_.\n",
        "\n",
        "Teoricamente, um conjunto de dados que possua qualquer classe com mais de `50%` das entradas já é considerado desbalanceado. Pórem, na _vida real_ podemos encontrar situaçoes extremas e proporções maiores que 99:1.\n",
        "\n",
        "Pra cada técnica existe os `prós` e `contras` e, iremos explorar algumas técnicas mais utilizadas."
      ],
      "metadata": {
        "id": "vBJFrovp1uwg"
      }
    },
    {
      "cell_type": "markdown",
      "source": [
        "## Vantagens e desvantagens de cada técnica\n",
        "\n",
        "[O Teorema *No Free Lunch*](https://www.kdnuggets.com/2019/09/no-free-lunch-data-science.html) diz que não existe uma técnica perfeita e única, apenas com algumas vantagens e desvantagens entre uma e outra. Cada escolha é uma renúncia, isso é *Data Science*. \n",
        "\n",
        "Quando você opta por uma abordagem, tem que estar ciente das limitações e implicações nos seus resultados e, isso tem que ser explicitamente exposto para todos os *stakeholders*.\n",
        "\n",
        "\n",
        "\n"
      ],
      "metadata": {
        "id": "SIob0ehx8zqV"
      }
    },
    {
      "cell_type": "markdown",
      "source": [
        "### Métodos para lidar com dados desbalanceados\n",
        "\n",
        "Há diversas maneiras para atacar o problema de dados desbalanceados, que envolvem desde a construção de algoritmos específicos até  a aplicação de algoritmos mais avançados como *Recognition-based Learning* e *Cost-sensitive Learning*. \n",
        "\n",
        "No entanto, uma outra abordagem bem mais simples tem sido amplamente usada (com ótimos resultados), a abordagem *sampling*.\n",
        "\n",
        "*Sampling* é um pré-processamento que visa minimizar as discrepâncias entre as classes por meio de uma reamostragem do *dataset* original. Para gerar um conjunto balanceado, são usadas normalmente as seguintes técnicas:\n",
        "\n",
        "- *Undersampling*: reduz de forma aleatória os exemplos da classe majoritária. Essa técnica extrai um subconjunto aleatório da classe majoritária, preservando as características da classe minoritária, sendo ideal para situações onde você tem grandes volumes de dados. Apesar de reduzir o tempo computacional e de armazenamento, esta técnica descarta informações da classe majoritária, o que pode levar a uma performance inferior nas predições dela.\n",
        "\n",
        "- *NearMiss*: é um algoritmo de undersampling que consiste em reduzir de forma aleatória os exemplos da classe majoritária, porém ele seleciona os exemplos com base na distância. Quando instâncias das duas classes estão muito próximas umas das outras, removemos as instâncias da classe majoritária para termos uma maior separabilidade entre as classes.\n",
        "\n",
        "- *Oversampling*: replica dados aleatórios da classe minoritária. Como estamos duplicando os dados já existentes este método está propício a dar overfitting. A geração de novas entradas pode ser feita aleatoriamente com o auxílio de técnicas de clustering ou sinteticamente. A vantagem é que nenhuma informação é descartada, porém o custo computacional será elevado e você irá deteriorar a performance do algoritmo para as classes minoritárias.\n",
        "\n",
        "- *Smote*: consiste em gerar dados sintéticos (não duplicados) da classe minoritária a partir de vizinhos. Ele calcula quais são os vizinhos mais próximos e as características desses vizinhos para criar novos dados. Se o número de dados gerados for muito grande podemos ter um overfiting.\n",
        "\n",
        "- *Engenharia de features*: gera novas features dando maior robustez ao modelo e diminuindo o viés da classe majoritária.\n",
        "\n",
        "\n",
        "Caso tenha curiosidade em conhecer mais e se aprofundar no assunto, [leia este artigo científico](https://ro.uow.edu.au/cgi/viewcontent.cgi?referer=https://www.google.com/&httpsredir=1&article=1806&context=infopapers)."
      ],
      "metadata": {
        "id": "4T3-jSHjCEd7"
      }
    },
    {
      "cell_type": "markdown",
      "source": [
        "## Aplicação prática\n",
        "\n",
        "Para atividade irei utilizar um conjunto de dados públicos de transações financeiras disponibilizados por empresas de cartões de crédito disponibilizado no [Kaggle](https://www.kaggle.com/mlg-ulb/creditcardfraud).\n",
        "\n",
        "Como é característico desse tipo de problema, as instâncias possuem distribuições bem discrepantes entre as classes `normal` (0) e `fraude` (1)."
      ],
      "metadata": {
        "id": "ACIhSF3I-PeH"
      }
    },
    {
      "cell_type": "code",
      "source": [
        "# importando o conjunto de dados através de uma url\n",
        "!wget https://www.dropbox.com/s/b44o3t3ehmnx2b7/creditcard.csv?dl=1"
      ],
      "metadata": {
        "colab": {
          "base_uri": "https://localhost:8080/"
        },
        "id": "YYwsZY8yN3UY",
        "outputId": "d8859182-d1cb-4129-e9c9-c1a29c057bdb"
      },
      "execution_count": 1,
      "outputs": [
        {
          "output_type": "stream",
          "name": "stdout",
          "text": [
            "--2022-02-10 22:31:19--  https://www.dropbox.com/s/b44o3t3ehmnx2b7/creditcard.csv?dl=1\n",
            "Resolving www.dropbox.com (www.dropbox.com)... 162.125.5.18, 2620:100:601d:18::a27d:512\n",
            "Connecting to www.dropbox.com (www.dropbox.com)|162.125.5.18|:443... connected.\n",
            "HTTP request sent, awaiting response... 301 Moved Permanently\n",
            "Location: /s/dl/b44o3t3ehmnx2b7/creditcard.csv [following]\n",
            "--2022-02-10 22:31:19--  https://www.dropbox.com/s/dl/b44o3t3ehmnx2b7/creditcard.csv\n",
            "Reusing existing connection to www.dropbox.com:443.\n",
            "HTTP request sent, awaiting response... 302 Found\n",
            "Location: https://ucc7e11addfd5ee9e15940dc9fe7.dl.dropboxusercontent.com/cd/0/get/BfeYdikxua6djp7ZHfjgMSgmAsbiKNv12yxoZoRkYUXC4SdMXhdq83qTPb3cc-87_6qNNx94-I-323KkWYfCNlkbw_KPZNuMVcrtEmTdh6FCwvT4CKS-ZCqYW-QD1vs-sCblAjdQuWn4L4nIG8N7m7Gr/file?dl=1# [following]\n",
            "--2022-02-10 22:31:19--  https://ucc7e11addfd5ee9e15940dc9fe7.dl.dropboxusercontent.com/cd/0/get/BfeYdikxua6djp7ZHfjgMSgmAsbiKNv12yxoZoRkYUXC4SdMXhdq83qTPb3cc-87_6qNNx94-I-323KkWYfCNlkbw_KPZNuMVcrtEmTdh6FCwvT4CKS-ZCqYW-QD1vs-sCblAjdQuWn4L4nIG8N7m7Gr/file?dl=1\n",
            "Resolving ucc7e11addfd5ee9e15940dc9fe7.dl.dropboxusercontent.com (ucc7e11addfd5ee9e15940dc9fe7.dl.dropboxusercontent.com)... 162.125.5.15, 2620:100:601d:15::a27d:50f\n",
            "Connecting to ucc7e11addfd5ee9e15940dc9fe7.dl.dropboxusercontent.com (ucc7e11addfd5ee9e15940dc9fe7.dl.dropboxusercontent.com)|162.125.5.15|:443... connected.\n",
            "HTTP request sent, awaiting response... 200 OK\n",
            "Length: unspecified [application/binary]\n",
            "Saving to: ‘creditcard.csv?dl=1’\n",
            "\n",
            "creditcard.csv?dl=1     [               <=>  ] 143.84M  48.2MB/s    in 3.0s    \n",
            "\n",
            "2022-02-10 22:31:23 (48.2 MB/s) - ‘creditcard.csv?dl=1’ saved [150828752]\n",
            "\n"
          ]
        }
      ]
    },
    {
      "cell_type": "code",
      "source": [
        "# visualizando o diretório principal do notebook\n",
        "%ls"
      ],
      "metadata": {
        "colab": {
          "base_uri": "https://localhost:8080/"
        },
        "id": "xB7zSR7NOAfk",
        "outputId": "62522dcf-9cf8-4178-8b92-6404e32c18b6"
      },
      "execution_count": 2,
      "outputs": [
        {
          "output_type": "stream",
          "name": "stdout",
          "text": [
            "'creditcard.csv?dl=1'   \u001b[0m\u001b[01;34msample_data\u001b[0m/\n"
          ]
        }
      ]
    },
    {
      "cell_type": "code",
      "source": [
        "# realizando a leitura do conjunto de dados\n",
        "!head creditcard.csv?dl=1"
      ],
      "metadata": {
        "colab": {
          "base_uri": "https://localhost:8080/"
        },
        "id": "X9eLRl4VOCk6",
        "outputId": "50146c15-fe13-4a61-db5b-dddf53b7f51c"
      },
      "execution_count": 3,
      "outputs": [
        {
          "output_type": "stream",
          "name": "stdout",
          "text": [
            "\"Time\",\"V1\",\"V2\",\"V3\",\"V4\",\"V5\",\"V6\",\"V7\",\"V8\",\"V9\",\"V10\",\"V11\",\"V12\",\"V13\",\"V14\",\"V15\",\"V16\",\"V17\",\"V18\",\"V19\",\"V20\",\"V21\",\"V22\",\"V23\",\"V24\",\"V25\",\"V26\",\"V27\",\"V28\",\"Amount\",\"Class\"\n",
            "0,-1.3598071336738,-0.0727811733098497,2.53634673796914,1.37815522427443,-0.338320769942518,0.462387777762292,0.239598554061257,0.0986979012610507,0.363786969611213,0.0907941719789316,-0.551599533260813,-0.617800855762348,-0.991389847235408,-0.311169353699879,1.46817697209427,-0.470400525259478,0.207971241929242,0.0257905801985591,0.403992960255733,0.251412098239705,-0.018306777944153,0.277837575558899,-0.110473910188767,0.0669280749146731,0.128539358273528,-0.189114843888824,0.133558376740387,-0.0210530534538215,149.62,\"0\"\n",
            "0,1.19185711131486,0.26615071205963,0.16648011335321,0.448154078460911,0.0600176492822243,-0.0823608088155687,-0.0788029833323113,0.0851016549148104,-0.255425128109186,-0.166974414004614,1.61272666105479,1.06523531137287,0.48909501589608,-0.143772296441519,0.635558093258208,0.463917041022171,-0.114804663102346,-0.183361270123994,-0.145783041325259,-0.0690831352230203,-0.225775248033138,-0.638671952771851,0.101288021253234,-0.339846475529127,0.167170404418143,0.125894532368176,-0.00898309914322813,0.0147241691924927,2.69,\"0\"\n",
            "1,-1.35835406159823,-1.34016307473609,1.77320934263119,0.379779593034328,-0.503198133318193,1.80049938079263,0.791460956450422,0.247675786588991,-1.51465432260583,0.207642865216696,0.624501459424895,0.066083685268831,0.717292731410831,-0.165945922763554,2.34586494901581,-2.89008319444231,1.10996937869599,-0.121359313195888,-2.26185709530414,0.524979725224404,0.247998153469754,0.771679401917229,0.909412262347719,-0.689280956490685,-0.327641833735251,-0.139096571514147,-0.0553527940384261,-0.0597518405929204,378.66,\"0\"\n",
            "1,-0.966271711572087,-0.185226008082898,1.79299333957872,-0.863291275036453,-0.0103088796030823,1.24720316752486,0.23760893977178,0.377435874652262,-1.38702406270197,-0.0549519224713749,-0.226487263835401,0.178228225877303,0.507756869957169,-0.28792374549456,-0.631418117709045,-1.0596472454325,-0.684092786345479,1.96577500349538,-1.2326219700892,-0.208037781160366,-0.108300452035545,0.00527359678253453,-0.190320518742841,-1.17557533186321,0.647376034602038,-0.221928844458407,0.0627228487293033,0.0614576285006353,123.5,\"0\"\n",
            "2,-1.15823309349523,0.877736754848451,1.548717846511,0.403033933955121,-0.407193377311653,0.0959214624684256,0.592940745385545,-0.270532677192282,0.817739308235294,0.753074431976354,-0.822842877946363,0.53819555014995,1.3458515932154,-1.11966983471731,0.175121130008994,-0.451449182813529,-0.237033239362776,-0.0381947870352842,0.803486924960175,0.408542360392758,-0.00943069713232919,0.79827849458971,-0.137458079619063,0.141266983824769,-0.206009587619756,0.502292224181569,0.219422229513348,0.215153147499206,69.99,\"0\"\n",
            "2,-0.425965884412454,0.960523044882985,1.14110934232219,-0.168252079760302,0.42098688077219,-0.0297275516639742,0.476200948720027,0.260314333074874,-0.56867137571251,-0.371407196834471,1.34126198001957,0.359893837038039,-0.358090652573631,-0.137133700217612,0.517616806555742,0.401725895589603,-0.0581328233640131,0.0686531494425432,-0.0331937877876282,0.0849676720682049,-0.208253514656728,-0.559824796253248,-0.0263976679795373,-0.371426583174346,-0.232793816737034,0.105914779097957,0.253844224739337,0.0810802569229443,3.67,\"0\"\n",
            "4,1.22965763450793,0.141003507049326,0.0453707735899449,1.20261273673594,0.191880988597645,0.272708122899098,-0.00515900288250983,0.0812129398830894,0.464959994783886,-0.0992543211289237,-1.41690724314928,-0.153825826253651,-0.75106271556262,0.16737196252175,0.0501435942254188,-0.443586797916727,0.00282051247234708,-0.61198733994012,-0.0455750446637976,-0.21963255278686,-0.167716265815783,-0.270709726172363,-0.154103786809305,-0.780055415004671,0.75013693580659,-0.257236845917139,0.0345074297438413,0.00516776890624916,4.99,\"0\"\n",
            "7,-0.644269442348146,1.41796354547385,1.0743803763556,-0.492199018495015,0.948934094764157,0.428118462833089,1.12063135838353,-3.80786423873589,0.615374730667027,1.24937617815176,-0.619467796121913,0.291474353088705,1.75796421396042,-1.32386521970526,0.686132504394383,-0.0761269994382006,-1.2221273453247,-0.358221569869078,0.324504731321494,-0.156741852488285,1.94346533978412,-1.01545470979971,0.057503529867291,-0.649709005559993,-0.415266566234811,-0.0516342969262494,-1.20692108094258,-1.08533918832377,40.8,\"0\"\n",
            "7,-0.89428608220282,0.286157196276544,-0.113192212729871,-0.271526130088604,2.6695986595986,3.72181806112751,0.370145127676916,0.851084443200905,-0.392047586798604,-0.410430432848439,-0.705116586646536,-0.110452261733098,-0.286253632470583,0.0743553603016731,-0.328783050303565,-0.210077268148783,-0.499767968800267,0.118764861004217,0.57032816746536,0.0527356691149697,-0.0734251001059225,-0.268091632235551,-0.204232669947878,1.0115918018785,0.373204680146282,-0.384157307702294,0.0117473564581996,0.14240432992147,93.2,\"0\"\n"
          ]
        }
      ]
    },
    {
      "cell_type": "code",
      "source": [
        "# importando a biblioteca para manipulação e análise de dados\n",
        "import pandas as pd"
      ],
      "metadata": {
        "id": "6gEqNQxk1JYG"
      },
      "execution_count": 4,
      "outputs": []
    },
    {
      "cell_type": "code",
      "source": [
        "# instanciando a url do conjunto de dados no objeto \"file_path\"\n",
        "file_path = 'https://www.dropbox.com/s/b44o3t3ehmnx2b7/creditcard.csv?dl=1'"
      ],
      "metadata": {
        "id": "eIWV7UAH1JV3"
      },
      "execution_count": 5,
      "outputs": []
    },
    {
      "cell_type": "code",
      "source": [
        "# com o pandas e sua função \".read_csv()\" realizando o carregamento e instanciando as informaçãoes do \"file_path\" no objeto \"df\"\n",
        "df = pd.read_csv(file_path)\n",
        "\n",
        "# visualizando as 5 primeiras observações\n",
        "df.head()"
      ],
      "metadata": {
        "id": "xCXTLk0U1JRR",
        "colab": {
          "base_uri": "https://localhost:8080/",
          "height": 270
        },
        "outputId": "f0bc84db-d040-43c5-bbe3-7bfdaae69758"
      },
      "execution_count": 6,
      "outputs": [
        {
          "output_type": "execute_result",
          "data": {
            "text/html": [
              "\n",
              "  <div id=\"df-4b7136f6-cf1e-4758-b36e-c460798cb207\">\n",
              "    <div class=\"colab-df-container\">\n",
              "      <div>\n",
              "<style scoped>\n",
              "    .dataframe tbody tr th:only-of-type {\n",
              "        vertical-align: middle;\n",
              "    }\n",
              "\n",
              "    .dataframe tbody tr th {\n",
              "        vertical-align: top;\n",
              "    }\n",
              "\n",
              "    .dataframe thead th {\n",
              "        text-align: right;\n",
              "    }\n",
              "</style>\n",
              "<table border=\"1\" class=\"dataframe\">\n",
              "  <thead>\n",
              "    <tr style=\"text-align: right;\">\n",
              "      <th></th>\n",
              "      <th>Time</th>\n",
              "      <th>V1</th>\n",
              "      <th>V2</th>\n",
              "      <th>V3</th>\n",
              "      <th>V4</th>\n",
              "      <th>V5</th>\n",
              "      <th>V6</th>\n",
              "      <th>V7</th>\n",
              "      <th>V8</th>\n",
              "      <th>V9</th>\n",
              "      <th>V10</th>\n",
              "      <th>V11</th>\n",
              "      <th>V12</th>\n",
              "      <th>V13</th>\n",
              "      <th>V14</th>\n",
              "      <th>V15</th>\n",
              "      <th>V16</th>\n",
              "      <th>V17</th>\n",
              "      <th>V18</th>\n",
              "      <th>V19</th>\n",
              "      <th>V20</th>\n",
              "      <th>V21</th>\n",
              "      <th>V22</th>\n",
              "      <th>V23</th>\n",
              "      <th>V24</th>\n",
              "      <th>V25</th>\n",
              "      <th>V26</th>\n",
              "      <th>V27</th>\n",
              "      <th>V28</th>\n",
              "      <th>Amount</th>\n",
              "      <th>Class</th>\n",
              "    </tr>\n",
              "  </thead>\n",
              "  <tbody>\n",
              "    <tr>\n",
              "      <th>0</th>\n",
              "      <td>0.0</td>\n",
              "      <td>-1.359807</td>\n",
              "      <td>-0.072781</td>\n",
              "      <td>2.536347</td>\n",
              "      <td>1.378155</td>\n",
              "      <td>-0.338321</td>\n",
              "      <td>0.462388</td>\n",
              "      <td>0.239599</td>\n",
              "      <td>0.098698</td>\n",
              "      <td>0.363787</td>\n",
              "      <td>0.090794</td>\n",
              "      <td>-0.551600</td>\n",
              "      <td>-0.617801</td>\n",
              "      <td>-0.991390</td>\n",
              "      <td>-0.311169</td>\n",
              "      <td>1.468177</td>\n",
              "      <td>-0.470401</td>\n",
              "      <td>0.207971</td>\n",
              "      <td>0.025791</td>\n",
              "      <td>0.403993</td>\n",
              "      <td>0.251412</td>\n",
              "      <td>-0.018307</td>\n",
              "      <td>0.277838</td>\n",
              "      <td>-0.110474</td>\n",
              "      <td>0.066928</td>\n",
              "      <td>0.128539</td>\n",
              "      <td>-0.189115</td>\n",
              "      <td>0.133558</td>\n",
              "      <td>-0.021053</td>\n",
              "      <td>149.62</td>\n",
              "      <td>0</td>\n",
              "    </tr>\n",
              "    <tr>\n",
              "      <th>1</th>\n",
              "      <td>0.0</td>\n",
              "      <td>1.191857</td>\n",
              "      <td>0.266151</td>\n",
              "      <td>0.166480</td>\n",
              "      <td>0.448154</td>\n",
              "      <td>0.060018</td>\n",
              "      <td>-0.082361</td>\n",
              "      <td>-0.078803</td>\n",
              "      <td>0.085102</td>\n",
              "      <td>-0.255425</td>\n",
              "      <td>-0.166974</td>\n",
              "      <td>1.612727</td>\n",
              "      <td>1.065235</td>\n",
              "      <td>0.489095</td>\n",
              "      <td>-0.143772</td>\n",
              "      <td>0.635558</td>\n",
              "      <td>0.463917</td>\n",
              "      <td>-0.114805</td>\n",
              "      <td>-0.183361</td>\n",
              "      <td>-0.145783</td>\n",
              "      <td>-0.069083</td>\n",
              "      <td>-0.225775</td>\n",
              "      <td>-0.638672</td>\n",
              "      <td>0.101288</td>\n",
              "      <td>-0.339846</td>\n",
              "      <td>0.167170</td>\n",
              "      <td>0.125895</td>\n",
              "      <td>-0.008983</td>\n",
              "      <td>0.014724</td>\n",
              "      <td>2.69</td>\n",
              "      <td>0</td>\n",
              "    </tr>\n",
              "    <tr>\n",
              "      <th>2</th>\n",
              "      <td>1.0</td>\n",
              "      <td>-1.358354</td>\n",
              "      <td>-1.340163</td>\n",
              "      <td>1.773209</td>\n",
              "      <td>0.379780</td>\n",
              "      <td>-0.503198</td>\n",
              "      <td>1.800499</td>\n",
              "      <td>0.791461</td>\n",
              "      <td>0.247676</td>\n",
              "      <td>-1.514654</td>\n",
              "      <td>0.207643</td>\n",
              "      <td>0.624501</td>\n",
              "      <td>0.066084</td>\n",
              "      <td>0.717293</td>\n",
              "      <td>-0.165946</td>\n",
              "      <td>2.345865</td>\n",
              "      <td>-2.890083</td>\n",
              "      <td>1.109969</td>\n",
              "      <td>-0.121359</td>\n",
              "      <td>-2.261857</td>\n",
              "      <td>0.524980</td>\n",
              "      <td>0.247998</td>\n",
              "      <td>0.771679</td>\n",
              "      <td>0.909412</td>\n",
              "      <td>-0.689281</td>\n",
              "      <td>-0.327642</td>\n",
              "      <td>-0.139097</td>\n",
              "      <td>-0.055353</td>\n",
              "      <td>-0.059752</td>\n",
              "      <td>378.66</td>\n",
              "      <td>0</td>\n",
              "    </tr>\n",
              "    <tr>\n",
              "      <th>3</th>\n",
              "      <td>1.0</td>\n",
              "      <td>-0.966272</td>\n",
              "      <td>-0.185226</td>\n",
              "      <td>1.792993</td>\n",
              "      <td>-0.863291</td>\n",
              "      <td>-0.010309</td>\n",
              "      <td>1.247203</td>\n",
              "      <td>0.237609</td>\n",
              "      <td>0.377436</td>\n",
              "      <td>-1.387024</td>\n",
              "      <td>-0.054952</td>\n",
              "      <td>-0.226487</td>\n",
              "      <td>0.178228</td>\n",
              "      <td>0.507757</td>\n",
              "      <td>-0.287924</td>\n",
              "      <td>-0.631418</td>\n",
              "      <td>-1.059647</td>\n",
              "      <td>-0.684093</td>\n",
              "      <td>1.965775</td>\n",
              "      <td>-1.232622</td>\n",
              "      <td>-0.208038</td>\n",
              "      <td>-0.108300</td>\n",
              "      <td>0.005274</td>\n",
              "      <td>-0.190321</td>\n",
              "      <td>-1.175575</td>\n",
              "      <td>0.647376</td>\n",
              "      <td>-0.221929</td>\n",
              "      <td>0.062723</td>\n",
              "      <td>0.061458</td>\n",
              "      <td>123.50</td>\n",
              "      <td>0</td>\n",
              "    </tr>\n",
              "    <tr>\n",
              "      <th>4</th>\n",
              "      <td>2.0</td>\n",
              "      <td>-1.158233</td>\n",
              "      <td>0.877737</td>\n",
              "      <td>1.548718</td>\n",
              "      <td>0.403034</td>\n",
              "      <td>-0.407193</td>\n",
              "      <td>0.095921</td>\n",
              "      <td>0.592941</td>\n",
              "      <td>-0.270533</td>\n",
              "      <td>0.817739</td>\n",
              "      <td>0.753074</td>\n",
              "      <td>-0.822843</td>\n",
              "      <td>0.538196</td>\n",
              "      <td>1.345852</td>\n",
              "      <td>-1.119670</td>\n",
              "      <td>0.175121</td>\n",
              "      <td>-0.451449</td>\n",
              "      <td>-0.237033</td>\n",
              "      <td>-0.038195</td>\n",
              "      <td>0.803487</td>\n",
              "      <td>0.408542</td>\n",
              "      <td>-0.009431</td>\n",
              "      <td>0.798278</td>\n",
              "      <td>-0.137458</td>\n",
              "      <td>0.141267</td>\n",
              "      <td>-0.206010</td>\n",
              "      <td>0.502292</td>\n",
              "      <td>0.219422</td>\n",
              "      <td>0.215153</td>\n",
              "      <td>69.99</td>\n",
              "      <td>0</td>\n",
              "    </tr>\n",
              "  </tbody>\n",
              "</table>\n",
              "</div>\n",
              "      <button class=\"colab-df-convert\" onclick=\"convertToInteractive('df-4b7136f6-cf1e-4758-b36e-c460798cb207')\"\n",
              "              title=\"Convert this dataframe to an interactive table.\"\n",
              "              style=\"display:none;\">\n",
              "        \n",
              "  <svg xmlns=\"http://www.w3.org/2000/svg\" height=\"24px\"viewBox=\"0 0 24 24\"\n",
              "       width=\"24px\">\n",
              "    <path d=\"M0 0h24v24H0V0z\" fill=\"none\"/>\n",
              "    <path d=\"M18.56 5.44l.94 2.06.94-2.06 2.06-.94-2.06-.94-.94-2.06-.94 2.06-2.06.94zm-11 1L8.5 8.5l.94-2.06 2.06-.94-2.06-.94L8.5 2.5l-.94 2.06-2.06.94zm10 10l.94 2.06.94-2.06 2.06-.94-2.06-.94-.94-2.06-.94 2.06-2.06.94z\"/><path d=\"M17.41 7.96l-1.37-1.37c-.4-.4-.92-.59-1.43-.59-.52 0-1.04.2-1.43.59L10.3 9.45l-7.72 7.72c-.78.78-.78 2.05 0 2.83L4 21.41c.39.39.9.59 1.41.59.51 0 1.02-.2 1.41-.59l7.78-7.78 2.81-2.81c.8-.78.8-2.07 0-2.86zM5.41 20L4 18.59l7.72-7.72 1.47 1.35L5.41 20z\"/>\n",
              "  </svg>\n",
              "      </button>\n",
              "      \n",
              "  <style>\n",
              "    .colab-df-container {\n",
              "      display:flex;\n",
              "      flex-wrap:wrap;\n",
              "      gap: 12px;\n",
              "    }\n",
              "\n",
              "    .colab-df-convert {\n",
              "      background-color: #E8F0FE;\n",
              "      border: none;\n",
              "      border-radius: 50%;\n",
              "      cursor: pointer;\n",
              "      display: none;\n",
              "      fill: #1967D2;\n",
              "      height: 32px;\n",
              "      padding: 0 0 0 0;\n",
              "      width: 32px;\n",
              "    }\n",
              "\n",
              "    .colab-df-convert:hover {\n",
              "      background-color: #E2EBFA;\n",
              "      box-shadow: 0px 1px 2px rgba(60, 64, 67, 0.3), 0px 1px 3px 1px rgba(60, 64, 67, 0.15);\n",
              "      fill: #174EA6;\n",
              "    }\n",
              "\n",
              "    [theme=dark] .colab-df-convert {\n",
              "      background-color: #3B4455;\n",
              "      fill: #D2E3FC;\n",
              "    }\n",
              "\n",
              "    [theme=dark] .colab-df-convert:hover {\n",
              "      background-color: #434B5C;\n",
              "      box-shadow: 0px 1px 3px 1px rgba(0, 0, 0, 0.15);\n",
              "      filter: drop-shadow(0px 1px 2px rgba(0, 0, 0, 0.3));\n",
              "      fill: #FFFFFF;\n",
              "    }\n",
              "  </style>\n",
              "\n",
              "      <script>\n",
              "        const buttonEl =\n",
              "          document.querySelector('#df-4b7136f6-cf1e-4758-b36e-c460798cb207 button.colab-df-convert');\n",
              "        buttonEl.style.display =\n",
              "          google.colab.kernel.accessAllowed ? 'block' : 'none';\n",
              "\n",
              "        async function convertToInteractive(key) {\n",
              "          const element = document.querySelector('#df-4b7136f6-cf1e-4758-b36e-c460798cb207');\n",
              "          const dataTable =\n",
              "            await google.colab.kernel.invokeFunction('convertToInteractive',\n",
              "                                                     [key], {});\n",
              "          if (!dataTable) return;\n",
              "\n",
              "          const docLinkHtml = 'Like what you see? Visit the ' +\n",
              "            '<a target=\"_blank\" href=https://colab.research.google.com/notebooks/data_table.ipynb>data table notebook</a>'\n",
              "            + ' to learn more about interactive tables.';\n",
              "          element.innerHTML = '';\n",
              "          dataTable['output_type'] = 'display_data';\n",
              "          await google.colab.output.renderOutput(dataTable, element);\n",
              "          const docLink = document.createElement('div');\n",
              "          docLink.innerHTML = docLinkHtml;\n",
              "          element.appendChild(docLink);\n",
              "        }\n",
              "      </script>\n",
              "    </div>\n",
              "  </div>\n",
              "  "
            ],
            "text/plain": [
              "   Time        V1        V2        V3  ...       V27       V28  Amount  Class\n",
              "0   0.0 -1.359807 -0.072781  2.536347  ...  0.133558 -0.021053  149.62      0\n",
              "1   0.0  1.191857  0.266151  0.166480  ... -0.008983  0.014724    2.69      0\n",
              "2   1.0 -1.358354 -1.340163  1.773209  ... -0.055353 -0.059752  378.66      0\n",
              "3   1.0 -0.966272 -0.185226  1.792993  ...  0.062723  0.061458  123.50      0\n",
              "4   2.0 -1.158233  0.877737  1.548718  ...  0.219422  0.215153   69.99      0\n",
              "\n",
              "[5 rows x 31 columns]"
            ]
          },
          "metadata": {},
          "execution_count": 6
        }
      ]
    },
    {
      "cell_type": "code",
      "source": [
        "# visualizando a distribuição das instâncias nas classes do atributo alvo\n",
        "print(\n",
        "    df['Class'].value_counts(),\n",
        "    df['Class'].value_counts(normalize=True) * 100,\n",
        "    sep='\\n\\n'\n",
        ")"
      ],
      "metadata": {
        "colab": {
          "base_uri": "https://localhost:8080/"
        },
        "id": "j2nHJPa5OWNT",
        "outputId": "c9fcf03a-46e0-46a0-ae5a-af0aaa96ba3b"
      },
      "execution_count": 7,
      "outputs": [
        {
          "output_type": "stream",
          "name": "stdout",
          "text": [
            "0    284315\n",
            "1       492\n",
            "Name: Class, dtype: int64\n",
            "\n",
            "0    99.827251\n",
            "1     0.172749\n",
            "Name: Class, dtype: float64\n"
          ]
        }
      ]
    },
    {
      "cell_type": "markdown",
      "source": [
        "> Perceba que, temos um desbalanceamento enorme entre as classes. Onde a classe `0` tem cerca de ~99.8% dos dados observados.\n",
        "\n",
        "Com gráfico de barras vamos visualizar graficamente o desbalanceamento!"
      ],
      "metadata": {
        "id": "N4KtEuYrQYtS"
      }
    },
    {
      "cell_type": "code",
      "source": [
        "# importando as bibliotecas para visualização gráfica\n",
        "import matplotlib.pyplot as plt\n",
        "import seaborn as sns\n",
        "\n",
        "# configurando o ambiente de exibição\n",
        "%matplotlib inline\n",
        "sns.set_theme(style='ticks', palette='pastel')"
      ],
      "metadata": {
        "id": "VK1mCb3dOWLG"
      },
      "execution_count": 8,
      "outputs": []
    },
    {
      "cell_type": "code",
      "source": [
        "# plotando gráfico de barras da distribuição das classes do atributo alvo\n",
        "plt.figure(figsize=(7,4))\n",
        "sns.countplot(data=df, x='Class');"
      ],
      "metadata": {
        "colab": {
          "base_uri": "https://localhost:8080/",
          "height": 285
        },
        "id": "tSK3PdNROWIv",
        "outputId": "14b63f1a-2f45-48ef-8c8d-e4ecd6ad00a3"
      },
      "execution_count": 9,
      "outputs": [
        {
          "output_type": "display_data",
          "data": {
            "image/png": "[encoded data removed]",
            "text/plain": [
              "<Figure size 504x288 with 1 Axes>"
            ]
          },
          "metadata": {}
        }
      ]
    },
    {
      "cell_type": "markdown",
      "source": [
        "De início não vamos realizar nenhum tratamento, iremos aplicar um modelo de `Regressão Logística` e, por fim usar algumas métricas para avaliar a performance do modelo."
      ],
      "metadata": {
        "id": "Tq5KKl2gRY-Z"
      }
    },
    {
      "cell_type": "code",
      "source": [
        "# importando a função para aplicação do modelo\n",
        "from sklearn.linear_model import LogisticRegression\n",
        "\n",
        "# função para realizar o particionamento dos dados\n",
        "from sklearn.model_selection import train_test_split\n",
        "\n",
        "# funções de métricas para avaliar a performance do modelo\n",
        "from sklearn.metrics import classification_report, roc_auc_score, roc_curve, accuracy_score"
      ],
      "metadata": {
        "id": "XfSsAPtDOWGT"
      },
      "execution_count": 10,
      "outputs": []
    },
    {
      "cell_type": "code",
      "source": [
        "# instanciando as variáveis explicativas (X) e a resposta (y)\n",
        "X, y = df.drop('Class', axis=1), df['Class']"
      ],
      "metadata": {
        "id": "1D04n4RKRVI7"
      },
      "execution_count": 11,
      "outputs": []
    },
    {
      "cell_type": "code",
      "source": [
        "# visualizando as 5 primeiras observações da variável X\n",
        "X[:5]"
      ],
      "metadata": {
        "colab": {
          "base_uri": "https://localhost:8080/",
          "height": 270
        },
        "id": "Io6MJHKERVGJ",
        "outputId": "47c619e5-73ef-43f5-d6b4-d589def094ab"
      },
      "execution_count": 12,
      "outputs": [
        {
          "output_type": "execute_result",
          "data": {
            "text/html": [
              "\n",
              "  <div id=\"df-25fe0318-f4ec-488d-a996-10a8e677732d\">\n",
              "    <div class=\"colab-df-container\">\n",
              "      <div>\n",
              "<style scoped>\n",
              "    .dataframe tbody tr th:only-of-type {\n",
              "        vertical-align: middle;\n",
              "    }\n",
              "\n",
              "    .dataframe tbody tr th {\n",
              "        vertical-align: top;\n",
              "    }\n",
              "\n",
              "    .dataframe thead th {\n",
              "        text-align: right;\n",
              "    }\n",
              "</style>\n",
              "<table border=\"1\" class=\"dataframe\">\n",
              "  <thead>\n",
              "    <tr style=\"text-align: right;\">\n",
              "      <th></th>\n",
              "      <th>Time</th>\n",
              "      <th>V1</th>\n",
              "      <th>V2</th>\n",
              "      <th>V3</th>\n",
              "      <th>V4</th>\n",
              "      <th>V5</th>\n",
              "      <th>V6</th>\n",
              "      <th>V7</th>\n",
              "      <th>V8</th>\n",
              "      <th>V9</th>\n",
              "      <th>V10</th>\n",
              "      <th>V11</th>\n",
              "      <th>V12</th>\n",
              "      <th>V13</th>\n",
              "      <th>V14</th>\n",
              "      <th>V15</th>\n",
              "      <th>V16</th>\n",
              "      <th>V17</th>\n",
              "      <th>V18</th>\n",
              "      <th>V19</th>\n",
              "      <th>V20</th>\n",
              "      <th>V21</th>\n",
              "      <th>V22</th>\n",
              "      <th>V23</th>\n",
              "      <th>V24</th>\n",
              "      <th>V25</th>\n",
              "      <th>V26</th>\n",
              "      <th>V27</th>\n",
              "      <th>V28</th>\n",
              "      <th>Amount</th>\n",
              "    </tr>\n",
              "  </thead>\n",
              "  <tbody>\n",
              "    <tr>\n",
              "      <th>0</th>\n",
              "      <td>0.0</td>\n",
              "      <td>-1.359807</td>\n",
              "      <td>-0.072781</td>\n",
              "      <td>2.536347</td>\n",
              "      <td>1.378155</td>\n",
              "      <td>-0.338321</td>\n",
              "      <td>0.462388</td>\n",
              "      <td>0.239599</td>\n",
              "      <td>0.098698</td>\n",
              "      <td>0.363787</td>\n",
              "      <td>0.090794</td>\n",
              "      <td>-0.551600</td>\n",
              "      <td>-0.617801</td>\n",
              "      <td>-0.991390</td>\n",
              "      <td>-0.311169</td>\n",
              "      <td>1.468177</td>\n",
              "      <td>-0.470401</td>\n",
              "      <td>0.207971</td>\n",
              "      <td>0.025791</td>\n",
              "      <td>0.403993</td>\n",
              "      <td>0.251412</td>\n",
              "      <td>-0.018307</td>\n",
              "      <td>0.277838</td>\n",
              "      <td>-0.110474</td>\n",
              "      <td>0.066928</td>\n",
              "      <td>0.128539</td>\n",
              "      <td>-0.189115</td>\n",
              "      <td>0.133558</td>\n",
              "      <td>-0.021053</td>\n",
              "      <td>149.62</td>\n",
              "    </tr>\n",
              "    <tr>\n",
              "      <th>1</th>\n",
              "      <td>0.0</td>\n",
              "      <td>1.191857</td>\n",
              "      <td>0.266151</td>\n",
              "      <td>0.166480</td>\n",
              "      <td>0.448154</td>\n",
              "      <td>0.060018</td>\n",
              "      <td>-0.082361</td>\n",
              "      <td>-0.078803</td>\n",
              "      <td>0.085102</td>\n",
              "      <td>-0.255425</td>\n",
              "      <td>-0.166974</td>\n",
              "      <td>1.612727</td>\n",
              "      <td>1.065235</td>\n",
              "      <td>0.489095</td>\n",
              "      <td>-0.143772</td>\n",
              "      <td>0.635558</td>\n",
              "      <td>0.463917</td>\n",
              "      <td>-0.114805</td>\n",
              "      <td>-0.183361</td>\n",
              "      <td>-0.145783</td>\n",
              "      <td>-0.069083</td>\n",
              "      <td>-0.225775</td>\n",
              "      <td>-0.638672</td>\n",
              "      <td>0.101288</td>\n",
              "      <td>-0.339846</td>\n",
              "      <td>0.167170</td>\n",
              "      <td>0.125895</td>\n",
              "      <td>-0.008983</td>\n",
              "      <td>0.014724</td>\n",
              "      <td>2.69</td>\n",
              "    </tr>\n",
              "    <tr>\n",
              "      <th>2</th>\n",
              "      <td>1.0</td>\n",
              "      <td>-1.358354</td>\n",
              "      <td>-1.340163</td>\n",
              "      <td>1.773209</td>\n",
              "      <td>0.379780</td>\n",
              "      <td>-0.503198</td>\n",
              "      <td>1.800499</td>\n",
              "      <td>0.791461</td>\n",
              "      <td>0.247676</td>\n",
              "      <td>-1.514654</td>\n",
              "      <td>0.207643</td>\n",
              "      <td>0.624501</td>\n",
              "      <td>0.066084</td>\n",
              "      <td>0.717293</td>\n",
              "      <td>-0.165946</td>\n",
              "      <td>2.345865</td>\n",
              "      <td>-2.890083</td>\n",
              "      <td>1.109969</td>\n",
              "      <td>-0.121359</td>\n",
              "      <td>-2.261857</td>\n",
              "      <td>0.524980</td>\n",
              "      <td>0.247998</td>\n",
              "      <td>0.771679</td>\n",
              "      <td>0.909412</td>\n",
              "      <td>-0.689281</td>\n",
              "      <td>-0.327642</td>\n",
              "      <td>-0.139097</td>\n",
              "      <td>-0.055353</td>\n",
              "      <td>-0.059752</td>\n",
              "      <td>378.66</td>\n",
              "    </tr>\n",
              "    <tr>\n",
              "      <th>3</th>\n",
              "      <td>1.0</td>\n",
              "      <td>-0.966272</td>\n",
              "      <td>-0.185226</td>\n",
              "      <td>1.792993</td>\n",
              "      <td>-0.863291</td>\n",
              "      <td>-0.010309</td>\n",
              "      <td>1.247203</td>\n",
              "      <td>0.237609</td>\n",
              "      <td>0.377436</td>\n",
              "      <td>-1.387024</td>\n",
              "      <td>-0.054952</td>\n",
              "      <td>-0.226487</td>\n",
              "      <td>0.178228</td>\n",
              "      <td>0.507757</td>\n",
              "      <td>-0.287924</td>\n",
              "      <td>-0.631418</td>\n",
              "      <td>-1.059647</td>\n",
              "      <td>-0.684093</td>\n",
              "      <td>1.965775</td>\n",
              "      <td>-1.232622</td>\n",
              "      <td>-0.208038</td>\n",
              "      <td>-0.108300</td>\n",
              "      <td>0.005274</td>\n",
              "      <td>-0.190321</td>\n",
              "      <td>-1.175575</td>\n",
              "      <td>0.647376</td>\n",
              "      <td>-0.221929</td>\n",
              "      <td>0.062723</td>\n",
              "      <td>0.061458</td>\n",
              "      <td>123.50</td>\n",
              "    </tr>\n",
              "    <tr>\n",
              "      <th>4</th>\n",
              "      <td>2.0</td>\n",
              "      <td>-1.158233</td>\n",
              "      <td>0.877737</td>\n",
              "      <td>1.548718</td>\n",
              "      <td>0.403034</td>\n",
              "      <td>-0.407193</td>\n",
              "      <td>0.095921</td>\n",
              "      <td>0.592941</td>\n",
              "      <td>-0.270533</td>\n",
              "      <td>0.817739</td>\n",
              "      <td>0.753074</td>\n",
              "      <td>-0.822843</td>\n",
              "      <td>0.538196</td>\n",
              "      <td>1.345852</td>\n",
              "      <td>-1.119670</td>\n",
              "      <td>0.175121</td>\n",
              "      <td>-0.451449</td>\n",
              "      <td>-0.237033</td>\n",
              "      <td>-0.038195</td>\n",
              "      <td>0.803487</td>\n",
              "      <td>0.408542</td>\n",
              "      <td>-0.009431</td>\n",
              "      <td>0.798278</td>\n",
              "      <td>-0.137458</td>\n",
              "      <td>0.141267</td>\n",
              "      <td>-0.206010</td>\n",
              "      <td>0.502292</td>\n",
              "      <td>0.219422</td>\n",
              "      <td>0.215153</td>\n",
              "      <td>69.99</td>\n",
              "    </tr>\n",
              "  </tbody>\n",
              "</table>\n",
              "</div>\n",
              "      <button class=\"colab-df-convert\" onclick=\"convertToInteractive('df-25fe0318-f4ec-488d-a996-10a8e677732d')\"\n",
              "              title=\"Convert this dataframe to an interactive table.\"\n",
              "              style=\"display:none;\">\n",
              "        \n",
              "  <svg xmlns=\"http://www.w3.org/2000/svg\" height=\"24px\"viewBox=\"0 0 24 24\"\n",
              "       width=\"24px\">\n",
              "    <path d=\"M0 0h24v24H0V0z\" fill=\"none\"/>\n",
              "    <path d=\"M18.56 5.44l.94 2.06.94-2.06 2.06-.94-2.06-.94-.94-2.06-.94 2.06-2.06.94zm-11 1L8.5 8.5l.94-2.06 2.06-.94-2.06-.94L8.5 2.5l-.94 2.06-2.06.94zm10 10l.94 2.06.94-2.06 2.06-.94-2.06-.94-.94-2.06-.94 2.06-2.06.94z\"/><path d=\"M17.41 7.96l-1.37-1.37c-.4-.4-.92-.59-1.43-.59-.52 0-1.04.2-1.43.59L10.3 9.45l-7.72 7.72c-.78.78-.78 2.05 0 2.83L4 21.41c.39.39.9.59 1.41.59.51 0 1.02-.2 1.41-.59l7.78-7.78 2.81-2.81c.8-.78.8-2.07 0-2.86zM5.41 20L4 18.59l7.72-7.72 1.47 1.35L5.41 20z\"/>\n",
              "  </svg>\n",
              "      </button>\n",
              "      \n",
              "  <style>\n",
              "    .colab-df-container {\n",
              "      display:flex;\n",
              "      flex-wrap:wrap;\n",
              "      gap: 12px;\n",
              "    }\n",
              "\n",
              "    .colab-df-convert {\n",
              "      background-color: #E8F0FE;\n",
              "      border: none;\n",
              "      border-radius: 50%;\n",
              "      cursor: pointer;\n",
              "      display: none;\n",
              "      fill: #1967D2;\n",
              "      height: 32px;\n",
              "      padding: 0 0 0 0;\n",
              "      width: 32px;\n",
              "    }\n",
              "\n",
              "    .colab-df-convert:hover {\n",
              "      background-color: #E2EBFA;\n",
              "      box-shadow: 0px 1px 2px rgba(60, 64, 67, 0.3), 0px 1px 3px 1px rgba(60, 64, 67, 0.15);\n",
              "      fill: #174EA6;\n",
              "    }\n",
              "\n",
              "    [theme=dark] .colab-df-convert {\n",
              "      background-color: #3B4455;\n",
              "      fill: #D2E3FC;\n",
              "    }\n",
              "\n",
              "    [theme=dark] .colab-df-convert:hover {\n",
              "      background-color: #434B5C;\n",
              "      box-shadow: 0px 1px 3px 1px rgba(0, 0, 0, 0.15);\n",
              "      filter: drop-shadow(0px 1px 2px rgba(0, 0, 0, 0.3));\n",
              "      fill: #FFFFFF;\n",
              "    }\n",
              "  </style>\n",
              "\n",
              "      <script>\n",
              "        const buttonEl =\n",
              "          document.querySelector('#df-25fe0318-f4ec-488d-a996-10a8e677732d button.colab-df-convert');\n",
              "        buttonEl.style.display =\n",
              "          google.colab.kernel.accessAllowed ? 'block' : 'none';\n",
              "\n",
              "        async function convertToInteractive(key) {\n",
              "          const element = document.querySelector('#df-25fe0318-f4ec-488d-a996-10a8e677732d');\n",
              "          const dataTable =\n",
              "            await google.colab.kernel.invokeFunction('convertToInteractive',\n",
              "                                                     [key], {});\n",
              "          if (!dataTable) return;\n",
              "\n",
              "          const docLinkHtml = 'Like what you see? Visit the ' +\n",
              "            '<a target=\"_blank\" href=https://colab.research.google.com/notebooks/data_table.ipynb>data table notebook</a>'\n",
              "            + ' to learn more about interactive tables.';\n",
              "          element.innerHTML = '';\n",
              "          dataTable['output_type'] = 'display_data';\n",
              "          await google.colab.output.renderOutput(dataTable, element);\n",
              "          const docLink = document.createElement('div');\n",
              "          docLink.innerHTML = docLinkHtml;\n",
              "          element.appendChild(docLink);\n",
              "        }\n",
              "      </script>\n",
              "    </div>\n",
              "  </div>\n",
              "  "
            ],
            "text/plain": [
              "   Time        V1        V2        V3  ...       V26       V27       V28  Amount\n",
              "0   0.0 -1.359807 -0.072781  2.536347  ... -0.189115  0.133558 -0.021053  149.62\n",
              "1   0.0  1.191857  0.266151  0.166480  ...  0.125895 -0.008983  0.014724    2.69\n",
              "2   1.0 -1.358354 -1.340163  1.773209  ... -0.139097 -0.055353 -0.059752  378.66\n",
              "3   1.0 -0.966272 -0.185226  1.792993  ... -0.221929  0.062723  0.061458  123.50\n",
              "4   2.0 -1.158233  0.877737  1.548718  ...  0.502292  0.219422  0.215153   69.99\n",
              "\n",
              "[5 rows x 30 columns]"
            ]
          },
          "metadata": {},
          "execution_count": 12
        }
      ]
    },
    {
      "cell_type": "code",
      "source": [
        "# visualizando as 5 primeiras observações da variável y\n",
        "y[:5]"
      ],
      "metadata": {
        "colab": {
          "base_uri": "https://localhost:8080/"
        },
        "id": "8hx-xmjvRVEG",
        "outputId": "703c0087-9051-4bc8-f07e-85305010164d"
      },
      "execution_count": 13,
      "outputs": [
        {
          "output_type": "execute_result",
          "data": {
            "text/plain": [
              "0    0\n",
              "1    0\n",
              "2    0\n",
              "3    0\n",
              "4    0\n",
              "Name: Class, dtype: int64"
            ]
          },
          "metadata": {},
          "execution_count": 13
        }
      ]
    },
    {
      "cell_type": "code",
      "source": [
        "# instanciando os dados de treino e teste\n",
        "X_train, X_test, y_train, y_test = train_test_split(X, y, test_size=0.3, stratify=y, shuffle=True, random_state=42)"
      ],
      "metadata": {
        "id": "Z48bMEMzRVCS"
      },
      "execution_count": 14,
      "outputs": []
    },
    {
      "cell_type": "code",
      "source": [
        "# visualizando a quantidade de observações nos dados de treino e teste\n",
        "len(X_train), len(X_test), len(y_train), len(y_test)"
      ],
      "metadata": {
        "colab": {
          "base_uri": "https://localhost:8080/"
        },
        "id": "p1MUHJMaVdTa",
        "outputId": "9ef726bf-0789-455e-c011-1fa0ae7ff187"
      },
      "execution_count": 15,
      "outputs": [
        {
          "output_type": "execute_result",
          "data": {
            "text/plain": [
              "(199364, 85443, 199364, 85443)"
            ]
          },
          "metadata": {},
          "execution_count": 15
        }
      ]
    },
    {
      "cell_type": "code",
      "source": [
        "# instanciando o modelo\n",
        "logReg_model = LogisticRegression(random_state=42)"
      ],
      "metadata": {
        "id": "0pgy_DIIRVAQ"
      },
      "execution_count": 16,
      "outputs": []
    },
    {
      "cell_type": "code",
      "source": [
        "# realizando o treinamento do modelo\n",
        "logReg_model.fit(X_train, y_train)"
      ],
      "metadata": {
        "colab": {
          "base_uri": "https://localhost:8080/"
        },
        "id": "7AgNyUmfRU-F",
        "outputId": "e9636c13-6ba5-4196-88bd-f33838e96100"
      },
      "execution_count": 19,
      "outputs": [
        {
          "output_type": "execute_result",
          "data": {
            "text/plain": [
              "LogisticRegression(random_state=42)"
            ]
          },
          "metadata": {},
          "execution_count": 19
        }
      ]
    },
    {
      "cell_type": "code",
      "source": [
        "# após o treinamento realizando as predições com o modelo nos dados de teste (X_test)\n",
        "y_pred = logReg_model.predict(X_test)\n",
        "\n",
        "# visualizando as 20 primeiras predições\n",
        "y_pred[:20]"
      ],
      "metadata": {
        "id": "x1j0D5tYTVP4",
        "colab": {
          "base_uri": "https://localhost:8080/"
        },
        "outputId": "5e6e7190-45a6-43e8-c682-4545e2b831da"
      },
      "execution_count": 20,
      "outputs": [
        {
          "output_type": "execute_result",
          "data": {
            "text/plain": [
              "array([0, 0, 0, 0, 0, 0, 0, 0, 0, 0, 0, 0, 0, 0, 0, 0, 0, 0, 0, 0])"
            ]
          },
          "metadata": {},
          "execution_count": 20
        }
      ]
    },
    {
      "cell_type": "code",
      "source": [
        "# realizando as predições de probabilidade das classes\n",
        "y_proba = logReg_model.predict_proba(X_test)\n",
        "\n",
        "# visualizando as 20 primeiras probabilidades das observações realizadas com o modelo\n",
        "y_proba[:20]"
      ],
      "metadata": {
        "colab": {
          "base_uri": "https://localhost:8080/"
        },
        "id": "csxBzi0-Wh2M",
        "outputId": "23becb0f-c589-4803-e4a8-0fee318034cd"
      },
      "execution_count": 21,
      "outputs": [
        {
          "output_type": "execute_result",
          "data": {
            "text/plain": [
              "array([[9.99999762e-01, 2.37535042e-07],\n",
              "       [9.99981872e-01, 1.81284641e-05],\n",
              "       [9.99999983e-01, 1.65094493e-08],\n",
              "       [9.99390052e-01, 6.09948196e-04],\n",
              "       [9.98692258e-01, 1.30774221e-03],\n",
              "       [9.99998949e-01, 1.05145435e-06],\n",
              "       [9.99926900e-01, 7.31002811e-05],\n",
              "       [9.99997851e-01, 2.14924808e-06],\n",
              "       [9.99999975e-01, 2.51260817e-08],\n",
              "       [9.99368429e-01, 6.31570572e-04],\n",
              "       [9.99808391e-01, 1.91609260e-04],\n",
              "       [9.99875666e-01, 1.24334239e-04],\n",
              "       [9.92889587e-01, 7.11041284e-03],\n",
              "       [9.99999193e-01, 8.07108570e-07],\n",
              "       [9.99688786e-01, 3.11213738e-04],\n",
              "       [9.99999994e-01, 5.83788961e-09],\n",
              "       [9.93451401e-01, 6.54859936e-03],\n",
              "       [9.99995624e-01, 4.37624218e-06],\n",
              "       [9.99900448e-01, 9.95522854e-05],\n",
              "       [9.99933241e-01, 6.67585134e-05]])"
            ]
          },
          "metadata": {},
          "execution_count": 21
        }
      ]
    },
    {
      "cell_type": "code",
      "source": [
        "# importando a biblioteca para visualização gráfica\n",
        "import scikitplot as skplt"
      ],
      "metadata": {
        "id": "EP06qqVXTVNF"
      },
      "execution_count": 22,
      "outputs": []
    },
    {
      "cell_type": "code",
      "source": [
        "# imprimindo o relatório de classificação\n",
        "print('\\tRelatório de Classificação:\\n', classification_report(y_test, y_pred, digits=4))\n",
        "\n",
        "# imprimindo a acurácia do modelo\n",
        "print('Acurácia: {:.4f}'.format(accuracy_score(y_test, y_pred)))\n",
        "\n",
        "# imprimindo a área sob a curva ROC\n",
        "print('AUC: {:.4f}\\n'.format(roc_auc_score(y_test, y_pred)))\n",
        "\n",
        "# plotando a matrix de confusão\n",
        "skplt.metrics.plot_confusion_matrix(y_test, y_pred, normalize=True, text_fontsize=11,\n",
        "                                    title='Matriz de Confusão - Regressão Logística\\n', figsize=(6,6), );\n"
      ],
      "metadata": {
        "colab": {
          "base_uri": "https://localhost:8080/",
          "height": 594
        },
        "id": "lKgraeDfTVJ6",
        "outputId": "0a04257d-77d2-4763-ae04-e4a1e76cdb1c"
      },
      "execution_count": 23,
      "outputs": [
        {
          "output_type": "stream",
          "name": "stdout",
          "text": [
            "\tRelatório de Classificação:\n",
            "               precision    recall  f1-score   support\n",
            "\n",
            "           0     0.9995    0.9996    0.9995     85295\n",
            "           1     0.7482    0.7027    0.7247       148\n",
            "\n",
            "    accuracy                         0.9991     85443\n",
            "   macro avg     0.8738    0.8511    0.8621     85443\n",
            "weighted avg     0.9990    0.9991    0.9991     85443\n",
            "\n",
            "Acurácia: 0.9991\n",
            "AUC: 0.8511\n",
            "\n"
          ]
        },
        {
          "output_type": "display_data",
          "data": {
            "image/png": "[encoded data removed]",
            "text/plain": [
              "<Figure size 432x432 with 2 Axes>"
            ]
          },
          "metadata": {}
        }
      ]
    },
    {
      "cell_type": "markdown",
      "source": [
        "> O modelo de _Regressão Logística_ obteve uma acurácia de mais de 99%. **E isso é bom ou não?**\n",
        "\n",
        "Vamos analisar os resultados com maior profundidade!\n",
        "\n",
        "Acurácia geral do modelo foi alta, porém analisando com maior cuidado e detalhe a _Matriz de Confusão_ podemos ver que para a classe `0`, que representa as **transações normais**, o modelo consegui classificar corretamente 100% das observações. Já para classe `1`, **transações fraudulentas**, o modelo consegui classificar corretamente somente 70% das observações e, 30% foram classificadas erroneamente, ou seja, os chamados `falsos negativos`. E isso é um problema que devemos considerar, já que a capacidade do modelo de detectar **fraudes** com cartão de crédito no geral foi _pífia_.\n",
        "\n",
        "Vamos tentar melhorar e principalmente mitigar os `falsos negativos`!\n",
        "\n",
        "Aplicaremos técnicas de balanceamento de classes, usaremos a técnica ***Under-sampling***. E para facilitar o pré-processamento, vou usar a biblioteca `imblearn` com sua classe `imblearn.under_sampling`. E depois a biblioteca `RandomUnderSampler` e chamar o método `fit_sample(X_train, y_train)`.\n",
        "\n",
        "❗ Note que está sendo usado o *under-sampling* no conjunto de treino, e não em todos os dados. Isso é muito importante para não desconfigurarmos a característica de teste original do *dataset*."
      ],
      "metadata": {
        "id": "DcNSU5sKWPds"
      }
    },
    {
      "cell_type": "code",
      "source": [
        "# importando a função para realizar o balanceamento das observações das classes do atributo alvo\n",
        "from imblearn.under_sampling import RandomUnderSampler"
      ],
      "metadata": {
        "id": "TeSzpyVoTVET"
      },
      "execution_count": 24,
      "outputs": []
    },
    {
      "cell_type": "code",
      "source": [
        "# instanciando a função no objeto \"rus_model\"\n",
        "rus_model = RandomUnderSampler(random_state=42)"
      ],
      "metadata": {
        "id": "krxyMW0PTU71"
      },
      "execution_count": 25,
      "outputs": []
    },
    {
      "cell_type": "code",
      "source": [
        "# aplicando o objeto \"rus_model\" e com a função \".fit_resample\" \n",
        "# realizando o balanceamento das observações nos dados de treino \"X_train\" e \"y_train\"\n",
        "X_res, y_res = rus_model.fit_resample(X_train, y_train)"
      ],
      "metadata": {
        "id": "bUtZIjo3TU5H"
      },
      "execution_count": 26,
      "outputs": []
    },
    {
      "cell_type": "code",
      "source": [
        "# visualizando as distribuições das observações nas classes\n",
        "print(\n",
        "    pd.Series(y_res).value_counts(),\n",
        "    pd.Series(y_res).value_counts(normalize=True),\n",
        "    sep='\\n\\n'\n",
        ")"
      ],
      "metadata": {
        "colab": {
          "base_uri": "https://localhost:8080/"
        },
        "id": "V3En3y5s5ctp",
        "outputId": "44505159-3d88-4a2a-d8d5-1881f8926d5f"
      },
      "execution_count": 27,
      "outputs": [
        {
          "output_type": "stream",
          "name": "stdout",
          "text": [
            "0    344\n",
            "1    344\n",
            "Name: Class, dtype: int64\n",
            "\n",
            "0    0.5\n",
            "1    0.5\n",
            "Name: Class, dtype: float64\n"
          ]
        }
      ]
    },
    {
      "cell_type": "code",
      "source": [
        "# plotando o gráfico de barras da distribuições das observações\n",
        "plt.figure(figsize=(7,4))\n",
        "sns.countplot(x=y_res);"
      ],
      "metadata": {
        "colab": {
          "base_uri": "https://localhost:8080/",
          "height": 285
        },
        "id": "3S7eFauN5cqf",
        "outputId": "35baa343-4485-491f-f29c-fe5602fb01c0"
      },
      "execution_count": 29,
      "outputs": [
        {
          "output_type": "display_data",
          "data": {
            "image/png": "[encoded data removed]",
            "text/plain": [
              "<Figure size 504x288 with 1 Axes>"
            ]
          },
          "metadata": {}
        }
      ]
    },
    {
      "cell_type": "markdown",
      "source": [
        "> Agora as instâncias das classes está balanceado!\n",
        "\n",
        "Agora novamente, iremos aplicar o modelo de _Regressão Logística_ e treiná-lo nos dados balanceados e, por fim analisar os resultados."
      ],
      "metadata": {
        "id": "8O3MvXcE7P1P"
      }
    },
    {
      "cell_type": "code",
      "source": [
        "# instanciando o modelo\n",
        "model_res = LogisticRegression(random_state=42)"
      ],
      "metadata": {
        "id": "xVxXj-CC5cnm"
      },
      "execution_count": 30,
      "outputs": []
    },
    {
      "cell_type": "code",
      "source": [
        "# treinando o modelo com as classes balanceadas\n",
        "model_res.fit(X_res, y_res)"
      ],
      "metadata": {
        "colab": {
          "base_uri": "https://localhost:8080/"
        },
        "id": "WggjNrC466Ai",
        "outputId": "df65b3e4-2693-45a0-8c05-4df92e81b259"
      },
      "execution_count": 31,
      "outputs": [
        {
          "output_type": "execute_result",
          "data": {
            "text/plain": [
              "LogisticRegression(random_state=42)"
            ]
          },
          "metadata": {},
          "execution_count": 31
        }
      ]
    },
    {
      "cell_type": "code",
      "source": [
        "# realizando as predições e o cálculo das probabilidades das classes\n",
        "y_pred_res = model_res.predict(X_test)\n",
        "y_proba_res = model_res.predict_proba(X_test)"
      ],
      "metadata": {
        "id": "8nPfoCti65-K"
      },
      "execution_count": 32,
      "outputs": []
    },
    {
      "cell_type": "code",
      "source": [
        "# imprimindo o relatório de classificação\n",
        "print('\\tRelatório de Classificação:\\n', classification_report(y_test, y_pred_res, digits=4))\n",
        "\n",
        "# imprimindo a acurácia do modelo\n",
        "print('Acurácia: {:.4f}'.format(accuracy_score(y_test, y_pred_res)))\n",
        "\n",
        "# imprimindo a área sob a curva ROC\n",
        "print('AUC: {:.4f}\\n'.format(roc_auc_score(y_test, y_pred_res)))\n",
        "\n",
        "# plotando a matrix de confusão\n",
        "skplt.metrics.plot_confusion_matrix(y_test, y_pred_res, normalize=True, text_fontsize=11,\n",
        "                                    title='Matriz de Confusão - Regressão Logística\\n', figsize=(8,8), );"
      ],
      "metadata": {
        "colab": {
          "base_uri": "https://localhost:8080/",
          "height": 692
        },
        "id": "uqn049_T657H",
        "outputId": "1fef1591-c53c-4612-9047-1fd8b1fd167e"
      },
      "execution_count": 33,
      "outputs": [
        {
          "output_type": "stream",
          "name": "stdout",
          "text": [
            "\tRelatório de Classificação:\n",
            "               precision    recall  f1-score   support\n",
            "\n",
            "           0     0.9997    0.9575    0.9782     85295\n",
            "           1     0.0338    0.8581    0.0651       148\n",
            "\n",
            "    accuracy                         0.9573     85443\n",
            "   macro avg     0.5168    0.9078    0.5216     85443\n",
            "weighted avg     0.9981    0.9573    0.9766     85443\n",
            "\n",
            "Acurácia: 0.9573\n",
            "AUC: 0.9078\n",
            "\n"
          ]
        },
        {
          "output_type": "display_data",
          "data": {
            "image/png": "[encoded data removed]",
            "text/plain": [
              "<Figure size 576x576 with 2 Axes>"
            ]
          },
          "metadata": {}
        }
      ]
    },
    {
      "cell_type": "markdown",
      "source": [
        "> Podemos ver que houve uma diminuição da acurácia geral do modelo, em contrapartida obtivemos um aumento significativo na capacidade do modelo em detectar fraudes. \n",
        "\n",
        "Apenas pelo fato de balancearmos os dados, melhoramos diversos parâmetros como `recall` e a área sob a curva (AUC), que são métricas extremamente importantes para o problema que estamos lidando."
      ],
      "metadata": {
        "id": "OU9MsYdI9C1Y"
      }
    },
    {
      "cell_type": "markdown",
      "source": [
        "## Vamos explorar outro exemplo"
      ],
      "metadata": {
        "id": "sdu0uglXDbbc"
      }
    },
    {
      "cell_type": "markdown",
      "source": [
        "O conjunto de dados que será utilizado está disponível no repositório [UCI Machine Learning Repository](https://archive.ics.uci.edu/ml/datasets/Bank+Marketing).\n",
        "\n",
        "Os dados estão relacionados com campanhas de marketing direto de uma instituição bancária portuguesa.\n",
        "\n",
        "As campanhas de marketing foram baseadas em telefonemas. Frequentemente, era necessário mais de um contato para o mesmo cliente, para responder se ele aceitaria (`yes`) o termo de crédito ou não (`no`)."
      ],
      "metadata": {
        "id": "QxySnl6jEAJc"
      }
    },
    {
      "cell_type": "code",
      "source": [
        "# importando o conjunto de dados de uma url\n",
        "!wget https://archive.ics.uci.edu/ml/machine-learning-databases/00222/bank.zip"
      ],
      "metadata": {
        "colab": {
          "base_uri": "https://localhost:8080/"
        },
        "id": "rJJas7bYDXcH",
        "outputId": "208f98df-0503-4093-97ac-b4410bea46c7"
      },
      "execution_count": 34,
      "outputs": [
        {
          "output_type": "stream",
          "name": "stdout",
          "text": [
            "--2022-02-10 22:38:06--  https://archive.ics.uci.edu/ml/machine-learning-databases/00222/bank.zip\n",
            "Resolving archive.ics.uci.edu (archive.ics.uci.edu)... 128.195.10.252\n",
            "Connecting to archive.ics.uci.edu (archive.ics.uci.edu)|128.195.10.252|:443... connected.\n",
            "HTTP request sent, awaiting response... 200 OK\n",
            "Length: 579043 (565K) [application/x-httpd-php]\n",
            "Saving to: ‘bank.zip’\n",
            "\n",
            "bank.zip            100%[===================>] 565.47K  1.73MB/s    in 0.3s    \n",
            "\n",
            "2022-02-10 22:38:06 (1.73 MB/s) - ‘bank.zip’ saved [579043/579043]\n",
            "\n"
          ]
        }
      ]
    },
    {
      "cell_type": "code",
      "source": [
        "# visualizando o diretório principal\n",
        "%ls"
      ],
      "metadata": {
        "colab": {
          "base_uri": "https://localhost:8080/"
        },
        "id": "sug-S9-tZg0c",
        "outputId": "58c17d7c-9663-48d2-a795-89075f185919"
      },
      "execution_count": 35,
      "outputs": [
        {
          "output_type": "stream",
          "name": "stdout",
          "text": [
            " bank.zip  'creditcard.csv?dl=1'   \u001b[0m\u001b[01;34msample_data\u001b[0m/\n"
          ]
        }
      ]
    },
    {
      "cell_type": "markdown",
      "source": [
        "> Perceba que, o arquivo está zipado. Portanto é necessário descompactá-lo."
      ],
      "metadata": {
        "id": "iE9S3CjvaADZ"
      }
    },
    {
      "cell_type": "code",
      "source": [
        "# descompactando o arquivo\n",
        "!unzip '/content/bank.zip'"
      ],
      "metadata": {
        "colab": {
          "base_uri": "https://localhost:8080/"
        },
        "id": "86s71vfuDXZi",
        "outputId": "c889f501-76f6-420b-b0f3-75b3d6594b82"
      },
      "execution_count": 36,
      "outputs": [
        {
          "output_type": "stream",
          "name": "stdout",
          "text": [
            "Archive:  /content/bank.zip\n",
            "  inflating: bank-full.csv           \n",
            "  inflating: bank-names.txt          \n",
            "  inflating: bank.csv                \n"
          ]
        }
      ]
    },
    {
      "cell_type": "code",
      "source": [
        "# visualizando novamente o diretório principal para vermos se o arquivo foi descompactado\n",
        "%ls"
      ],
      "metadata": {
        "colab": {
          "base_uri": "https://localhost:8080/"
        },
        "id": "ZkDA0TrFDXWL",
        "outputId": "4306fcca-0188-4736-badf-060742582e47"
      },
      "execution_count": 37,
      "outputs": [
        {
          "output_type": "stream",
          "name": "stdout",
          "text": [
            " bank.csv        bank-names.txt  'creditcard.csv?dl=1'\n",
            " bank-full.csv   bank.zip         \u001b[0m\u001b[01;34msample_data\u001b[0m/\n"
          ]
        }
      ]
    },
    {
      "cell_type": "markdown",
      "source": [
        "> Temos três tipos de arquivos e, para nossa atividade prática usaremos o `bank-full.csv`."
      ],
      "metadata": {
        "id": "RkIoGA0VadiM"
      }
    },
    {
      "cell_type": "code",
      "source": [
        "# visualizando o conjunto de dados\n",
        "!head bank-full.csv"
      ],
      "metadata": {
        "colab": {
          "base_uri": "https://localhost:8080/"
        },
        "id": "lXTy4ubUE3Zl",
        "outputId": "a4ca3b0c-99b5-44d5-d82b-9def91ee50db"
      },
      "execution_count": 38,
      "outputs": [
        {
          "output_type": "stream",
          "name": "stdout",
          "text": [
            "\"age\";\"job\";\"marital\";\"education\";\"default\";\"balance\";\"housing\";\"loan\";\"contact\";\"day\";\"month\";\"duration\";\"campaign\";\"pdays\";\"previous\";\"poutcome\";\"y\"\n",
            "58;\"management\";\"married\";\"tertiary\";\"no\";2143;\"yes\";\"no\";\"unknown\";5;\"may\";261;1;-1;0;\"unknown\";\"no\"\n",
            "44;\"technician\";\"single\";\"secondary\";\"no\";29;\"yes\";\"no\";\"unknown\";5;\"may\";151;1;-1;0;\"unknown\";\"no\"\n",
            "33;\"entrepreneur\";\"married\";\"secondary\";\"no\";2;\"yes\";\"yes\";\"unknown\";5;\"may\";76;1;-1;0;\"unknown\";\"no\"\n",
            "47;\"blue-collar\";\"married\";\"unknown\";\"no\";1506;\"yes\";\"no\";\"unknown\";5;\"may\";92;1;-1;0;\"unknown\";\"no\"\n",
            "33;\"unknown\";\"single\";\"unknown\";\"no\";1;\"no\";\"no\";\"unknown\";5;\"may\";198;1;-1;0;\"unknown\";\"no\"\n",
            "35;\"management\";\"married\";\"tertiary\";\"no\";231;\"yes\";\"no\";\"unknown\";5;\"may\";139;1;-1;0;\"unknown\";\"no\"\n",
            "28;\"management\";\"single\";\"tertiary\";\"no\";447;\"yes\";\"yes\";\"unknown\";5;\"may\";217;1;-1;0;\"unknown\";\"no\"\n",
            "42;\"entrepreneur\";\"divorced\";\"tertiary\";\"yes\";2;\"yes\";\"no\";\"unknown\";5;\"may\";380;1;-1;0;\"unknown\";\"no\"\n",
            "58;\"retired\";\"married\";\"primary\";\"no\";121;\"yes\";\"no\";\"unknown\";5;\"may\";50;1;-1;0;\"unknown\";\"no\"\n"
          ]
        }
      ]
    },
    {
      "cell_type": "code",
      "source": [
        "# importando a biblioteca para análise e manipulação de dados\n",
        "import pandas as pd"
      ],
      "metadata": {
        "id": "xpTXRyCgDXUA"
      },
      "execution_count": 39,
      "outputs": []
    },
    {
      "cell_type": "code",
      "source": [
        "# instanciando o conjunto de dados no objeto \"df_bank\"\n",
        "df_bank = pd.read_csv('bank-full.csv', sep=';')\n",
        "\n",
        "# visualizando as 5 primeiras observações\n",
        "df_bank.head()"
      ],
      "metadata": {
        "colab": {
          "base_uri": "https://localhost:8080/",
          "height": 206
        },
        "id": "1dqQOlhTDXQj",
        "outputId": "ed8077af-361d-4d71-fe2e-0ba7b21245e2"
      },
      "execution_count": 40,
      "outputs": [
        {
          "output_type": "execute_result",
          "data": {
            "text/html": [
              "\n",
              "  <div id=\"df-6cf925e0-9cd8-45af-8f56-2567a25f2599\">\n",
              "    <div class=\"colab-df-container\">\n",
              "      <div>\n",
              "<style scoped>\n",
              "    .dataframe tbody tr th:only-of-type {\n",
              "        vertical-align: middle;\n",
              "    }\n",
              "\n",
              "    .dataframe tbody tr th {\n",
              "        vertical-align: top;\n",
              "    }\n",
              "\n",
              "    .dataframe thead th {\n",
              "        text-align: right;\n",
              "    }\n",
              "</style>\n",
              "<table border=\"1\" class=\"dataframe\">\n",
              "  <thead>\n",
              "    <tr style=\"text-align: right;\">\n",
              "      <th></th>\n",
              "      <th>age</th>\n",
              "      <th>job</th>\n",
              "      <th>marital</th>\n",
              "      <th>education</th>\n",
              "      <th>default</th>\n",
              "      <th>balance</th>\n",
              "      <th>housing</th>\n",
              "      <th>loan</th>\n",
              "      <th>contact</th>\n",
              "      <th>day</th>\n",
              "      <th>month</th>\n",
              "      <th>duration</th>\n",
              "      <th>campaign</th>\n",
              "      <th>pdays</th>\n",
              "      <th>previous</th>\n",
              "      <th>poutcome</th>\n",
              "      <th>y</th>\n",
              "    </tr>\n",
              "  </thead>\n",
              "  <tbody>\n",
              "    <tr>\n",
              "      <th>0</th>\n",
              "      <td>58</td>\n",
              "      <td>management</td>\n",
              "      <td>married</td>\n",
              "      <td>tertiary</td>\n",
              "      <td>no</td>\n",
              "      <td>2143</td>\n",
              "      <td>yes</td>\n",
              "      <td>no</td>\n",
              "      <td>unknown</td>\n",
              "      <td>5</td>\n",
              "      <td>may</td>\n",
              "      <td>261</td>\n",
              "      <td>1</td>\n",
              "      <td>-1</td>\n",
              "      <td>0</td>\n",
              "      <td>unknown</td>\n",
              "      <td>no</td>\n",
              "    </tr>\n",
              "    <tr>\n",
              "      <th>1</th>\n",
              "      <td>44</td>\n",
              "      <td>technician</td>\n",
              "      <td>single</td>\n",
              "      <td>secondary</td>\n",
              "      <td>no</td>\n",
              "      <td>29</td>\n",
              "      <td>yes</td>\n",
              "      <td>no</td>\n",
              "      <td>unknown</td>\n",
              "      <td>5</td>\n",
              "      <td>may</td>\n",
              "      <td>151</td>\n",
              "      <td>1</td>\n",
              "      <td>-1</td>\n",
              "      <td>0</td>\n",
              "      <td>unknown</td>\n",
              "      <td>no</td>\n",
              "    </tr>\n",
              "    <tr>\n",
              "      <th>2</th>\n",
              "      <td>33</td>\n",
              "      <td>entrepreneur</td>\n",
              "      <td>married</td>\n",
              "      <td>secondary</td>\n",
              "      <td>no</td>\n",
              "      <td>2</td>\n",
              "      <td>yes</td>\n",
              "      <td>yes</td>\n",
              "      <td>unknown</td>\n",
              "      <td>5</td>\n",
              "      <td>may</td>\n",
              "      <td>76</td>\n",
              "      <td>1</td>\n",
              "      <td>-1</td>\n",
              "      <td>0</td>\n",
              "      <td>unknown</td>\n",
              "      <td>no</td>\n",
              "    </tr>\n",
              "    <tr>\n",
              "      <th>3</th>\n",
              "      <td>47</td>\n",
              "      <td>blue-collar</td>\n",
              "      <td>married</td>\n",
              "      <td>unknown</td>\n",
              "      <td>no</td>\n",
              "      <td>1506</td>\n",
              "      <td>yes</td>\n",
              "      <td>no</td>\n",
              "      <td>unknown</td>\n",
              "      <td>5</td>\n",
              "      <td>may</td>\n",
              "      <td>92</td>\n",
              "      <td>1</td>\n",
              "      <td>-1</td>\n",
              "      <td>0</td>\n",
              "      <td>unknown</td>\n",
              "      <td>no</td>\n",
              "    </tr>\n",
              "    <tr>\n",
              "      <th>4</th>\n",
              "      <td>33</td>\n",
              "      <td>unknown</td>\n",
              "      <td>single</td>\n",
              "      <td>unknown</td>\n",
              "      <td>no</td>\n",
              "      <td>1</td>\n",
              "      <td>no</td>\n",
              "      <td>no</td>\n",
              "      <td>unknown</td>\n",
              "      <td>5</td>\n",
              "      <td>may</td>\n",
              "      <td>198</td>\n",
              "      <td>1</td>\n",
              "      <td>-1</td>\n",
              "      <td>0</td>\n",
              "      <td>unknown</td>\n",
              "      <td>no</td>\n",
              "    </tr>\n",
              "  </tbody>\n",
              "</table>\n",
              "</div>\n",
              "      <button class=\"colab-df-convert\" onclick=\"convertToInteractive('df-6cf925e0-9cd8-45af-8f56-2567a25f2599')\"\n",
              "              title=\"Convert this dataframe to an interactive table.\"\n",
              "              style=\"display:none;\">\n",
              "        \n",
              "  <svg xmlns=\"http://www.w3.org/2000/svg\" height=\"24px\"viewBox=\"0 0 24 24\"\n",
              "       width=\"24px\">\n",
              "    <path d=\"M0 0h24v24H0V0z\" fill=\"none\"/>\n",
              "    <path d=\"M18.56 5.44l.94 2.06.94-2.06 2.06-.94-2.06-.94-.94-2.06-.94 2.06-2.06.94zm-11 1L8.5 8.5l.94-2.06 2.06-.94-2.06-.94L8.5 2.5l-.94 2.06-2.06.94zm10 10l.94 2.06.94-2.06 2.06-.94-2.06-.94-.94-2.06-.94 2.06-2.06.94z\"/><path d=\"M17.41 7.96l-1.37-1.37c-.4-.4-.92-.59-1.43-.59-.52 0-1.04.2-1.43.59L10.3 9.45l-7.72 7.72c-.78.78-.78 2.05 0 2.83L4 21.41c.39.39.9.59 1.41.59.51 0 1.02-.2 1.41-.59l7.78-7.78 2.81-2.81c.8-.78.8-2.07 0-2.86zM5.41 20L4 18.59l7.72-7.72 1.47 1.35L5.41 20z\"/>\n",
              "  </svg>\n",
              "      </button>\n",
              "      \n",
              "  <style>\n",
              "    .colab-df-container {\n",
              "      display:flex;\n",
              "      flex-wrap:wrap;\n",
              "      gap: 12px;\n",
              "    }\n",
              "\n",
              "    .colab-df-convert {\n",
              "      background-color: #E8F0FE;\n",
              "      border: none;\n",
              "      border-radius: 50%;\n",
              "      cursor: pointer;\n",
              "      display: none;\n",
              "      fill: #1967D2;\n",
              "      height: 32px;\n",
              "      padding: 0 0 0 0;\n",
              "      width: 32px;\n",
              "    }\n",
              "\n",
              "    .colab-df-convert:hover {\n",
              "      background-color: #E2EBFA;\n",
              "      box-shadow: 0px 1px 2px rgba(60, 64, 67, 0.3), 0px 1px 3px 1px rgba(60, 64, 67, 0.15);\n",
              "      fill: #174EA6;\n",
              "    }\n",
              "\n",
              "    [theme=dark] .colab-df-convert {\n",
              "      background-color: #3B4455;\n",
              "      fill: #D2E3FC;\n",
              "    }\n",
              "\n",
              "    [theme=dark] .colab-df-convert:hover {\n",
              "      background-color: #434B5C;\n",
              "      box-shadow: 0px 1px 3px 1px rgba(0, 0, 0, 0.15);\n",
              "      filter: drop-shadow(0px 1px 2px rgba(0, 0, 0, 0.3));\n",
              "      fill: #FFFFFF;\n",
              "    }\n",
              "  </style>\n",
              "\n",
              "      <script>\n",
              "        const buttonEl =\n",
              "          document.querySelector('#df-6cf925e0-9cd8-45af-8f56-2567a25f2599 button.colab-df-convert');\n",
              "        buttonEl.style.display =\n",
              "          google.colab.kernel.accessAllowed ? 'block' : 'none';\n",
              "\n",
              "        async function convertToInteractive(key) {\n",
              "          const element = document.querySelector('#df-6cf925e0-9cd8-45af-8f56-2567a25f2599');\n",
              "          const dataTable =\n",
              "            await google.colab.kernel.invokeFunction('convertToInteractive',\n",
              "                                                     [key], {});\n",
              "          if (!dataTable) return;\n",
              "\n",
              "          const docLinkHtml = 'Like what you see? Visit the ' +\n",
              "            '<a target=\"_blank\" href=https://colab.research.google.com/notebooks/data_table.ipynb>data table notebook</a>'\n",
              "            + ' to learn more about interactive tables.';\n",
              "          element.innerHTML = '';\n",
              "          dataTable['output_type'] = 'display_data';\n",
              "          await google.colab.output.renderOutput(dataTable, element);\n",
              "          const docLink = document.createElement('div');\n",
              "          docLink.innerHTML = docLinkHtml;\n",
              "          element.appendChild(docLink);\n",
              "        }\n",
              "      </script>\n",
              "    </div>\n",
              "  </div>\n",
              "  "
            ],
            "text/plain": [
              "   age           job  marital  education  ... pdays  previous poutcome   y\n",
              "0   58    management  married   tertiary  ...    -1         0  unknown  no\n",
              "1   44    technician   single  secondary  ...    -1         0  unknown  no\n",
              "2   33  entrepreneur  married  secondary  ...    -1         0  unknown  no\n",
              "3   47   blue-collar  married    unknown  ...    -1         0  unknown  no\n",
              "4   33       unknown   single    unknown  ...    -1         0  unknown  no\n",
              "\n",
              "[5 rows x 17 columns]"
            ]
          },
          "metadata": {},
          "execution_count": 40
        }
      ]
    },
    {
      "cell_type": "code",
      "source": [
        "# informações gerais do conjunto de dados\n",
        "df_bank.info()"
      ],
      "metadata": {
        "colab": {
          "base_uri": "https://localhost:8080/"
        },
        "id": "AzjYjbdwExDs",
        "outputId": "3be2441d-7c29-4f02-c8ea-fa8250ff7cc0"
      },
      "execution_count": 41,
      "outputs": [
        {
          "output_type": "stream",
          "name": "stdout",
          "text": [
            "<class 'pandas.core.frame.DataFrame'>\n",
            "RangeIndex: 45211 entries, 0 to 45210\n",
            "Data columns (total 17 columns):\n",
            " #   Column     Non-Null Count  Dtype \n",
            "---  ------     --------------  ----- \n",
            " 0   age        45211 non-null  int64 \n",
            " 1   job        45211 non-null  object\n",
            " 2   marital    45211 non-null  object\n",
            " 3   education  45211 non-null  object\n",
            " 4   default    45211 non-null  object\n",
            " 5   balance    45211 non-null  int64 \n",
            " 6   housing    45211 non-null  object\n",
            " 7   loan       45211 non-null  object\n",
            " 8   contact    45211 non-null  object\n",
            " 9   day        45211 non-null  int64 \n",
            " 10  month      45211 non-null  object\n",
            " 11  duration   45211 non-null  int64 \n",
            " 12  campaign   45211 non-null  int64 \n",
            " 13  pdays      45211 non-null  int64 \n",
            " 14  previous   45211 non-null  int64 \n",
            " 15  poutcome   45211 non-null  object\n",
            " 16  y          45211 non-null  object\n",
            "dtypes: int64(7), object(10)\n",
            "memory usage: 5.9+ MB\n"
          ]
        }
      ]
    },
    {
      "cell_type": "markdown",
      "source": [
        "> Temos várias colunas classificadas como `object` e, precisamos transforma-las em colunas numéricas.\n",
        "\n",
        "Essa preparação dos dados é muito importante para trabalhar com técnicas de _Machine Learning._"
      ],
      "metadata": {
        "id": "6ot_oYC0Frtc"
      }
    },
    {
      "cell_type": "markdown",
      "source": [
        "Primeiro irei realizar o tratamento do atributo `month`."
      ],
      "metadata": {
        "id": "M5_hZMJGbYo4"
      }
    },
    {
      "cell_type": "code",
      "source": [
        "# tratando o atributo \"month\"\n",
        "df_bank['month'] = pd.to_datetime(df_bank['month'], format='%b').dt.month"
      ],
      "metadata": {
        "id": "q8zbhUYzEw-m"
      },
      "execution_count": 42,
      "outputs": []
    },
    {
      "cell_type": "code",
      "source": [
        "# instanciando as demais colunas de interesse para realizar a transformação para dados numéricos\n",
        "cols = ['education', 'default', 'housing', 'loan', 'contact', 'poutcome', 'y']\n",
        "cols"
      ],
      "metadata": {
        "colab": {
          "base_uri": "https://localhost:8080/"
        },
        "id": "jtXN9CbzMDKQ",
        "outputId": "bc95e06f-dc30-4272-a8cb-51d7e4fa2d7f"
      },
      "execution_count": 43,
      "outputs": [
        {
          "output_type": "execute_result",
          "data": {
            "text/plain": [
              "['education', 'default', 'housing', 'loan', 'contact', 'poutcome', 'y']"
            ]
          },
          "metadata": {},
          "execution_count": 43
        }
      ]
    },
    {
      "cell_type": "code",
      "source": [
        "# realizando a conversão das variáveis categóricas para variáveis numéricas \n",
        "for cols in df_bank[cols]:\n",
        "    df_bank[cols] = df_bank[cols].astype('category')\n",
        "\n",
        "    # imprimindo o mapeamento\n",
        "    print(cols, '\\t', dict(enumerate(df_bank[cols].cat.categories)), end='\\n\\n')\n",
        "\n",
        "    df_bank[cols] = df_bank[cols].cat.codes"
      ],
      "metadata": {
        "colab": {
          "base_uri": "https://localhost:8080/"
        },
        "id": "vzvN9-0WNDZI",
        "outputId": "039d2640-f1b9-4d8b-969b-996bba865bee"
      },
      "execution_count": 44,
      "outputs": [
        {
          "output_type": "stream",
          "name": "stdout",
          "text": [
            "education \t {0: 'primary', 1: 'secondary', 2: 'tertiary', 3: 'unknown'}\n",
            "\n",
            "default \t {0: 'no', 1: 'yes'}\n",
            "\n",
            "housing \t {0: 'no', 1: 'yes'}\n",
            "\n",
            "loan \t {0: 'no', 1: 'yes'}\n",
            "\n",
            "contact \t {0: 'cellular', 1: 'telephone', 2: 'unknown'}\n",
            "\n",
            "poutcome \t {0: 'failure', 1: 'other', 2: 'success', 3: 'unknown'}\n",
            "\n",
            "y \t {0: 'no', 1: 'yes'}\n",
            "\n"
          ]
        }
      ]
    },
    {
      "cell_type": "code",
      "source": [
        "# # realizando a conversão das variáveis categóricas para variáveis numéricas \n",
        "# for cols in df_bank.select_dtypes(include='object').columns:\n",
        "#     df_bank[cols] = df_bank[cols].astype('category')\n",
        "\n",
        "#     # imprimindo o mapeamento\n",
        "#     print(cols, '\\t', dict(enumerate(df_bank[cols].cat.categories)), end='\\n\\n')\n",
        "\n",
        "#     df_bank[cols] = df_bank[cols].cat.codes"
      ],
      "metadata": {
        "id": "yHkghRGuExCF"
      },
      "execution_count": null,
      "outputs": []
    },
    {
      "cell_type": "code",
      "source": [
        "# visualizando o conjunto de dados\n",
        "df_bank"
      ],
      "metadata": {
        "colab": {
          "base_uri": "https://localhost:8080/",
          "height": 424
        },
        "id": "13LrR2G8Ew8M",
        "outputId": "269f32a0-49b7-49ee-f28b-c1c705eae17e"
      },
      "execution_count": 45,
      "outputs": [
        {
          "output_type": "execute_result",
          "data": {
            "text/html": [
              "\n",
              "  <div id=\"df-139f20f2-30c2-4249-a5a3-c2636d540b23\">\n",
              "    <div class=\"colab-df-container\">\n",
              "      <div>\n",
              "<style scoped>\n",
              "    .dataframe tbody tr th:only-of-type {\n",
              "        vertical-align: middle;\n",
              "    }\n",
              "\n",
              "    .dataframe tbody tr th {\n",
              "        vertical-align: top;\n",
              "    }\n",
              "\n",
              "    .dataframe thead th {\n",
              "        text-align: right;\n",
              "    }\n",
              "</style>\n",
              "<table border=\"1\" class=\"dataframe\">\n",
              "  <thead>\n",
              "    <tr style=\"text-align: right;\">\n",
              "      <th></th>\n",
              "      <th>age</th>\n",
              "      <th>job</th>\n",
              "      <th>marital</th>\n",
              "      <th>education</th>\n",
              "      <th>default</th>\n",
              "      <th>balance</th>\n",
              "      <th>housing</th>\n",
              "      <th>loan</th>\n",
              "      <th>contact</th>\n",
              "      <th>day</th>\n",
              "      <th>month</th>\n",
              "      <th>duration</th>\n",
              "      <th>campaign</th>\n",
              "      <th>pdays</th>\n",
              "      <th>previous</th>\n",
              "      <th>poutcome</th>\n",
              "      <th>y</th>\n",
              "    </tr>\n",
              "  </thead>\n",
              "  <tbody>\n",
              "    <tr>\n",
              "      <th>0</th>\n",
              "      <td>58</td>\n",
              "      <td>management</td>\n",
              "      <td>married</td>\n",
              "      <td>2</td>\n",
              "      <td>0</td>\n",
              "      <td>2143</td>\n",
              "      <td>1</td>\n",
              "      <td>0</td>\n",
              "      <td>2</td>\n",
              "      <td>5</td>\n",
              "      <td>5</td>\n",
              "      <td>261</td>\n",
              "      <td>1</td>\n",
              "      <td>-1</td>\n",
              "      <td>0</td>\n",
              "      <td>3</td>\n",
              "      <td>0</td>\n",
              "    </tr>\n",
              "    <tr>\n",
              "      <th>1</th>\n",
              "      <td>44</td>\n",
              "      <td>technician</td>\n",
              "      <td>single</td>\n",
              "      <td>1</td>\n",
              "      <td>0</td>\n",
              "      <td>29</td>\n",
              "      <td>1</td>\n",
              "      <td>0</td>\n",
              "      <td>2</td>\n",
              "      <td>5</td>\n",
              "      <td>5</td>\n",
              "      <td>151</td>\n",
              "      <td>1</td>\n",
              "      <td>-1</td>\n",
              "      <td>0</td>\n",
              "      <td>3</td>\n",
              "      <td>0</td>\n",
              "    </tr>\n",
              "    <tr>\n",
              "      <th>2</th>\n",
              "      <td>33</td>\n",
              "      <td>entrepreneur</td>\n",
              "      <td>married</td>\n",
              "      <td>1</td>\n",
              "      <td>0</td>\n",
              "      <td>2</td>\n",
              "      <td>1</td>\n",
              "      <td>1</td>\n",
              "      <td>2</td>\n",
              "      <td>5</td>\n",
              "      <td>5</td>\n",
              "      <td>76</td>\n",
              "      <td>1</td>\n",
              "      <td>-1</td>\n",
              "      <td>0</td>\n",
              "      <td>3</td>\n",
              "      <td>0</td>\n",
              "    </tr>\n",
              "    <tr>\n",
              "      <th>3</th>\n",
              "      <td>47</td>\n",
              "      <td>blue-collar</td>\n",
              "      <td>married</td>\n",
              "      <td>3</td>\n",
              "      <td>0</td>\n",
              "      <td>1506</td>\n",
              "      <td>1</td>\n",
              "      <td>0</td>\n",
              "      <td>2</td>\n",
              "      <td>5</td>\n",
              "      <td>5</td>\n",
              "      <td>92</td>\n",
              "      <td>1</td>\n",
              "      <td>-1</td>\n",
              "      <td>0</td>\n",
              "      <td>3</td>\n",
              "      <td>0</td>\n",
              "    </tr>\n",
              "    <tr>\n",
              "      <th>4</th>\n",
              "      <td>33</td>\n",
              "      <td>unknown</td>\n",
              "      <td>single</td>\n",
              "      <td>3</td>\n",
              "      <td>0</td>\n",
              "      <td>1</td>\n",
              "      <td>0</td>\n",
              "      <td>0</td>\n",
              "      <td>2</td>\n",
              "      <td>5</td>\n",
              "      <td>5</td>\n",
              "      <td>198</td>\n",
              "      <td>1</td>\n",
              "      <td>-1</td>\n",
              "      <td>0</td>\n",
              "      <td>3</td>\n",
              "      <td>0</td>\n",
              "    </tr>\n",
              "    <tr>\n",
              "      <th>...</th>\n",
              "      <td>...</td>\n",
              "      <td>...</td>\n",
              "      <td>...</td>\n",
              "      <td>...</td>\n",
              "      <td>...</td>\n",
              "      <td>...</td>\n",
              "      <td>...</td>\n",
              "      <td>...</td>\n",
              "      <td>...</td>\n",
              "      <td>...</td>\n",
              "      <td>...</td>\n",
              "      <td>...</td>\n",
              "      <td>...</td>\n",
              "      <td>...</td>\n",
              "      <td>...</td>\n",
              "      <td>...</td>\n",
              "      <td>...</td>\n",
              "    </tr>\n",
              "    <tr>\n",
              "      <th>45206</th>\n",
              "      <td>51</td>\n",
              "      <td>technician</td>\n",
              "      <td>married</td>\n",
              "      <td>2</td>\n",
              "      <td>0</td>\n",
              "      <td>825</td>\n",
              "      <td>0</td>\n",
              "      <td>0</td>\n",
              "      <td>0</td>\n",
              "      <td>17</td>\n",
              "      <td>11</td>\n",
              "      <td>977</td>\n",
              "      <td>3</td>\n",
              "      <td>-1</td>\n",
              "      <td>0</td>\n",
              "      <td>3</td>\n",
              "      <td>1</td>\n",
              "    </tr>\n",
              "    <tr>\n",
              "      <th>45207</th>\n",
              "      <td>71</td>\n",
              "      <td>retired</td>\n",
              "      <td>divorced</td>\n",
              "      <td>0</td>\n",
              "      <td>0</td>\n",
              "      <td>1729</td>\n",
              "      <td>0</td>\n",
              "      <td>0</td>\n",
              "      <td>0</td>\n",
              "      <td>17</td>\n",
              "      <td>11</td>\n",
              "      <td>456</td>\n",
              "      <td>2</td>\n",
              "      <td>-1</td>\n",
              "      <td>0</td>\n",
              "      <td>3</td>\n",
              "      <td>1</td>\n",
              "    </tr>\n",
              "    <tr>\n",
              "      <th>45208</th>\n",
              "      <td>72</td>\n",
              "      <td>retired</td>\n",
              "      <td>married</td>\n",
              "      <td>1</td>\n",
              "      <td>0</td>\n",
              "      <td>5715</td>\n",
              "      <td>0</td>\n",
              "      <td>0</td>\n",
              "      <td>0</td>\n",
              "      <td>17</td>\n",
              "      <td>11</td>\n",
              "      <td>1127</td>\n",
              "      <td>5</td>\n",
              "      <td>184</td>\n",
              "      <td>3</td>\n",
              "      <td>2</td>\n",
              "      <td>1</td>\n",
              "    </tr>\n",
              "    <tr>\n",
              "      <th>45209</th>\n",
              "      <td>57</td>\n",
              "      <td>blue-collar</td>\n",
              "      <td>married</td>\n",
              "      <td>1</td>\n",
              "      <td>0</td>\n",
              "      <td>668</td>\n",
              "      <td>0</td>\n",
              "      <td>0</td>\n",
              "      <td>1</td>\n",
              "      <td>17</td>\n",
              "      <td>11</td>\n",
              "      <td>508</td>\n",
              "      <td>4</td>\n",
              "      <td>-1</td>\n",
              "      <td>0</td>\n",
              "      <td>3</td>\n",
              "      <td>0</td>\n",
              "    </tr>\n",
              "    <tr>\n",
              "      <th>45210</th>\n",
              "      <td>37</td>\n",
              "      <td>entrepreneur</td>\n",
              "      <td>married</td>\n",
              "      <td>1</td>\n",
              "      <td>0</td>\n",
              "      <td>2971</td>\n",
              "      <td>0</td>\n",
              "      <td>0</td>\n",
              "      <td>0</td>\n",
              "      <td>17</td>\n",
              "      <td>11</td>\n",
              "      <td>361</td>\n",
              "      <td>2</td>\n",
              "      <td>188</td>\n",
              "      <td>11</td>\n",
              "      <td>1</td>\n",
              "      <td>0</td>\n",
              "    </tr>\n",
              "  </tbody>\n",
              "</table>\n",
              "<p>45211 rows × 17 columns</p>\n",
              "</div>\n",
              "      <button class=\"colab-df-convert\" onclick=\"convertToInteractive('df-139f20f2-30c2-4249-a5a3-c2636d540b23')\"\n",
              "              title=\"Convert this dataframe to an interactive table.\"\n",
              "              style=\"display:none;\">\n",
              "        \n",
              "  <svg xmlns=\"http://www.w3.org/2000/svg\" height=\"24px\"viewBox=\"0 0 24 24\"\n",
              "       width=\"24px\">\n",
              "    <path d=\"M0 0h24v24H0V0z\" fill=\"none\"/>\n",
              "    <path d=\"M18.56 5.44l.94 2.06.94-2.06 2.06-.94-2.06-.94-.94-2.06-.94 2.06-2.06.94zm-11 1L8.5 8.5l.94-2.06 2.06-.94-2.06-.94L8.5 2.5l-.94 2.06-2.06.94zm10 10l.94 2.06.94-2.06 2.06-.94-2.06-.94-.94-2.06-.94 2.06-2.06.94z\"/><path d=\"M17.41 7.96l-1.37-1.37c-.4-.4-.92-.59-1.43-.59-.52 0-1.04.2-1.43.59L10.3 9.45l-7.72 7.72c-.78.78-.78 2.05 0 2.83L4 21.41c.39.39.9.59 1.41.59.51 0 1.02-.2 1.41-.59l7.78-7.78 2.81-2.81c.8-.78.8-2.07 0-2.86zM5.41 20L4 18.59l7.72-7.72 1.47 1.35L5.41 20z\"/>\n",
              "  </svg>\n",
              "      </button>\n",
              "      \n",
              "  <style>\n",
              "    .colab-df-container {\n",
              "      display:flex;\n",
              "      flex-wrap:wrap;\n",
              "      gap: 12px;\n",
              "    }\n",
              "\n",
              "    .colab-df-convert {\n",
              "      background-color: #E8F0FE;\n",
              "      border: none;\n",
              "      border-radius: 50%;\n",
              "      cursor: pointer;\n",
              "      display: none;\n",
              "      fill: #1967D2;\n",
              "      height: 32px;\n",
              "      padding: 0 0 0 0;\n",
              "      width: 32px;\n",
              "    }\n",
              "\n",
              "    .colab-df-convert:hover {\n",
              "      background-color: #E2EBFA;\n",
              "      box-shadow: 0px 1px 2px rgba(60, 64, 67, 0.3), 0px 1px 3px 1px rgba(60, 64, 67, 0.15);\n",
              "      fill: #174EA6;\n",
              "    }\n",
              "\n",
              "    [theme=dark] .colab-df-convert {\n",
              "      background-color: #3B4455;\n",
              "      fill: #D2E3FC;\n",
              "    }\n",
              "\n",
              "    [theme=dark] .colab-df-convert:hover {\n",
              "      background-color: #434B5C;\n",
              "      box-shadow: 0px 1px 3px 1px rgba(0, 0, 0, 0.15);\n",
              "      filter: drop-shadow(0px 1px 2px rgba(0, 0, 0, 0.3));\n",
              "      fill: #FFFFFF;\n",
              "    }\n",
              "  </style>\n",
              "\n",
              "      <script>\n",
              "        const buttonEl =\n",
              "          document.querySelector('#df-139f20f2-30c2-4249-a5a3-c2636d540b23 button.colab-df-convert');\n",
              "        buttonEl.style.display =\n",
              "          google.colab.kernel.accessAllowed ? 'block' : 'none';\n",
              "\n",
              "        async function convertToInteractive(key) {\n",
              "          const element = document.querySelector('#df-139f20f2-30c2-4249-a5a3-c2636d540b23');\n",
              "          const dataTable =\n",
              "            await google.colab.kernel.invokeFunction('convertToInteractive',\n",
              "                                                     [key], {});\n",
              "          if (!dataTable) return;\n",
              "\n",
              "          const docLinkHtml = 'Like what you see? Visit the ' +\n",
              "            '<a target=\"_blank\" href=https://colab.research.google.com/notebooks/data_table.ipynb>data table notebook</a>'\n",
              "            + ' to learn more about interactive tables.';\n",
              "          element.innerHTML = '';\n",
              "          dataTable['output_type'] = 'display_data';\n",
              "          await google.colab.output.renderOutput(dataTable, element);\n",
              "          const docLink = document.createElement('div');\n",
              "          docLink.innerHTML = docLinkHtml;\n",
              "          element.appendChild(docLink);\n",
              "        }\n",
              "      </script>\n",
              "    </div>\n",
              "  </div>\n",
              "  "
            ],
            "text/plain": [
              "       age           job   marital  education  ...  pdays  previous  poutcome  y\n",
              "0       58    management   married          2  ...     -1         0         3  0\n",
              "1       44    technician    single          1  ...     -1         0         3  0\n",
              "2       33  entrepreneur   married          1  ...     -1         0         3  0\n",
              "3       47   blue-collar   married          3  ...     -1         0         3  0\n",
              "4       33       unknown    single          3  ...     -1         0         3  0\n",
              "...    ...           ...       ...        ...  ...    ...       ...       ... ..\n",
              "45206   51    technician   married          2  ...     -1         0         3  1\n",
              "45207   71       retired  divorced          0  ...     -1         0         3  1\n",
              "45208   72       retired   married          1  ...    184         3         2  1\n",
              "45209   57   blue-collar   married          1  ...     -1         0         3  0\n",
              "45210   37  entrepreneur   married          1  ...    188        11         1  0\n",
              "\n",
              "[45211 rows x 17 columns]"
            ]
          },
          "metadata": {},
          "execution_count": 45
        }
      ]
    },
    {
      "cell_type": "code",
      "source": [
        "# verificando se há valores nulos\n",
        "df_bank.isnull().sum()"
      ],
      "metadata": {
        "colab": {
          "base_uri": "https://localhost:8080/"
        },
        "id": "UaH2Kjn9Ew4s",
        "outputId": "c2879a3b-18d4-4b3d-a091-c4d0a49678e0"
      },
      "execution_count": 46,
      "outputs": [
        {
          "output_type": "execute_result",
          "data": {
            "text/plain": [
              "age          0\n",
              "job          0\n",
              "marital      0\n",
              "education    0\n",
              "default      0\n",
              "balance      0\n",
              "housing      0\n",
              "loan         0\n",
              "contact      0\n",
              "day          0\n",
              "month        0\n",
              "duration     0\n",
              "campaign     0\n",
              "pdays        0\n",
              "previous     0\n",
              "poutcome     0\n",
              "y            0\n",
              "dtype: int64"
            ]
          },
          "metadata": {},
          "execution_count": 46
        }
      ]
    },
    {
      "cell_type": "code",
      "source": [
        "# se houver valores nulos, podemos com a função \".dropna()\" eliminá-los\n",
        "df_bank.dropna(inplace=True)"
      ],
      "metadata": {
        "id": "tf5rgi7FHTcj"
      },
      "execution_count": 48,
      "outputs": []
    },
    {
      "cell_type": "code",
      "source": [
        "# com a função \".any()\" temos como retorna uma resposta boleana\n",
        "df_bank.isnull().sum().any()"
      ],
      "metadata": {
        "colab": {
          "base_uri": "https://localhost:8080/"
        },
        "id": "dsjONGvVHTbG",
        "outputId": "94c35fd3-c027-4084-9933-319d42f88f89"
      },
      "execution_count": 49,
      "outputs": [
        {
          "output_type": "execute_result",
          "data": {
            "text/plain": [
              "False"
            ]
          },
          "metadata": {},
          "execution_count": 49
        }
      ]
    },
    {
      "cell_type": "code",
      "source": [
        "# informações gerais\n",
        "df_bank.info()"
      ],
      "metadata": {
        "colab": {
          "base_uri": "https://localhost:8080/"
        },
        "id": "bUqP61KLIp12",
        "outputId": "c35f1eda-5bac-4d43-e804-bf9693bcd523"
      },
      "execution_count": 50,
      "outputs": [
        {
          "output_type": "stream",
          "name": "stdout",
          "text": [
            "<class 'pandas.core.frame.DataFrame'>\n",
            "Int64Index: 45211 entries, 0 to 45210\n",
            "Data columns (total 17 columns):\n",
            " #   Column     Non-Null Count  Dtype \n",
            "---  ------     --------------  ----- \n",
            " 0   age        45211 non-null  int64 \n",
            " 1   job        45211 non-null  object\n",
            " 2   marital    45211 non-null  object\n",
            " 3   education  45211 non-null  int8  \n",
            " 4   default    45211 non-null  int8  \n",
            " 5   balance    45211 non-null  int64 \n",
            " 6   housing    45211 non-null  int8  \n",
            " 7   loan       45211 non-null  int8  \n",
            " 8   contact    45211 non-null  int8  \n",
            " 9   day        45211 non-null  int64 \n",
            " 10  month      45211 non-null  int64 \n",
            " 11  duration   45211 non-null  int64 \n",
            " 12  campaign   45211 non-null  int64 \n",
            " 13  pdays      45211 non-null  int64 \n",
            " 14  previous   45211 non-null  int64 \n",
            " 15  poutcome   45211 non-null  int8  \n",
            " 16  y          45211 non-null  int8  \n",
            "dtypes: int64(8), int8(7), object(2)\n",
            "memory usage: 4.1+ MB\n"
          ]
        }
      ]
    },
    {
      "cell_type": "code",
      "source": [
        "# realizando a transformação das colunas categóricas em numéricas\n",
        "df_bank = pd.get_dummies(df_bank)"
      ],
      "metadata": {
        "id": "smvPc0_jHTXO"
      },
      "execution_count": 51,
      "outputs": []
    },
    {
      "cell_type": "code",
      "source": [
        "# visualizando a quantidade de colunas e seus respectivos nomes\n",
        "len(df_bank.columns), df_bank.columns"
      ],
      "metadata": {
        "colab": {
          "base_uri": "https://localhost:8080/"
        },
        "id": "ZsHPixNxHTVN",
        "outputId": "5adbf06c-56aa-4c9d-d5a9-1c11d7149d2e"
      },
      "execution_count": 52,
      "outputs": [
        {
          "output_type": "execute_result",
          "data": {
            "text/plain": [
              "(30,\n",
              " Index(['age', 'education', 'default', 'balance', 'housing', 'loan', 'contact',\n",
              "        'day', 'month', 'duration', 'campaign', 'pdays', 'previous', 'poutcome',\n",
              "        'y', 'job_admin.', 'job_blue-collar', 'job_entrepreneur',\n",
              "        'job_housemaid', 'job_management', 'job_retired', 'job_self-employed',\n",
              "        'job_services', 'job_student', 'job_technician', 'job_unemployed',\n",
              "        'job_unknown', 'marital_divorced', 'marital_married', 'marital_single'],\n",
              "       dtype='object'))"
            ]
          },
          "metadata": {},
          "execution_count": 52
        }
      ]
    },
    {
      "cell_type": "code",
      "source": [
        "# visualizando 10 observaçẽos aleatórias do conjunto de dados\n",
        "df_bank.sample(10)"
      ],
      "metadata": {
        "colab": {
          "base_uri": "https://localhost:8080/",
          "height": 444
        },
        "id": "MRaVVDaMHTRd",
        "outputId": "9d78ac0a-3e78-4d1a-9557-b7466b88ef3d"
      },
      "execution_count": 53,
      "outputs": [
        {
          "output_type": "execute_result",
          "data": {
            "text/html": [
              "\n",
              "  <div id=\"df-a35148d8-8201-4aa1-83d4-c2ccb7ba174c\">\n",
              "    <div class=\"colab-df-container\">\n",
              "      <div>\n",
              "<style scoped>\n",
              "    .dataframe tbody tr th:only-of-type {\n",
              "        vertical-align: middle;\n",
              "    }\n",
              "\n",
              "    .dataframe tbody tr th {\n",
              "        vertical-align: top;\n",
              "    }\n",
              "\n",
              "    .dataframe thead th {\n",
              "        text-align: right;\n",
              "    }\n",
              "</style>\n",
              "<table border=\"1\" class=\"dataframe\">\n",
              "  <thead>\n",
              "    <tr style=\"text-align: right;\">\n",
              "      <th></th>\n",
              "      <th>age</th>\n",
              "      <th>education</th>\n",
              "      <th>default</th>\n",
              "      <th>balance</th>\n",
              "      <th>housing</th>\n",
              "      <th>loan</th>\n",
              "      <th>contact</th>\n",
              "      <th>day</th>\n",
              "      <th>month</th>\n",
              "      <th>duration</th>\n",
              "      <th>campaign</th>\n",
              "      <th>pdays</th>\n",
              "      <th>previous</th>\n",
              "      <th>poutcome</th>\n",
              "      <th>y</th>\n",
              "      <th>job_admin.</th>\n",
              "      <th>job_blue-collar</th>\n",
              "      <th>job_entrepreneur</th>\n",
              "      <th>job_housemaid</th>\n",
              "      <th>job_management</th>\n",
              "      <th>job_retired</th>\n",
              "      <th>job_self-employed</th>\n",
              "      <th>job_services</th>\n",
              "      <th>job_student</th>\n",
              "      <th>job_technician</th>\n",
              "      <th>job_unemployed</th>\n",
              "      <th>job_unknown</th>\n",
              "      <th>marital_divorced</th>\n",
              "      <th>marital_married</th>\n",
              "      <th>marital_single</th>\n",
              "    </tr>\n",
              "  </thead>\n",
              "  <tbody>\n",
              "    <tr>\n",
              "      <th>27769</th>\n",
              "      <td>59</td>\n",
              "      <td>0</td>\n",
              "      <td>0</td>\n",
              "      <td>8</td>\n",
              "      <td>0</td>\n",
              "      <td>0</td>\n",
              "      <td>1</td>\n",
              "      <td>28</td>\n",
              "      <td>1</td>\n",
              "      <td>56</td>\n",
              "      <td>1</td>\n",
              "      <td>-1</td>\n",
              "      <td>0</td>\n",
              "      <td>3</td>\n",
              "      <td>0</td>\n",
              "      <td>0</td>\n",
              "      <td>1</td>\n",
              "      <td>0</td>\n",
              "      <td>0</td>\n",
              "      <td>0</td>\n",
              "      <td>0</td>\n",
              "      <td>0</td>\n",
              "      <td>0</td>\n",
              "      <td>0</td>\n",
              "      <td>0</td>\n",
              "      <td>0</td>\n",
              "      <td>0</td>\n",
              "      <td>0</td>\n",
              "      <td>1</td>\n",
              "      <td>0</td>\n",
              "    </tr>\n",
              "    <tr>\n",
              "      <th>15950</th>\n",
              "      <td>42</td>\n",
              "      <td>1</td>\n",
              "      <td>0</td>\n",
              "      <td>1406</td>\n",
              "      <td>1</td>\n",
              "      <td>0</td>\n",
              "      <td>0</td>\n",
              "      <td>22</td>\n",
              "      <td>7</td>\n",
              "      <td>178</td>\n",
              "      <td>1</td>\n",
              "      <td>-1</td>\n",
              "      <td>0</td>\n",
              "      <td>3</td>\n",
              "      <td>0</td>\n",
              "      <td>0</td>\n",
              "      <td>0</td>\n",
              "      <td>0</td>\n",
              "      <td>1</td>\n",
              "      <td>0</td>\n",
              "      <td>0</td>\n",
              "      <td>0</td>\n",
              "      <td>0</td>\n",
              "      <td>0</td>\n",
              "      <td>0</td>\n",
              "      <td>0</td>\n",
              "      <td>0</td>\n",
              "      <td>1</td>\n",
              "      <td>0</td>\n",
              "      <td>0</td>\n",
              "    </tr>\n",
              "    <tr>\n",
              "      <th>28231</th>\n",
              "      <td>41</td>\n",
              "      <td>2</td>\n",
              "      <td>0</td>\n",
              "      <td>2665</td>\n",
              "      <td>1</td>\n",
              "      <td>0</td>\n",
              "      <td>0</td>\n",
              "      <td>29</td>\n",
              "      <td>1</td>\n",
              "      <td>112</td>\n",
              "      <td>1</td>\n",
              "      <td>183</td>\n",
              "      <td>10</td>\n",
              "      <td>1</td>\n",
              "      <td>0</td>\n",
              "      <td>0</td>\n",
              "      <td>0</td>\n",
              "      <td>0</td>\n",
              "      <td>0</td>\n",
              "      <td>1</td>\n",
              "      <td>0</td>\n",
              "      <td>0</td>\n",
              "      <td>0</td>\n",
              "      <td>0</td>\n",
              "      <td>0</td>\n",
              "      <td>0</td>\n",
              "      <td>0</td>\n",
              "      <td>0</td>\n",
              "      <td>1</td>\n",
              "      <td>0</td>\n",
              "    </tr>\n",
              "    <tr>\n",
              "      <th>10581</th>\n",
              "      <td>46</td>\n",
              "      <td>1</td>\n",
              "      <td>0</td>\n",
              "      <td>6215</td>\n",
              "      <td>0</td>\n",
              "      <td>0</td>\n",
              "      <td>2</td>\n",
              "      <td>16</td>\n",
              "      <td>6</td>\n",
              "      <td>155</td>\n",
              "      <td>1</td>\n",
              "      <td>-1</td>\n",
              "      <td>0</td>\n",
              "      <td>3</td>\n",
              "      <td>0</td>\n",
              "      <td>0</td>\n",
              "      <td>1</td>\n",
              "      <td>0</td>\n",
              "      <td>0</td>\n",
              "      <td>0</td>\n",
              "      <td>0</td>\n",
              "      <td>0</td>\n",
              "      <td>0</td>\n",
              "      <td>0</td>\n",
              "      <td>0</td>\n",
              "      <td>0</td>\n",
              "      <td>0</td>\n",
              "      <td>0</td>\n",
              "      <td>1</td>\n",
              "      <td>0</td>\n",
              "    </tr>\n",
              "    <tr>\n",
              "      <th>20254</th>\n",
              "      <td>33</td>\n",
              "      <td>2</td>\n",
              "      <td>0</td>\n",
              "      <td>540</td>\n",
              "      <td>0</td>\n",
              "      <td>0</td>\n",
              "      <td>0</td>\n",
              "      <td>11</td>\n",
              "      <td>8</td>\n",
              "      <td>79</td>\n",
              "      <td>4</td>\n",
              "      <td>-1</td>\n",
              "      <td>0</td>\n",
              "      <td>3</td>\n",
              "      <td>0</td>\n",
              "      <td>0</td>\n",
              "      <td>0</td>\n",
              "      <td>0</td>\n",
              "      <td>0</td>\n",
              "      <td>1</td>\n",
              "      <td>0</td>\n",
              "      <td>0</td>\n",
              "      <td>0</td>\n",
              "      <td>0</td>\n",
              "      <td>0</td>\n",
              "      <td>0</td>\n",
              "      <td>0</td>\n",
              "      <td>0</td>\n",
              "      <td>1</td>\n",
              "      <td>0</td>\n",
              "    </tr>\n",
              "    <tr>\n",
              "      <th>21592</th>\n",
              "      <td>40</td>\n",
              "      <td>2</td>\n",
              "      <td>0</td>\n",
              "      <td>51</td>\n",
              "      <td>0</td>\n",
              "      <td>0</td>\n",
              "      <td>0</td>\n",
              "      <td>19</td>\n",
              "      <td>8</td>\n",
              "      <td>164</td>\n",
              "      <td>2</td>\n",
              "      <td>-1</td>\n",
              "      <td>0</td>\n",
              "      <td>3</td>\n",
              "      <td>0</td>\n",
              "      <td>0</td>\n",
              "      <td>0</td>\n",
              "      <td>0</td>\n",
              "      <td>0</td>\n",
              "      <td>1</td>\n",
              "      <td>0</td>\n",
              "      <td>0</td>\n",
              "      <td>0</td>\n",
              "      <td>0</td>\n",
              "      <td>0</td>\n",
              "      <td>0</td>\n",
              "      <td>0</td>\n",
              "      <td>0</td>\n",
              "      <td>1</td>\n",
              "      <td>0</td>\n",
              "    </tr>\n",
              "    <tr>\n",
              "      <th>37525</th>\n",
              "      <td>35</td>\n",
              "      <td>1</td>\n",
              "      <td>0</td>\n",
              "      <td>-255</td>\n",
              "      <td>1</td>\n",
              "      <td>0</td>\n",
              "      <td>0</td>\n",
              "      <td>13</td>\n",
              "      <td>5</td>\n",
              "      <td>196</td>\n",
              "      <td>3</td>\n",
              "      <td>265</td>\n",
              "      <td>2</td>\n",
              "      <td>0</td>\n",
              "      <td>0</td>\n",
              "      <td>0</td>\n",
              "      <td>0</td>\n",
              "      <td>0</td>\n",
              "      <td>0</td>\n",
              "      <td>0</td>\n",
              "      <td>0</td>\n",
              "      <td>0</td>\n",
              "      <td>0</td>\n",
              "      <td>0</td>\n",
              "      <td>1</td>\n",
              "      <td>0</td>\n",
              "      <td>0</td>\n",
              "      <td>0</td>\n",
              "      <td>1</td>\n",
              "      <td>0</td>\n",
              "    </tr>\n",
              "    <tr>\n",
              "      <th>44021</th>\n",
              "      <td>31</td>\n",
              "      <td>1</td>\n",
              "      <td>0</td>\n",
              "      <td>54</td>\n",
              "      <td>1</td>\n",
              "      <td>0</td>\n",
              "      <td>0</td>\n",
              "      <td>29</td>\n",
              "      <td>6</td>\n",
              "      <td>401</td>\n",
              "      <td>1</td>\n",
              "      <td>-1</td>\n",
              "      <td>0</td>\n",
              "      <td>3</td>\n",
              "      <td>1</td>\n",
              "      <td>0</td>\n",
              "      <td>1</td>\n",
              "      <td>0</td>\n",
              "      <td>0</td>\n",
              "      <td>0</td>\n",
              "      <td>0</td>\n",
              "      <td>0</td>\n",
              "      <td>0</td>\n",
              "      <td>0</td>\n",
              "      <td>0</td>\n",
              "      <td>0</td>\n",
              "      <td>0</td>\n",
              "      <td>0</td>\n",
              "      <td>0</td>\n",
              "      <td>1</td>\n",
              "    </tr>\n",
              "    <tr>\n",
              "      <th>41529</th>\n",
              "      <td>28</td>\n",
              "      <td>1</td>\n",
              "      <td>0</td>\n",
              "      <td>261</td>\n",
              "      <td>1</td>\n",
              "      <td>1</td>\n",
              "      <td>0</td>\n",
              "      <td>9</td>\n",
              "      <td>9</td>\n",
              "      <td>259</td>\n",
              "      <td>2</td>\n",
              "      <td>98</td>\n",
              "      <td>4</td>\n",
              "      <td>2</td>\n",
              "      <td>1</td>\n",
              "      <td>1</td>\n",
              "      <td>0</td>\n",
              "      <td>0</td>\n",
              "      <td>0</td>\n",
              "      <td>0</td>\n",
              "      <td>0</td>\n",
              "      <td>0</td>\n",
              "      <td>0</td>\n",
              "      <td>0</td>\n",
              "      <td>0</td>\n",
              "      <td>0</td>\n",
              "      <td>0</td>\n",
              "      <td>0</td>\n",
              "      <td>0</td>\n",
              "      <td>1</td>\n",
              "    </tr>\n",
              "    <tr>\n",
              "      <th>34250</th>\n",
              "      <td>28</td>\n",
              "      <td>1</td>\n",
              "      <td>0</td>\n",
              "      <td>891</td>\n",
              "      <td>0</td>\n",
              "      <td>0</td>\n",
              "      <td>1</td>\n",
              "      <td>4</td>\n",
              "      <td>5</td>\n",
              "      <td>34</td>\n",
              "      <td>6</td>\n",
              "      <td>-1</td>\n",
              "      <td>0</td>\n",
              "      <td>3</td>\n",
              "      <td>0</td>\n",
              "      <td>0</td>\n",
              "      <td>0</td>\n",
              "      <td>0</td>\n",
              "      <td>0</td>\n",
              "      <td>0</td>\n",
              "      <td>0</td>\n",
              "      <td>0</td>\n",
              "      <td>0</td>\n",
              "      <td>1</td>\n",
              "      <td>0</td>\n",
              "      <td>0</td>\n",
              "      <td>0</td>\n",
              "      <td>0</td>\n",
              "      <td>0</td>\n",
              "      <td>1</td>\n",
              "    </tr>\n",
              "  </tbody>\n",
              "</table>\n",
              "</div>\n",
              "      <button class=\"colab-df-convert\" onclick=\"convertToInteractive('df-a35148d8-8201-4aa1-83d4-c2ccb7ba174c')\"\n",
              "              title=\"Convert this dataframe to an interactive table.\"\n",
              "              style=\"display:none;\">\n",
              "        \n",
              "  <svg xmlns=\"http://www.w3.org/2000/svg\" height=\"24px\"viewBox=\"0 0 24 24\"\n",
              "       width=\"24px\">\n",
              "    <path d=\"M0 0h24v24H0V0z\" fill=\"none\"/>\n",
              "    <path d=\"M18.56 5.44l.94 2.06.94-2.06 2.06-.94-2.06-.94-.94-2.06-.94 2.06-2.06.94zm-11 1L8.5 8.5l.94-2.06 2.06-.94-2.06-.94L8.5 2.5l-.94 2.06-2.06.94zm10 10l.94 2.06.94-2.06 2.06-.94-2.06-.94-.94-2.06-.94 2.06-2.06.94z\"/><path d=\"M17.41 7.96l-1.37-1.37c-.4-.4-.92-.59-1.43-.59-.52 0-1.04.2-1.43.59L10.3 9.45l-7.72 7.72c-.78.78-.78 2.05 0 2.83L4 21.41c.39.39.9.59 1.41.59.51 0 1.02-.2 1.41-.59l7.78-7.78 2.81-2.81c.8-.78.8-2.07 0-2.86zM5.41 20L4 18.59l7.72-7.72 1.47 1.35L5.41 20z\"/>\n",
              "  </svg>\n",
              "      </button>\n",
              "      \n",
              "  <style>\n",
              "    .colab-df-container {\n",
              "      display:flex;\n",
              "      flex-wrap:wrap;\n",
              "      gap: 12px;\n",
              "    }\n",
              "\n",
              "    .colab-df-convert {\n",
              "      background-color: #E8F0FE;\n",
              "      border: none;\n",
              "      border-radius: 50%;\n",
              "      cursor: pointer;\n",
              "      display: none;\n",
              "      fill: #1967D2;\n",
              "      height: 32px;\n",
              "      padding: 0 0 0 0;\n",
              "      width: 32px;\n",
              "    }\n",
              "\n",
              "    .colab-df-convert:hover {\n",
              "      background-color: #E2EBFA;\n",
              "      box-shadow: 0px 1px 2px rgba(60, 64, 67, 0.3), 0px 1px 3px 1px rgba(60, 64, 67, 0.15);\n",
              "      fill: #174EA6;\n",
              "    }\n",
              "\n",
              "    [theme=dark] .colab-df-convert {\n",
              "      background-color: #3B4455;\n",
              "      fill: #D2E3FC;\n",
              "    }\n",
              "\n",
              "    [theme=dark] .colab-df-convert:hover {\n",
              "      background-color: #434B5C;\n",
              "      box-shadow: 0px 1px 3px 1px rgba(0, 0, 0, 0.15);\n",
              "      filter: drop-shadow(0px 1px 2px rgba(0, 0, 0, 0.3));\n",
              "      fill: #FFFFFF;\n",
              "    }\n",
              "  </style>\n",
              "\n",
              "      <script>\n",
              "        const buttonEl =\n",
              "          document.querySelector('#df-a35148d8-8201-4aa1-83d4-c2ccb7ba174c button.colab-df-convert');\n",
              "        buttonEl.style.display =\n",
              "          google.colab.kernel.accessAllowed ? 'block' : 'none';\n",
              "\n",
              "        async function convertToInteractive(key) {\n",
              "          const element = document.querySelector('#df-a35148d8-8201-4aa1-83d4-c2ccb7ba174c');\n",
              "          const dataTable =\n",
              "            await google.colab.kernel.invokeFunction('convertToInteractive',\n",
              "                                                     [key], {});\n",
              "          if (!dataTable) return;\n",
              "\n",
              "          const docLinkHtml = 'Like what you see? Visit the ' +\n",
              "            '<a target=\"_blank\" href=https://colab.research.google.com/notebooks/data_table.ipynb>data table notebook</a>'\n",
              "            + ' to learn more about interactive tables.';\n",
              "          element.innerHTML = '';\n",
              "          dataTable['output_type'] = 'display_data';\n",
              "          await google.colab.output.renderOutput(dataTable, element);\n",
              "          const docLink = document.createElement('div');\n",
              "          docLink.innerHTML = docLinkHtml;\n",
              "          element.appendChild(docLink);\n",
              "        }\n",
              "      </script>\n",
              "    </div>\n",
              "  </div>\n",
              "  "
            ],
            "text/plain": [
              "       age  education  ...  marital_married  marital_single\n",
              "27769   59          0  ...                1               0\n",
              "15950   42          1  ...                0               0\n",
              "28231   41          2  ...                1               0\n",
              "10581   46          1  ...                1               0\n",
              "20254   33          2  ...                1               0\n",
              "21592   40          2  ...                1               0\n",
              "37525   35          1  ...                1               0\n",
              "44021   31          1  ...                0               1\n",
              "41529   28          1  ...                0               1\n",
              "34250   28          1  ...                0               1\n",
              "\n",
              "[10 rows x 30 columns]"
            ]
          },
          "metadata": {},
          "execution_count": 53
        }
      ]
    },
    {
      "cell_type": "markdown",
      "source": [
        "> Para cada _observação_ dentro das colunas `job` e `maritial` foi transformada em uma coluna, se o registro existir para aquela coluna ela recebe um (1) e zero (0) para as demais colunas."
      ],
      "metadata": {
        "id": "Wlujmyw0pzOe"
      }
    },
    {
      "cell_type": "code",
      "source": [
        "# visualizando a distribuição das classes\n",
        "print(\n",
        "    df_bank['y'].value_counts(),\n",
        "    df_bank['y'].value_counts(normalize=True),\n",
        "    sep='\\n\\n'\n",
        ")"
      ],
      "metadata": {
        "colab": {
          "base_uri": "https://localhost:8080/"
        },
        "id": "vJZrVmZGI_35",
        "outputId": "481b99b2-4451-4579-cc6b-a632b1806e63"
      },
      "execution_count": 54,
      "outputs": [
        {
          "output_type": "stream",
          "name": "stdout",
          "text": [
            "0    39922\n",
            "1     5289\n",
            "Name: y, dtype: int64\n",
            "\n",
            "0    0.883015\n",
            "1    0.116985\n",
            "Name: y, dtype: float64\n"
          ]
        }
      ]
    },
    {
      "cell_type": "code",
      "source": [
        "# importando biblioteca para visualização gráfica\n",
        "import matplotlib.pyplot as plt\n",
        "import seaborn as sns\n",
        "\n",
        "# configurando o ambiente de exibição\n",
        "%matplotlib inline\n",
        "sns.set_theme(style='ticks', palette='pastel')"
      ],
      "metadata": {
        "id": "waCT45edOLTQ"
      },
      "execution_count": 55,
      "outputs": []
    },
    {
      "cell_type": "code",
      "source": [
        "# gráfico de barras da distribuição das observações das classes\n",
        "plt.figure(figsize=(7,4))\n",
        "sns.countplot(data=df_bank, x='y');"
      ],
      "metadata": {
        "colab": {
          "base_uri": "https://localhost:8080/",
          "height": 285
        },
        "id": "wNax4ZzmI_0D",
        "outputId": "2f161770-0f12-4204-d731-bd9e106a2de9"
      },
      "execution_count": 56,
      "outputs": [
        {
          "output_type": "display_data",
          "data": {
            "image/png": "[encoded data removed]",
            "text/plain": [
              "<Figure size 504x288 with 1 Axes>"
            ]
          },
          "metadata": {}
        }
      ]
    },
    {
      "cell_type": "markdown",
      "source": [
        "Vamos aplicar novamente o modelo de `Regressão Logística` que representa um tipo **binomial**, pois as respostas dadas pelos clientes é **sim** ou **não**, portanto temos somente duas possivéis categórias.\n",
        "\n",
        "De início não aplicaremos nenhum balanceamento das classes!\n"
      ],
      "metadata": {
        "id": "VRGz049FrBEC"
      }
    },
    {
      "cell_type": "code",
      "source": [
        "# importando a função\n",
        "from sklearn.linear_model import LogisticRegression"
      ],
      "metadata": {
        "id": "mS0mqHepPXUZ"
      },
      "execution_count": 57,
      "outputs": []
    },
    {
      "cell_type": "code",
      "source": [
        "# instanciando o modelo\n",
        "logReg_model = LogisticRegression(random_state=42)"
      ],
      "metadata": {
        "id": "PGu5yD1nI_yP"
      },
      "execution_count": 58,
      "outputs": []
    },
    {
      "cell_type": "code",
      "source": [
        "# separando as variáveis explicativas (X) e a resposta (y)\n",
        "X = df_bank.drop('y', axis=1)\n",
        "y = df_bank['y']"
      ],
      "metadata": {
        "id": "ZTKLyFi4I_u2"
      },
      "execution_count": 59,
      "outputs": []
    },
    {
      "cell_type": "code",
      "source": [
        "# importando a função para realizar o particionamento dos dados\n",
        "from sklearn.model_selection import train_test_split"
      ],
      "metadata": {
        "id": "5sDaBZXlP0Ti"
      },
      "execution_count": 60,
      "outputs": []
    },
    {
      "cell_type": "code",
      "source": [
        "# instanciando os dados de treino e teste\n",
        "X_train, X_test, y_train, y_test = train_test_split(X, y, test_size=0.3, random_state=42, stratify=y)"
      ],
      "metadata": {
        "id": "vJBn5IdiI_tf"
      },
      "execution_count": 61,
      "outputs": []
    },
    {
      "cell_type": "code",
      "source": [
        "# treinando o modelo com os dados de treino - X_train e y_train\n",
        "logReg_model.fit(X_train, y_train)"
      ],
      "metadata": {
        "colab": {
          "base_uri": "https://localhost:8080/"
        },
        "id": "MlG6rs7fI_px",
        "outputId": "4be4971b-d513-4c27-c596-df457f323177"
      },
      "execution_count": 62,
      "outputs": [
        {
          "output_type": "execute_result",
          "data": {
            "text/plain": [
              "LogisticRegression(random_state=42)"
            ]
          },
          "metadata": {},
          "execution_count": 62
        }
      ]
    },
    {
      "cell_type": "code",
      "source": [
        "# realizando as predições com o modelo após seu treinamento\n",
        "y_pred = logReg_model.predict(X_test)"
      ],
      "metadata": {
        "id": "9yM_AZ-uI_nd"
      },
      "execution_count": 63,
      "outputs": []
    },
    {
      "cell_type": "code",
      "source": [
        "# importando as funções de métricas\n",
        "from sklearn.metrics import accuracy_score, classification_report, confusion_matrix, roc_auc_score"
      ],
      "metadata": {
        "id": "sFj8heZCI_j-"
      },
      "execution_count": 64,
      "outputs": []
    },
    {
      "cell_type": "code",
      "source": [
        "# visualizando acurácia do modelo\n",
        "accuracy_score(y_test, y_pred)"
      ],
      "metadata": {
        "colab": {
          "base_uri": "https://localhost:8080/"
        },
        "id": "CFfbVqT-Qnfs",
        "outputId": "d94d4d16-36a7-4d04-d991-a99de2b208fb"
      },
      "execution_count": 65,
      "outputs": [
        {
          "output_type": "execute_result",
          "data": {
            "text/plain": [
              "0.885579475081097"
            ]
          },
          "metadata": {},
          "execution_count": 65
        }
      ]
    },
    {
      "cell_type": "code",
      "source": [
        "# realizando o cálculo das probabilidades e visualizando as 20 primeiras\n",
        "y_proba = logReg_model.predict_proba(X_test)\n",
        "y_proba[:20] * 100"
      ],
      "metadata": {
        "id": "PH1xBjlkRJpy",
        "colab": {
          "base_uri": "https://localhost:8080/"
        },
        "outputId": "3710a2c0-a55c-4a71-ee4e-878c70ba453c"
      },
      "execution_count": 66,
      "outputs": [
        {
          "output_type": "execute_result",
          "data": {
            "text/plain": [
              "array([[71.37594376, 28.62405624],\n",
              "       [90.96441383,  9.03558617],\n",
              "       [72.59642112, 27.40357888],\n",
              "       [45.98633221, 54.01366779],\n",
              "       [67.27282518, 32.72717482],\n",
              "       [94.04381916,  5.95618084],\n",
              "       [93.45567918,  6.54432082],\n",
              "       [97.02795918,  2.97204082],\n",
              "       [99.43189571,  0.56810429],\n",
              "       [82.66778281, 17.33221719],\n",
              "       [80.96933965, 19.03066035],\n",
              "       [94.03833429,  5.96166571],\n",
              "       [99.89586957,  0.10413043],\n",
              "       [97.18634444,  2.81365556],\n",
              "       [90.66727081,  9.33272919],\n",
              "       [94.71708227,  5.28291773],\n",
              "       [52.87301166, 47.12698834],\n",
              "       [42.19747863, 57.80252137],\n",
              "       [84.71697738, 15.28302262],\n",
              "       [97.29359484,  2.70640516]])"
            ]
          },
          "metadata": {},
          "execution_count": 66
        }
      ]
    },
    {
      "cell_type": "code",
      "source": [
        "# importando a biblioteca para visualização gráfica\n",
        "import scikitplot as skplt"
      ],
      "metadata": {
        "id": "Vx0TKk-AQAUo"
      },
      "execution_count": 67,
      "outputs": []
    },
    {
      "cell_type": "code",
      "source": [
        "# imprimindo o relatório de classificação\n",
        "print('\\tRelatório de Classificação:\\n', classification_report(y_test, y_pred, digits=4))\n",
        "\n",
        "# imprimindo a acurácia do modelo\n",
        "print('Acurácia: {:.4f}'.format(accuracy_score(y_test, y_pred)))\n",
        "\n",
        "# imprimindo a área sob a curva ROC\n",
        "print('AUC: {:.4f}\\n'.format(roc_auc_score(y_test, y_pred)))\n",
        "\n",
        "# plotando a matrix de confusão\n",
        "skplt.metrics.plot_confusion_matrix(y_test, y_pred, normalize=True, text_fontsize=11,\n",
        "                                    title='Matriz de Confusão - Regressão Logística\\n', figsize=(6,6), );"
      ],
      "metadata": {
        "colab": {
          "base_uri": "https://localhost:8080/",
          "height": 592
        },
        "id": "X9OyLhAURPJS",
        "outputId": "74f20dc9-63dc-4fae-9869-fb045d683ebc"
      },
      "execution_count": 68,
      "outputs": [
        {
          "output_type": "stream",
          "name": "stdout",
          "text": [
            "\tRelatório de Classificação:\n",
            "               precision    recall  f1-score   support\n",
            "\n",
            "           0     0.8993    0.9802    0.9380     11977\n",
            "           1     0.5344    0.1714    0.2595      1587\n",
            "\n",
            "    accuracy                         0.8856     13564\n",
            "   macro avg     0.7168    0.5758    0.5988     13564\n",
            "weighted avg     0.8566    0.8856    0.8586     13564\n",
            "\n",
            "Acurácia: 0.8856\n",
            "AUC: 0.5758\n",
            "\n"
          ]
        },
        {
          "output_type": "display_data",
          "data": {
            "image/png": "[encoded data removed]",
            "text/plain": [
              "<Figure size 432x432 with 2 Axes>"
            ]
          },
          "metadata": {}
        }
      ]
    },
    {
      "cell_type": "markdown",
      "source": [
        "> Note no _Relatório de Classificação_ que o `recal`l (número de acertos) para a classe 0 é muito alta, por outro lado é bem baixa para a classe 1.\n",
        "\n",
        "Já na _Matriz de Confusão_ podemos interpretar a classificação das observações graficamente:\n",
        "- para a `classe negativa` tivemos 98% de acertos das classes e,\n",
        "- já para `classe positiva` o modelo consegui classificar corretamente somente 17% das observações.\n",
        " - tivemos 83% das instâncias classificadas como **falso negativo**.\n",
        "\n",
        "Se o desafio principal é classificar potenciais clientes que aceite o crédito, o modelo apresentou uma péssima performance!\n",
        "\n",
        "Isso tudo se deve ao desbalanceamento das observações presentes nas classes, e só reforça o que já sabemos, nosso modelo está enviesado, ele aprendeu mais sobre a classe que tinha uma maior quantidade de observações."
      ],
      "metadata": {
        "id": "c3hQIU9t7BJ5"
      }
    },
    {
      "cell_type": "markdown",
      "source": [
        "![image.png](data:image/png;base64,iVBORw0KGgoAAAANSUhEUgAAAPgAAACxCAIAAABm5Of4AAAgAElEQVR4Aex9B5hdVbXw2nuffm6buZmeAqSQhFBCCxipAoo0QQEFRARB4eH/VJr6xAIqjx/1/U8UFEQFH4IPkCZFegktnUAqqZOZSSZT7tx2+t77//bZySXfZC4vk8yk8OZ895s5d999dll7nbXXXhVxzmHkGjoIDBaeCKFBds6q1McDlg92PAM28hGF1cZfrd9q9at1MVTtDAydar2OlI9AYC+FwAii76ULNzLswUFgBNEHB6+R2nspBEYQfS9duJFhDw4CI4g+OHiN1N5LITCC6Hvpwo0Me3AQGEH0wcFrpPZeCgFlLx33XjdsygMFq6W+fCJV4zllI2Gva+945PEnTB0pTOnd0P3Fc88YN2VsoVB69sXZmVH7nXLM/oViIZVMM87CgOq6GUURY0zTNNd1oyhKJpOc82KxmEqlSqVSIpEAAEppsVjMZDKU0iiKdF13UKiCogL2yp5pGYEfqgaJgKkcoogSVWcAEQWgka5hHgacaJRSVVUBwPM8hJCu6wDgctCZjxFzS+7bi1boduqgSeMTJuEIPD8wdCMK46cYMMbz+WIqC053KSiEcxYuPuSYTySzSQsjFAUACBS95FNDBe4VX39j1qqN+XO/fGEqLGHV4KAwgCDgBAHmTFERRFGh5KVqUlJ9EAa+oREWekgV893+a4Sibz+sdqomwaRYKCTSaYmOt9xy69VXX53L5abEFwBcfvnlD91//6233vq1r33tiSeeKJaKqWSqN9eLEdZ13fM8RVE0TfN93zTNZDIJAOVyOZVKAQAhhFIaBEEURZlMxvd9QoiiKK7rAoBEEdMSuEhpmOvLY8CFXE6JsTl+HBgTtYIgwBjL1gqFgmEYCCHXdSmlBIlfVy5efM0115x44onPPvusbYsXIIxCQzc831NVNQxDAMAE1dSmHNd97733Lrnkki+ce06+0KdiQhnljFHfBwBDJ1EUqYbxta997Qc/+EHB4VhVaRT5gfgVY6SqSFFI4LoI43RGzLFY9DiArunAeRRFg14MPnINKQRYtYuHYeBxRoOSc8vNP21qavnt7+/qKpbLocs59wv+L2++ibpdL774JNLMX9/9cF++i/OA83BTVwdjURiGjDEer7Ek26VSSX4tl8tyBrKkr6+vMiHHcTzOi5EfMVoulgLP54wzzt0w4CzknHp+uKk3H3FRmO/r5Sz0PG/r1jjnnZ2dnPO4NOTUeXfu26AYt/3mbteLgkIf56HnOa67eQxRxNrbN8S9ONwv/uCb3xpX39RbKHaVirm8aJ/TwPO8kPOI0U3tazrWr/xgfXuX6NLL93Uzzivj8d2AM0p9z3cDxrnjs4hzPwx6ezo3D6cyz+24GWFdBk0aduwBJjZilYdRX1/fPffco+v6JZdcomgqY4Hr+qaln3vuudgwRo0axcPQMIx0Kk0ZLZeddevWdbRvnDRpsqIonHOM8QcffNDZ2dnc3Dxu3LhCoVBbW/vyyy+XSqXx48dPnTo1HW8aK1euXL58+fjx42taRtckE5yFCFPHdWe/Ord59D4BZfs2ZTds6mpt2zj98CMAoFAorVm9OnCdIz8xE4A5jqNp6vz5cydMmJDP5+rrRyHA8+bOzW1oa9vYpWpabW2trhNgius4K1euJoSkM7UtLS2YoKbmxnzBWbn6Xa+nuHTZYkrDfD5XUz8qZScgiN5649W8H51wymc0jOvq60EhH6zvZgwC302l0+vWt44eM7azs5eGwZiWxvffXSB4JzM5ftL4IAg4KKamWpbllctGvJ9s/1qMsC7bD6udqul5XhDv2q2trZ2dnUcccUS5XC6WXQUrgm2gMGb8+LBczuVygJBkJDZs2HDhhRdeeumlhxxy6IUXXuj7fqFQuO666+64446FCxdeccUVc+bMqa2tvfjii+fPn9/Z2XnDDTds3LixVCo9/PDDDz30UC6XO/fcc3/yk5tKrsM5VxSyZMniG2644dhjj337rXdSqdRtt912/fXXt7a2PvPs8z/96U/feuutX/7yl587+8w1a1e99PIL553/hetvuPaiL19w/hfPLTvFRx9/cuHChWvXrn3wwQdD1y0WiwDQ19f3vetvOPO006dNO+jb3/72smXLisUyA/jd3XctmL/orbfeXrTo3WTKbmquMzX9+edfvOGG73V2dj788MMnnPCp1vWtTzz++MUXXnjeeecxBkuXLr3qyisPP/zw87944ejRoxcuXHjfvX+56KKLZs6cOWPGjGeeeT6R0KWdjG4Yhm0PejG2g+qPVBkEBKpxLhHzo9DnYfDyP58nAMcdd4LYiDnvyveI1iPOA5/z4gsvPIF165d3POB6hTVrV7z3/oK+fPd1112TTqdnzZq1atUqAHjuuec4593d3ZzzRx55BABeffVVzvlbb73FGFuyZAkh5A9/+ENra+vll18ORnL2ovep4II838/f8dv/BFBeevVtv1y44fprFyxc1N7ZfcDBh97w3e/3dG+67493Iwx/++/7V61ePmXqxETSuPSyi3/4o+///dH/Hjtp8ry5b3PqvPjsPzJ1Tfc99ITrRb0dbS8/85TT13frz36qKeo/n3/ODaMTPv3p079wHuOUB97Xv/TFaRPHtXW2rt7QeupnT//cqWev/2DZQw89VNc89sc3/SRy84cePHnfKQfkOC/2dV526cWA4PIrr776X6995tkX/viHP4Wu88Kzz9hm4jvX3FByI8licR7SoDiIJYmrjlD0QZOGHXsgiiKiKEDIpEmTRmVHvfnmmx+sXBVSnkllZIN+qQQAkjkhhBi60dTUNHbs2FdeeeWDDz7I5/OjRo2qra3df//9TznllEmTJv3xj39sbW2dPHnyAQcccNxxxx166KGLFy8ulUoLFy40TXP+/PkPPvhgQ0PDt759TUtLCwLkOEVNU88888zabPaWW271fb+zs7O+vr5UKi1etGj27Nl//vOf165d+53v/J/995/U0tJMCD755JPu+cMf/u3fvv/6669t2rSpubkZwrCxsbGvu1vTNFUlqVTq+JNOevrJf2zYsCGKxEGCc77wvUXZbNb1fMBqJpMKQz87qkY31FmzZrmO/8ADD7S2tp533nlnn3227/uqqqbT6XyZJdLpadOm1WazV1111W233XbKKZ/66qWXvPbaa3PmzHFcp6GhwTCI50cRFcdQrAya5R5B9B3D20E/pamaeIaxhoaG0047jRDywx/+EGNho1sqOcBATyb9YtG2bTW+8oX8Y489duSRRwLAzJkzNU2TMsS5c+f+4he/mDp16ve///2777576tSpTz/99E033ZTNZr/1rW/9/ve/Hz16dBRFLS0t11133c033/zvP/+RHW/0hCAAlkqlzjnnnNdfe+OKK644/vjjm5oaPM9L1dTU19d/85vfvPHHP77lllsOPPBAhJBlWb29vX7gI4QopV6hsHHjRlDVXC6HNS0+8sJLL700Y/qhqqpOmjBRVdWJEyd29Yh3YMXKDwzdhFAcbTdt2hQEQmTkOJ6madf927995zvf+X//cVtTU5NlWU1NTT09PSkbe+VyLG/BlmWpKqxevW7K5KmzZs065phjUslUX1+f51FDVxQiTgWDhj7AoN+MHejjY/yItJau2FgLMRwhVebLy06Bc56wE9//0Xc7ezc8/Le/rlrx3jXf+S4AJJPJl1566fLLL48ijQeuGnVZZvq+ex9YvmyVqphLliwLgkDTtGXLlr377rvXXHPNueeeO2vWrKlTp7799tutra033njjxo0b99lnn5aWlqOPPnrixIk33ngjxnj06NEbVm762pWXR3VJpGfLzDdT6lVXXHjf3Xe+9M6S2+++F/FonzrjM8cc8tRjD114CT7n3IuWvfvWRRdd1NDQkOstBTYn2CgWi+d+4YLf3P77737vxq9//esvvviiQbgalaPQ+92f71uwfIULfG1Hhx8GG9o7jjrqqM+ecOKf/vSnf7/l51OmTHnu7TlqYtSmtr4JEyZc+Y2v3XXXXZdf/Z2DDz64VCodd9xxxrRpORf1dnUrXmiYNatWruMhdQq5yG+cPefNlWtXlildta617JZcp2AbxPd9SqmiGBGtStM55/KEU1kIqVIgP/7xj6sszEjxR0GgIu9D8SWrYlx1h6Qs1DVd1dTe3t6W5pYzzzpz9OjmtWvXPv7Yk2+//fayZcu++tWvjh079ne/+10ul+vp6Zk+ffrUqVPb2tqCIJg8ebLv+2EYTpw48a677nr11VeXLFly2mmnXXbZZT09PbfffvvSpUtfeeWViy666OKLLyaEHHvssUEQ3H///UuXLv3apVfsN2m8kGFjYFGoEyWZSrAoOPaEzxx/zExF4bptHjXjKD9ia1av//vfHzv382dOnTr1vvvu6+zsTKUEKY0Jf9P06dPvvfde27bPPPPMlStX5vP5mTNnTpkyZe7cuRjjiRMnuvEJdebMmaeffvr69euffvrpT3/6083Nze3t7alU6ogjjpg6dSrG+Kl/PrNg4fzjTzhu5ic/8fgTj72/+L0Dpk1ds3Y194P3Fy/O5XJ+EEycOLG+oX7Tpk2t69cfPWNGe3t7U1NTS0tLbW2taZqEkK1hvu0iSepTWQuMsaIoqJoHx7bPj5QMCAHGGKW0Qkg0LWZRtqmKsdDIRDTinKuK0DsKlWcY6prtxVcmk4miyHVdqQyK2RzmeZ5lWQDg+76u65zzIAikJghjbJomQqijo6O5ubmymURRpChKRY3KfUAqhAyAAKBIEZpJXi70Gak6DNDV2W5oJFVTk+8rpjKjQgpuKZ9Opyuq1p6enmw2GwQBAGiaxhgrFovpdNqPL6muknMtFAqpVEqOUCpWK6jGGCuVSrJyyIVySo5WIdgPhBLLMo2utvaabFY3jK7urrq6Og6QL+STqTSJ566qKsaYUur7vud5tbW1kmxvA2bAGMufZO+UUqlQG0H0bWE1iBLG2NbUhXNeYWP6tRJRz/d9RVFUVZUqTMMwFKJEkdA4WpYVRZG8yeVymqYZhhEEgWmaEuMxxmF8maYpD6yyXKrrPc8zDEPK+1RVtW2bc14oFBRFsU07CFlEA0RiBWoYKCpWFdUPiK4Jrj3wHU3XSyU3kUhx8RqIl0qipmVZpmlKzI5l7UJXKt9kz/OkJlXTNIlSspxSWiqV0um0HIBpmpqmFYtFXdc1TROqU4VghGO1FSdYsHlhJPSpBhEvfxgElAuQiiGVS5ad8Mpl27YZ+/Cd7wfYfl8551JBK8fDmKAmYo1GKHo/SG3/1yi+MMaqqsoTWxAE0jJk20YGZGpyuVxNTVZQ+ihCCEm2UpJk2UIYCoJnGIZkTyV1l0wn59wwDMdxZKGkwVEUUUq3HgNlQpQjTqLSNxgJ4monEohjyjgh3PHKhmFgQfAxcBAGNrFZwbYvrSTDYXzErGw7W8+08r7F86rZ+icpUBL0FaNYG6URQorFIiEklRQa/sj11PhdBQSO45iWFYh3UkMxKXEcR9d1ZYuwJZ/PDzgAeZwNgkACYestZQTR+y3H4L72o+hb42i/huS2q6qqoiilUimKolQqRQiR+CR3c8aYxNFCoSDEkYRomiaJuuu6pmmWSiVCiCyR7ctdItYHiWalaVcul7MsS9f1MAwj4BhAVzTfcQQDoKqFclHRNEvVfc9TTZ0LIg4YgEeUU0p0TZgkxII/SR1VVZXGZAL/YmZJmtnIwWMsTHGkYYw0OKOUJhKJCij6+vqkKIkxhjH2fVfX9SiKcHzJjQIhlDBsYeOCsR+IfQ/HZ3o38AXxZ6zCv4VhmEgktn0J+0FbGhRVzqOi/ghF3xZG21NSWUhJjyvy72q8IxdkNd6pY2Gz3FglX1soFDRN03VdvjaSDkkxS+VFCsOQECJ/8n2/t7e3vr5eWl8hhCqMqWD6Y2NDAEEXBUcETDDngi3ggDFgxBFQAEXs6ZGiaxTA8TwNI0PVIQxA07q7uyVRlzuVPB6EYSg5735ItjVD7DgOIUTiveTXpfWVfHDLnhPI1yYMQ8dxbNveTKfF+yiuMBKcRk+ut76uXp4spHheWpshhGSbFWrdb7Fc15XiVLkusprYMEcQvR+ktvOrpHmU0t7e3o6Ojt7eXsaYIEUD8igAiqLIg5SiKIZhUEol/S4UCo2Nje3t7ZqmJZPJfD4vue0oinzftyxLURQp4ZGnT9/3OedCyZLPS+4zm81u2rRJ8ACplGSRfd+vra2Vb5GHotD1LKSoIE6oFOFQQRRDhoET+iFRy4GXzWb3aRkzelTtknffa+/tEYcHRRgmuK6rKIppmo4jjAgkDZbvmzzsSuQLw9D3fYyFCLxUKtXW1pbLZYSQPGPI+3Q6XS6XKaV2QldVVRhEBIG0jvRjywhbS0SMlctloooeGQgTRS8IFBASfcZYoVBIp9OEkN7e3pqammoGjIZhjBs3rrGxUSK6FNEIrn2wqtSR+hUISBHEhAkTKkIGSQLl8bTf32rvT79qla/V6g9VeWV/kDvAIYcccuedd8rGZYmiKBJLAEBOcKi6HpJ25Fsn5IZxYBx5UpI8+tVXXy3tOoUdWHyJ7XdIev1f20ixWOzq6jrssMMuuOCC2traUqkk6fG2AKm2c1aT0lSrv23LO1YiRROGYXDO77nnnnnz5r333nuqqt58881NTU2SHZeyOUqppgnGfcc6GqanKiyTPJpL+aPneVdeeWVHR0dbW5sdX/IQLKzzh2kc/xualTjquu6BBx545ZVXKopSLgsJxoBzHyxCV6s/YOM7UIgxlgdcAJg9e/Zrr73W2trKOf/CF74wfvx4yYhvzY5XO3vsQNdD8sjWLGLlvOS67pVXXtnV1dXW1tbS0iKPrcLDQ1VHEH0HwS4FgqqqCgVQLEthjFWOQTvY6C58TPLclS1e9hxFUaFQqOieYn37ZgzZGrF24TA/qispxpFvoGRRwjCUR1upqZAPy71oBNE/CpQf8ZuEr9RHeJ5H40vqDgd8qhqiVKOU1eoP2PgOFEqZtxT/l2LDSdmInAvGWP4khyFPDjvQy/A9Is2hJWdSYcSDIEAIydNFRf8qlUUjiL6Da4EQkkdPeVYj8SUPQ4NqcbgRutpgdH2zH4NhGPKsWeHaK/P6CCFStWZ3WXlFDC81/JVVkPpjqTirEBGxfe2ykX3MOpIIijHWNK2isZN+N3vLTKXRgXw5K3iDMa5Ylku9rESaPXBS0olWknNpjyAllRLXpRwGYywrjFD0HVzBio2Rqqq+70uldzW9tLRLGbCnahS9Qo0GfGpICuX7Kc1IpG5V6q221kPJfR9t8e4bkn6HpJHKm1lpTbJbUhMnD05yp2KMjUhdKlDakRspihY6DkJqavqbdvRrsRpC96tW+TrY+pUHB3Ujj6TSMIsxFgSB4zgVHJITlHUG1ewuqCwlQhV9LcQqOaFYjc+jUssmf1VVVUxkF4xppIsRCOx2CIwg+m5fgpEB7AoIjCD6roDySB+7HQIjiL7bl2BkALsCAiOIviugPNLHbofACKLv9iUYGcCugMAIou8KKI/0sdshMILou3kJpClsZRCFQqHiXil9C5w4Xo/Uz0sPMemTLx0LqvkfVBrcjTcyMK8cgNR/VWIlyODr8qd+EBimAY8g+jABdnublWpI6abpOI70YXNdVwY4nz179mGHHfbzn/9cKvlKpZLE8grGVIz1tre/XVhP0zSEUD6fL5VKUv8ljcOkiUHFnnnr92H4RjdiAjB8sN2ulh3HCcMwnU5XLB97enrS6bSkc6NGjYpD1BZLpRKlVIaErhjuVZx/d40adbvms6WS9L6zbVuOWfpTxxEbhXv41lRcOnFL1f2Wp4f+/whFH3qYDqpFy7Iq6EsIkdlUpAYbY5zNimAYNTU1tm0nEgkRVFokhBCrJv3cZMiNilXZoLoe1sqWZRmGIQ3cK0FgKlkxpPVVPp+Xjra7wH1phKIP63L/z40Xi0VNE2mDEEKmaRrxNWfOnH322ae1tXX58uWapq1atWrBggVNTU0Vz2hCSCVAwC7Akv95GtvUqHhv2LYtd57Ozs6enh4Z1ay+vt6yLBmZaNdYjI0g+jZLtGsLkslkJUaF9FqS/mytra0AYJpmEAQPxlehUNB1/Y033pg2bRohRLroS0dmGZFi1w78f+gNISQDJcihXnPNNb///e+lT1Aikbj22muvuuqqbDZbecP/h+Z2+ucRRN9pEO50A57nxZF9RIBmGZzooosuUlWVUrp+/fp77713ypQpJ598sjyhGoZRYc0lx0Ip3QN5dBlqRoZcVFV15cqVjDHDMGSQlvHjx9fW1koGTI5/uH1kRxB9p/F05xpgjMkIsTIYled5hJCf/exn0uF33bp1jzzyyJlnnnnNNddI4i3T00nPfCmxqYRo3LmBDPHTlFIzvqTP3mGHHTZ69GjLsjRNC4LglFNOQQjJuDQyN9MQd79NcyOIvg1Idm1BxfhbdlsRusmv3d3dpVJJ+kOEYYgxlhUqnnv9ItTt2rF/VG+VbUcO+JZbbtm2diVczHCTc3GC37b7kZI9BwKqqqZSqa6urmKxKB0I9pyx7V0jGaHoe+h6yYPp5MmT77zzziOOOEI66W3tULOHjntPHdYIou+hK2MYRj4vYvJfcMEF0kOsEmt3Dx3xnj2sEUTfc9dHJkTHGEstUiKRGKHoO7xaI4i+w6Ab3gdllCx5XJNBawGgWCxKqdzw9v1xbH3kMLqHrqoMs1+JkSljmEiTrz10xHv2sEYQfQ9dn0rgTGkWIoOW7IGKoT0UfNsMawTRtwHJnlFQCQe3tWR9BNEriyMN3CvSemlC8xHwGUH0CuhGbj7OEBhB9I/z6o7MrQKBEUSvgGLk5uMMgRFE/ziv7sjcKhAYQfQKKEZuPs4QGEH0j/PqjsytAoERRK+AYuTm4wyBXWcCIJ0IZW7OdDpdUYhI9yrpP7u1zHgPh3rgUV1TdMwBQ1H1F3V8UGfVRj0lpiSqjDyqUj5UxQMvZUBEvyjOnYi33ACAj0OCmQKRX8p75W6VUi1QEpBhTnHF4ndTmTRWFBSnXORBJHygzIGz7Q3V6AfbDqKMAzAEXGTFFhfigDkkOE8ZiaIbEMVUuSqSZPOwq5wbGDqbHx2if/1yWsvUbTLhhkzv7ft+BcX3TFffbSGhmQrQKAwD04S/3vXnhx+4j/YwE8Ddtqos2bIe1X7f2fIqaUCpSMseX/xDdBdooQDnoKiQrTU7N7iZtJaqMUIozTzmeOkLEkTiDRHvhnwaVxra3N6Wf2zLzS79jxhnAHLSLB4ijr/UgJLQdQJI5OYWqYsQUbS0kt5FiC7dpYIgkN4Dq1atmjNnzvr160ulUn19vcz2LbN67y0ZDDf19U4cO/q0z5zwtcsvfPLlZ4iKaU05idSCWhp4wYc7XRQaGOEiJLhTBILabU3awyAZMi8CF1R/n8nmwZOnH3TgfiveH+90FwnCnFJhesC4cG5SNUKIT8OB5yVo5m64OBPz3RrRORIEPmtnxjY1JmwTIYiiSFNU+boOO6JTSmUCNJkxXtM0x3EeeeSRG264Qdd13/cTiQSl1HVdVVVlyrzdALbBd5lMpyK/vPFH1zIL6qY26aNsXVX9fDFpD4xwAMMN6oFZI4pEv2Jbj+coeRjEwTAbA+rrGue+o5VpvZU2iDd9wuiUXsAIKRwpgFTAwhJBVYSpcOANDCQUDFw+zKUi2seWLjgAxUBjNqYVrFGppKliACbsAiLMOA0xHW7oizg7cjyKolSSJ82fP9+27SeffDKTyRSLxUoqwEommi1T2HP/L5gz+6orr5w9f7ZfC26d1mH7Zq2St6himAMPmgvSMowXGpjichD9bubR+WY+RORwUxw/KCUUMElQx1HSzfW2r0W5nnGdGzHlGgUNMOFAOaeccQQEV3mB0e6h6IwL5pzEg6IYIgwBEbi+oXF/7pap63IWYRUjRQR6IsNPZsTKBkEgnXklI26apswmfvTRR8v4BxUn2Y/I3jaMKLJDTdfYSdPUOCKdpVyPwfMJzW+sydlEAb1Ke8Mt4BoYEVnMulT4FnkjApQmsKrYDvX9jb1GGEKIDayobtQSFJkbYC80xF6AKLAoPvNpFfpZZXq7uJjGzBiJdyoK4CvgE4gIkBofXI/6PgDDConfbAxigxr+a2ubMpkLzzAMXdcluyL7lzGoZHq04R/REPSwqaun7ATJVA1yy1HoaXra8YGGqOoeOdyUryJ96D+5LRRX8uhbDpdsY09QY3mcapwWw8jxArPGSqqWgoBypjAwADSEKSBKEKgEB37/huV3Xu2QOnD1oSqlCASdjhE9RIARIAwBBltTdWHTzEXqayS2sDAMAxYMO6JvHURKYrNhGI7j+PElKX0QBDJoiYzoMFSwGNZ2ktkaCtDTk1MtJamkQpzY0Fs2jVQI1XjWgVmLoRtkNdZI9CsPpBVOXVD01ChFwcwv1iZrUmUvykVRyB3HK3OIGNc5qFhgUcgiP4oYpZo89w0w3N1D6iMksFyN39uIgx+Bg8BHoCEhT0JM8FxysEKyh5RhR3Rd12VKSACQcYQlI67Elwz4XYmkugcGy6wm7iyVSoBAVUPGcyGPAh4QAzzsYJQcABlEUTWWpkr1wRZXxTexxFvWfAs9B2AQslDFzOSIu0GXaZsBdRAxoiBMgpJAQBhlEGEMNgOF86hqZJSBD8Goav2BJ8ZhYNZr4NoAJocICakL4WAB1jgGFgthwhAYYlj1QXEYMgmoClag6kZbrf2R8q0gsJnI9WO+B7dgWzX3sbqtugHsplkOO0XfTfPaBd1K/I7/cgziEwush5sXH+zMhlt+P9jx7Kb6I4i+04AXp8Ct+YaBt/Kd7maHG9B2+MmdeXCw+1q/bXFnuh7w2eFuf8BOPx6FMXJ/SC9jZfmHXz8ec/z4zGKEou/8WsZ8C0jzIgxC6jVyfWhrtb2wGGamfgTRt3ch+tfbTLy32RJ3k1y5//A+/D7MGPRhR3v03Qii72perS0AACAASURBVPTyCIzfGt23vt/pxoeggS0KoyFoahBNDJZHH+59sOqqSDPanf87CNjsUNVKAk75tBBvA0jjsEoOzjAMZRiQrZOhbWdvMmPgtn8BUcGmcCY/wHGEMRe2rHRQH04s6pYt6uhhQAsB9TghQN1OkdaolEdBgRa7Dc+p5UTtY2qB0O5OgwN1QtrrWz6iud6ERSnurN7pwBONzViEoSsXAxY3CIkPCJscDMIWksYmMnJDEDZSA34wQAjgAHDVULHhAeQASqkUcLaxDveYPOKsV8PRuIZNnPmcBXU1G7iyDpLUbra4lscsn1LSXPUBpdS0GZu+OQSKKkQKVlA1LRgIo+MP96rYLh0RBBpHAUWIcZNxFVCIkbAFAK7v9RRd2sm4riuTosi8EUEQGIZBKQ2CQJoVRFEkoxlWjMwGXv9dXsrK+c9+8tS0T7xCyeEetdD8FYtyVOdMOXj8AS3JVCphz120CCn29EMmJLip+ZuKuhKadtKwe9a0trVDT74szgVVSdbwTknBCkXABG0RxEQFott2urm57uhTaNq1w2ga2NjWVre1Td7ngKVrV2f3HTf6E9lywqgNguzG7oYM7knYm95ei9pWbgjyKSAIQOWxbh8hn4dDRen3ekR3HEdaicn1lP5K0nps62yGexp+V7DP0ogdJc8/+uwso5ZWvv2ZO9eAotdPLEbBfpkxV5x4amduY/uq9m6PTh879dMHfHIieL+b9c9V1Dn1qFOaDoWVyxfd/dZjubCKDW2lm2G74ZxjQjCAsHIUR1CkqqqmaaM/dd7oC46CrjVLbvs16e1tbhhdf/q5b//HbTXZ5oMu/RJMbqDzFuQefd5uqR9/wYVQNhf821XvvfpWQiUopDoDioTdoQsf+o3s5Ax2Ex3YyVFv9Xgl9U+5XBYKG4TK5fLy5cu/9KUvPfXUU7Ztq6qKkPA3KZfLMt34Vk/v/lvH63n0safnvr5sjNqSpaznvfc3rFmzsadY6s6vWLwiwZXXnnlxzfrWpatWLpi9sA5SpBQuWfDeo48/9cIzL+ynN3x6ylENKAHFagY2wz7BiFPJFgpLKmHtSIvFYmdn5+yVG30gZQ3mrXp/zpuvvP3sU/D6q125npdfmJMvB2FKX9q38dGnnnnwwcfX9jpw0CHTP3M8pDSmiByqOkKEcgUTbej2qb0e0eVKJpNJaSNJCLEsq1gsPvLII7Nnzw7DsFQqyW3Vtm35Vgz74g+mg+SYOnVU8sk3Xy0jVC75555+TkOmTjNMPdMwdcpBm8r5BWuX8Ror0VJfDiMMegnzdEsTGNq8dxcGPMqqtQ012dp03WD6HOK6Ml+7sEvFBAN2adDd3Q0sAB7SyA2cAisHUb745hMPZ8LSKLB1rqmKlTRSqo/KbT251i6vx4PGBqyrbijeWFVVBftNRYNDNdaPA6LLI6Y0bQ8CASnf9zOZDMZYVVXbtuVNGIaS6g8V7IaknWJvL9SgpeUPnl48y0yP3n/CkTVKChdyRs47esYRry6Z166U250uJ/A4QT1hyTVRwS3yKLJTyQAp75XWrtiwPpfvHZLB7EAjKhb+R+L0z0ROYA1pOhL2ep7XqyftlKL7fsRT6OiTZmAI0aaNxCujkgMBZh5WQatPZsZqmqEpzrtLkRMEERNneRVHCLwwYMIYfmiujwOiu67rOA5CSCZwQwhlMhlJyKXhZLFYlHRiT3RILUcezyn78GcXv0KhxiZNx+x/RL3nntS0f4OdnLN2cVCrAQpR5KdNU1UNAxGt6B1Y0/jpmTM3QP6lde9txI5WUy30wNBgyUe0Inj0+JLCLoQEmmua5mk+uCVQkkeedObB536x6fxzpxx9ZPOo2iIvUohAszwgyTEtBx19aFansODNBf98xQ6EzCUAKLIgRBD7EH0oWPmIMWzPT3v9YZRznkwmOecbN248//zzV65cqapqEASu6955551/+ctfenp6Ghsb//SnPx1++OEVe+DtAc2uqZMiVgkcJ3DfWVGatebdz+57+IkHHfXsq3//wmGfXL14+bsrFjuWgxOpVEmFIKAQJQHPnDD1CMtqHDPuT4/815sr5rSxLqhRCNo9Ni0BpwQECd/MwAgzcM4YgbQJuuG5vN2Bjr6eFt/HtZm2jT1aywQw4idS6Ukzjxo/ZczKDxY98fsHRq9d1WAmGWUeo04g/KJi2QsJtpgY7+RyVEV0Cr6CCPVDomnAUUgZVtUAqMFJGEaEEMcpJZO2OIgghoW/lnz5kOe6GCvAsaZpnPOIoM6ufGN9RgyUI06DiAZEgEVcMqNDxWC9crP9s5IpKn3f1zTNNM1x48aVy2XG2IYNGzKZTH19va7rmUxG1/WhFrxIlYiYvpDUIiYsu4T9y+A2Sd9Ms0KfmkyVWPCPFXMm7DvpgIaDfnTUN5r3b3jgb48ZiaRj6MyHwGcaRgZEHqivrF7wfNe7hdkhEMCZJJRsA7IhVIk+sP2g3KGaCQVFga/Fy+8BMAXpusap29ylgaX16YV1T/33mJLz/qIFLGJEAcPBBg2gr80Iu556/pGlf+7RASYnlQQgcEsEwAZUwe1wkEbqHzGDqogee5QC5zzf05PO1omM3UK7IEz1NE3xvCBOCMgwxo7rWKYVhWGsoEGGaf78Z7e8+srrQSDqdObcCy784uWXXarrWOQ7VoVfuVTrfMSwBvVTX19fJpMxDONvf/ubPJWuWrVq8uTJX/rSl37yk58AQC6Xq6mpGVSbu6yy7wdgGmHkW+lU64b1xbC0v1l37CknvNi1orWro6/cR9IZTpSoL4oihgATIJqmqURTdUI1ooHhKaGQPg9WFTlEM/QjQa3EC44w5tyLeBj5XCU9yOt1igih7Kg61ekobejRQpSKYEkU+IZqYlLI9QVlN6PbJgt7hNRoawvQIRrcVs1URfQgCnRFY4yls9lSPt9bKJrJhJlKtG/orKurMwyNUu55rmUZumYCYEUVKAwI33fvvT/4wQ8N3RAue5yrdjZOYi/oXLy7CVVcOp3eagw7eyvlLcVisdLs+vXrNU3oFmXTNTU1MiOCGI9aVdm2s+PYsedVBenAg5AyumLtsllz35h49Ml16ewrs9/cFORIQhf7RV/B74u8BuoA7fZ6vCgUZMWlQk+jUEBIBG3ZTYgeAKiYMCZUrKBoNPIjgHQqU8KeAtRUdB1r5bKXQaROtXwIe4VvHpiqkVAtS9OxG5pErWFhNMyWClX3WU0MOhJi6Xz+qaeemjBhwllnnaUR7bVZs/745z9xgIhSRdUBEUSw47k0igAhp1xevHjxJZdcPH/+/FtvvdVx3RtvvPHUU09VFGBcbAUIIc/zZF6eHUOMfk/JfQMAZMpZeSQaM2ZMGIYVP1RZWIm30a+F3fwVE+652MAh8qjB53ywcHW0cTV0vfT+WwXsGymbRhwUpWXipP0OmEyBcEMfPWmfMfuMS9ppTDEPI+DU84UOYbdcnChYMyNAISAgCkaqaSQaG1sO3Gd0yqemw/erb04l0pxDEPgO+CfMODrDCXSXx6Wzk/bZz2dBh1cu0SE7dFYDQlVEd32XKIqq6x0dHdddd93FF1+cyWTaN7bXNzY++dTTZTfimCiaCA4SREzVTSFjolRRlBkzZmiaNm7cuLa2th/98Ie/+tWvFi1atIW2CoWOpmmuWzVyW7WBViuv+KFKbAaAQqGgadpXvvKVmTNnSv9U13WDICiVSv0MY6q1uSvLCVGARYz6RAdm0OXdqx97+5/3PP9QD3MCDTtBAI5HDLu2IZuLCk8u/Oerq+b0ck9NJYmiYY51RdcsA6oFXRn+mcj4WHzLEU2Gd8Qc6vr6Oh/+R/D8mwc3jztk+nQ7lYoAJxvqjx07Lnh/WfTEs7C6bWJLc9O4MaqlQHLI5OXVZlyVdTF10/c8XdULhcLll19+409u+tmt/97S2PLkI884jicEpa6nJo0oigzdilWSuKuzs76h8cQTT8zni7lc7vDDD7/iiivKIfF9X+yuIkQYAx5iIs6p1Qa0A+UyfKn8CwCZTCadTt99990AUC6XZaABaQmzA40P9yM6V1yicbdPrbWcfK4bs7+9+c+olKONRmzijkHRaRStal/TtmadEjKTBK6Gyho4ngMB0xTQdCUQTMxwj3Tg9qMowsjFsS80iiImWPSwu6P9vf/8j3Y9qCd6C9JcHBSKBR0gzHs99/+5yDxf4Qlb18KQloteJOQYTbuLRxdu64YBHI0ZM6a1tfWBBx5YvHjxr3/761tu/sXpp58OGAzLCCnYtsUBvCCwFZ7NZhmlpmmeffbZjMJpp5327LPPhsg8ZPpBGEMYcV3BnBGh5B26izEWhiEhREaMcRzHsiwpiqGUGoYhhS2MsSAIMB7id2zn50EdT+yFCmHcQxnBu/b19Kim6fsB1k2FaFxBNKBO4IQqUhTUVS4gw+SggIh2i0M/AIiEpSEeStqx/fMiGDgVFikEYUZ9Nfa4cPJ9tUAQ4+nAj3ghDzBKwRlVXc19EvQkObcpkLCMIiE4twnSDYOVh9dcpyrS0TgsRiGXS6VSZ5xxxpe//OVHH330um9/u76u8dJLLyUEFAJMRO4VpMTQNBGOKw6eoSjKN7/5zRUrVpiWdeSMGY899tiCBQs8j6qKOFZL7rzCT28/QKvVlBqKKIrkKVMq+SsGuvKcKjs1DGNod5JqQxpUucoRoiydTnq9XVzjeb/IFEoTKqgGUdXAC8OiwxjVbE1N6q4aQK3FDUXwKprQy8jpWwmxqe6Wy9BkmCAQ0nPgBkIpXVcIT5laAlgGo1HEMgFIxJDrgweaJgR3OoMEh4yiJgHZlBjusPPoQqA9IIDCUCcaStVmAehpp58y+51Zi5ctq29qPvbYk7kI6SguU0WcReKFVnEURnf/8c5XXn0tDMN35s5b19o2evRo3/f//vdnLNs44vCDY7tncRLVNKtUiKRGrXJMlDdbx/QacFTbFsqV7lcu48NUBOfyVNqvznZ+rQYfzDESjCmmSHw4YBHfkJFBitHB1T0AvZQHojSBOFKGgBUurNIxiyIRuJII9pKGERVyc03QFcGlEAAeYQBDiRgHZ9CqcsxVEepHBEchYuSICftDiE+VQkAW+wTyWDkgOIs4du2AIPNE1c2DgjhWo+8TACcqmcJOnToAUsRWBKgXpA5kcEpKgQpTdhFMyR+8ql94LsZxXeIWcGyeTgWOiSgM0sI+1mmIqQlsrcqjaxrq3NTZWJ8FTru7eydPnnLQ9CNu/tkty5evverKKwDA8z1LNzzPsywrCD3DNDVNe/jhR8RaMejN5V9//XXDMKYdMv2ggw5SCPZDFzEey7PRHssxD7iUH8tCYVC7ZWIymt3ABG9Lnb39f1VE78l1NtTXch62t66/9trrv3Hlv951z5+f+Mcz5WKOKOiSi79i6CIFgjTRFLQT4a9cdtlZnzs7k8m8M3dedlR9U1OTEHRwo7FRvNIxfRW0yPOCPdC4am9fyB0bf+UEK28+xrhelUevqUkBRGHor1ixbML4iUceedS8uQunH3LEU//859KlS+Vpr+yUEwlhTkQwCRxHSDyy2e7u7hkzZkyYMEHX9Ww229iYDkJwPZ8xpqniwKSqaiYTWwTs2OKMPDUUEJBiQUGqtmRH+TDe+FC0v6e1UZWiY8C9fd3ZTG1zc3NXV9ftt9++Zs2ayy6/8pSTT7z7D7/vNw0OvLu7+5VXXrng4q8QQp5++ukw2izlmPfuimOOnXnKSceG1OfAwyBESN20aVO/Fka+7noI8BjFBcYLKyTx+RjjelVELzmuZaUA8KRJk/OFvu9//7uJdO3MT8740Y9vtm071q6rtmUzJo6VYeRff/31zzzzzLQDD0IInX76mRygrq6uq6srkWnyA/eUk44VTA4RcUYBcDab3fXrOtLjthCQ3Hlsbrftjx+rkqqInrAywiKRBVEUPfjQQ1946OFDDjuyvrG5J9f19W9cLqKbe64mDLQQISSM4KabbrrssssmTZqUz+d/9atfTJ5yQBiGruuuWd+93/h9hFRe1UWCsDAMAlYoFD5WUNwbJ7MlkJ5QasbHUknU98apbM+YqyK67zNTx0EQaapeyufOOuvMtg0bbvzh96ZOnX7c8cf4vm+Zpuc6mmmEYWjoxn4TJowdO1YxTF3Xv/nNbwojJcYsy6II9eU3K/xF8iRVjSKh39mewY3UGYHAUEFAWFkN2Jauxj9QVi6Vzz7nrG9c/c3Z8+f/+lf/iTVbVbWvfPlLQrgr2BakqnoYhk89/sCSxR/09BYJNq1E0vFLYeimM4n1HeXxE/a94bp/lWYnQvpuivqGYQRBwLnIexaG4YDi8AEHtocU5qKiYWte2VFqFB9FHoqS4s0vu+pQGmbu/GRV5gsTeRE/TAoeWCxpZqbbFEKBaD4NiionqKQmtbTnWxaKFAU444SCGmsNIwV8DHoV68KKFdPOD3VQLXBFeGaITDXiaMEoFsbuFoIg0tUIpViURsLWhAopKsXwkRkv4myJZMHcRZ868eTPn3v+//n29Sed9Omrv/Wdhx566JyzP5dMmMmkjQAopaqqLl267Kc/vdW0kjRCRce1EmapVAAESEn95re/7ssXMumE8BKnlAszRpGbrra2tqIrrVga7mnEvprCyFJ1txwkEglHKakcKUSLOKIMINhthoQDIgrHEtGVLQbfHJDISoShhJGrI1+HUIMIET/A5TIvlBkJKA85BCItiph9wIEy7lVRGW2V/2vA/oetkAmNrEzJJJJ1cQgYUA7cVCLCvNB33FLS87EVU+xYNzbwUCLq6JoI2mRZ1rx583776zs6Ojb97GeXnPbZUx544AFFUfyAKgg0VTAhvu+fd94XmxrHHHTw4f/4x9Mvv/r6L//jVw0N2XWta+67/8nPfvazmXTK8UqWLixPSiVPWqR4nsc5lzFYenp6bNsmhOyAcnTgCQxzaUO6FsV5yLDGTYpYMSgUSwaGhLrbIk8MOONQCYErQuEq/kKM5QLXedCnId+goR2GVkQJsFDxi0qpZKYVBm4kEtMRBhHiNCaJahVEr8IQDDiWoSykwCuJxxgSWelkBkZPjUKFc0UQU5EhFcAPQhq4VXl0yoJiuaRj5aDDD7XtxLXXXN/cNGb8+P3/9VvXZrNZYdutIBYJPYP0b9hv3wnjJx0AgP76179ecsnFhx56CADU1o76818ef/755y/+8heDIEgYwiRD1/X6+nrHcc4444yOjo5UKpVMJnt7e6WZocyVPpQg2bm2qr14JoioPVbC3lToyXe0jdbGGwovuSVd37McOyKB6EiowD9E9AgQZxQwUANxPQjVMsdUCZJKyVQ21aQUCgoTKVNEdmYhfBS4Tqook3bXaaviVSP1AJV06b3czXLXYwEA01XEEaiajrTYjmJATDB1E+lx2h0O99xzz2VXLGgas+/4CWMUE6XTaWmhJfl7jEXaVepFBNDGjraZM49evGxpb2+3bafXrm198MEHLdvAGGdSGddzA8/PZGpPOOGElauWrVmzhlK6du1a27ZlrvQwDPc0D6BqiF4ueUfOOGz8+PHjcNOkjQ0p0yoHLrVrYtOPASG6ewoVRgWDLrBcHsZi1gVRrOooEtnnMKeqQeozdRPG71/yCOorCx8wLiz2EAhXfIlJVVh0wLvJFL6SOboi/pcEPqswuzmr2noUBW7JMxOxtTPgqhS9p7cvYQs/OQhDYhoTJ41PZkYtXLi0sbFx/fr1E8bvWy47tqEDIYqiiBCHRGg9G5ubP3f2Gfec9cd3Zs/VdXvunAWWZZ144omFguDRdV03NPHyTJ48ecKECeVyOZvNFgoFzrlkY0zTHEKfjCHBrGqH9WQNyTbX2bbdkKgZ60akWOrrLWmWFir2kPQ7VI3oNNqM5R9SdIHrjIc8xBARn6rcNFJ1NWZNFjdk2pPCXLZyMqnc0Ng0attRCU55d1yYcWFJhjcruYRVHYuP2y5Vs5Zdm7ATpoJw6EVc2IZXT9aVrW1glAqrNVX9xlcvvefe/4qEHZjCOTryE5/4x5NP1NakhNkaE/7RYRgqRKVBoNpKodB3zx/vPvWzZyxftoZg47d33f3ZUz8Vm0iKYAGM0Q0bOu+444677v59Op3O5/MAkEgkKgnU97TEdJWV7rea3HX9+dC8z6gN7W3luYum2TV2QIteyRBGqXvQFUN+AKkLhAVMlYiqASiljJ13+gp2OGfVgq50SepHJS1HsSW2sDCsQhMFwd8dl8pFOGN5fsBcHCcku5XdGCSy9RGipmnoliC+HEMIalWK7rqRZYqMjYvmzH3k7w9948qvvb9s2fRDD2/fmDvyyCPlCVJmhTYMQwQGYoAZBqDp2to0wKxZs2ioMobsjFEqh0lbLbtlzCFh2ZlMJooiXdfnzJnT0tKCEAqCQLIuuq7vaTy6tFrbdimXzl149CnHt7W1NZbdOtBhfQ8v+/s11nkde5Z1gwhHu9nmNhYvbo4HzUziE66H3OzDFIVKQL2AF4usN2rKcCQQiIHAYcwFdUe8KqIzunsQnQvr6K0QnQOPyTLvpchQsEJigZFwuKWEw0fw6BZ2gZuAlFAxW8Yf8Ovf3nX3nb/54rnnvDpv6fvvv2+Z4l3p6uqprxPKfM/zsGFgQAqnQIObfvDD2/9w73/edd9nzjrre9+76TvXfMu2VBHzFnAsZhHueVEUZTIZy7KEM54hQgZIW8gh9MnYFjuHsERLGsAJcU2cK9U67mgvXwM8bF9fM8isdEoszRB8MAi5gTxUxTr5ge3tNCHCHOCqiCD6/SZTpPcrFNIXilRSpsixNZOYemeJBl4EBikpKUcFR8EUg0aFkX2EcUBARDsZzFUN/REEDEO4FcuhChIpmBDBYvWT96MImMC0ba+QgBYfmimCkIhI7mYEZgi61dbrFno7i6MUL52hyMAi2DsV73qVS8SjF/HFJ0yYcNJJJ7300kv19fWHH374mWec8dxzz+X6RJC3urpsX18fABiG0dtXIMIVgTz81wd/+avbJ0+e8sILzxtE0IO//OUvIiU0CLYqjqgPo0aNqtLrXl8sOMXBfEQW71geLGAXyzoIFyIOIxz4I5jRQX2qDKYaoCtkUtJ1+ZXFEkbBKmz/R5Lbbf5ywWLEIiCB1uIj8vWCCLIuPpIb6XczUKdiSPFn80384EewUVVZFyDEK3u6ncJEvfTSSzHik0887p03X399wfKrrrqqJpN03MA2NKnoyefz6WRCRLwIvbXrWh9/8rGjj/vUz39xOwZYvHgxZZNikTxzHCdh2cViqaenpxqg9/byamK4avMSnIUg4HF2idjsRK6WWeWMF1Qpr5hn9euo2niquSRtRmUkSKx8A2lMfQfLoVSTr2NK4glvcfuI4weI3QxFoijWdG6eQrVNIf5Zvns49najWLz8cuT9pl/5WhXRC93dqVENgBAhMGXK/r4nDuM333wzNWsQAscNDOEtCNJXKJ1OR8LBV2FcPeiww1546ZVex/cD92///eiz//jHVy99yA9CVUMJO8EZs217Dww7UYHITt4M1oinspqbHxQ8sRhCpbzfeKq1Xy0ySrX6VRFdkkmRcFyQzM2sFK5Eies3nKpfq7FSFOF+dFf2Irwz+73D0uysX2GlQywiBckdQFgBxKP9iLexKqIritLd2bmxO0cUra6urqd7k4pYNpNcu66rvb395JNOwAjCkHqu0HhblqUomEYBUdXjjj/p748//flzzhe+eoh88viTzjjjtCj0IOSKqsdiabQnRrWtQHDnbqohaLVWK+tYeVDe+FUeqLpgVepXmq3ye//izYbp8asmTdUFXg62ldifo3/T8XfpbiwZNllB8kgDdPHRiB5bz2/2GomH99HWl1XhtmbNmhmfOAapBuMi/paiYB5FwlU3Vbv//vufcPysKIpMTU2lUlvmE5bLpVQ6wxH+yU0/nXrgIWXXJUS98MLLVAU0xQBgnu+ZuhGGtJoWZktTe/H/CuJu5xzkGa9yVJIYhYU4b+AGyMBn0ao+2YMdz+Yzg1AVbWZdRLi7wbYCgpcY8KJIHDsFUxT/LH0+xJxkDKQqTw3Q1JaDingifnbrl2fb+lURfeLEiVOmTJl+xFGabvq+n04l8j2bkpbe5QoDdEqpZWo4jhAkQ71hxFLptFMuP/rYE9dcd/1f//rXE44/IaIRIsq61o1jRjcQLMJ0xa50pJoWZtvx7XUl279ScmqSwnGJVXGR0EeCOLINeA22/cHWlyddgYixbFFQ1RiNqiHugIMU+0G1jhXKmGh8M6Mi3ZqEpGJLiXywUqFKO/I9FMi9pWYcCaDacKpHAWCMzZk/XwgM42ddxxEixciPVLtY8kxDZRw815MMtwh0iCMGyLLt/SZMnHLAAfWNjYwzFoWrV29cvWZlU2MWVNBjtSgA9PbutgwNVSExRD98BJs4YA8MCZwQEuuYiEo6F9umDFgdwipcxOZ12uahqEr9/gzxlgclvyDRFMWEWWJSVcTd8mC//9W6FVZlcR+bG9zc35YXo4LW8lQqyXy/puXX2GwyFvOL75slUQPWjAurbJDijWRXX3HZX+//SxiK3VVsNQgD0e645eZyVxunwjCSWIYPEHBf04GrtjDABUdhpXXLlx85/ahDDj3yiGNnnnzyybNnz5ay9oiKI1C57FbC3lYf2J7+i6Al8RjlWuBYbGYK+eDmzKPbeePoKY/oDoOEodUmTSDADFzWoBszojJFRIphvmb26UlspzCwLEeUQ8HC7QQ2cuFpbnKoE38+3Py3vq82DME/bP2JtxTCIYxju8ThUZA4OAJhCAERYvUBP+kwVP1QRYRhhXoBDSOFM14qRsVuPSmi0kdBOdJFmHwaRCgf6IhDd4/qeCnD8imN/EBFus3tDIiYqVRhFLnAAwMrNCCUJQfsND65csp4CDwUyfAiBlEEQQgBQozSkFLh4YCxpPLoo2xin3vuuZdfftkwjMWLF8fHTSMMAt91x0/a/ze/l0vNzwAAGFVJREFUvbNUKhIMQWy9aGiW43kiFpemRYEvkXj8+PGU0tbWVlW4FEWaptqmrcQ2ZLZtfoxZl8G+oNmQNWBjFFJdN+gpupyCQZUMsZuxaugEDEAWwoGT9B3q9yELvJj2NSupMUybmqhNID0CtDoYsqCtgx1/QeNe5HqeQ4hKEimkaEQ3ss3NkKmJgqCczydSaeQzDTCmIqqPjyCxz1i1JtNVzoOKIZmkUeQVSr2lAihE0QzFspmCmUZAV6vaTA52lB8RwKirq+tf/uVfTj31VMNKUMoJET4ThmU1jxmz6A/32LbteSHljCh6SEPLsOPYUaxYLI4dO3bOnDlmIos0QlTo3lR23FJlI8uJGHe1lZBxgx/wx+0JMyznZWxx0EWOEMrc0NdCFkCII3BUCFxhvTSakBDCiADTsB4wpRxpjOVLvVGcuFm441YT0wwzwCLMoCaJmBY5HvgRMOq4yFUcbIg3MpmqESbtG3OBbhBV9cMA8oVSmoAbAEJ6KhMEAQvCulQqH/DAD6C3BxImAHelxEcI7oZmAlUPoz09PeMnTqLiElgujhcIsTAEVdN0kygoKLvCvFYEFIt0S/V9ZuhQkx0FQJYvX/rgQ3cEPPrsWZ8+7hPHUZYsFEuaji3NkJG6tpLVDM009t5WEppVDMp9ip4jmBMwiIJdLw2sbFmUeQAo2ZAtF8JurHp5L1MEDyITKV1Ruba2pbvUZ2cst3tTjW6AP7xBOqtCOAqB6DrHGpg6QYBYGAVRGKlJkis4WipD3TCVrNcwQgYpBp6uN+IiZV4EmsL7PM5C4BBSSiJihoiDYStWX1im5RIQLZGuLflDk7KmKqIfdthhb70z+5wvfZkykXS9UChm0jYL/H++/KoXhblcrrYmw0UCT2pbwjA1tl0X3HxHa+uxxx5bcCLA8MDD/3Xbz39z/vlnppKJslsslUsJyy4UitJwoCrs/jf90BGUM1P23/foGWjcOKYolusnc3krCJfZZP0b80jePfj4k6LmxpUrVxSffQq6NwqZjKqSdF39pz55wOR9Cxs7lj/9HG/dsLtghhJpXgpJxCbWjTtw7MTGTJb6QaEvN9dd8l5hVSFX3L95/OH7HdBUN2rR2qWrcu0HJSdndTNrWmvb1762bG6fClo60deXm9g0bdrosVPHjV7bse7NlYvWdHUiSu2ADQ2ab3GYHQBKTU1NixYteu3VV4VRDBIqIQCYO3fu//3Vfxx21FGWZUjXEwUJS16ZyAYA+np7nn76aYzx/f91/6L337/77rvnzZu34oN1ckPQdR0hlE4n6+p2ZwLYAWa7+4pChbQHXqG2ZtxFX9z3vM+vipwX5r41681XJkw/ZMy48QpOklEtDZdeOvOH3z/k4ovbQWcICpHI8NZOQ+uEY3sUUC1DBAfcTZcWcSPWA+ZyeQ0bnzngxAsPPeOwzD65DZ3ZdAYYQhFuMDKf2O9QW9X90OvrLO5fN/7KIy/43lmXnbrvYXYh8PMlLWESpIzONh6973QoukHJ0S1dV5WoNGQOuFUp+qRJk6ZNm/aNb3zjy18R0VoQQvPmvHXrLbdO+cTMi78iAi/2dHfGcYiQyBdgGX195ZqMlqmpiaJoxowZn/nMZ9LZ5L6Txs57e8kbb7wxuqXetiwc2zlSitrb23fTuuxx3abU5PxVHW3vLDzo6ypY2rIVK0tLlhDGWp94Jr9iXWv7hmjVshN5CPu0TLrgrCXL5rpvvFrOU79tU1df+ROf+9z8OfONDZ0tu29afq6PJDIUK6vb1j3vwYwJBx1TN7km1LrWr1fqGwlWN6zvgEl0zQfLlix4t83raOstTxo93pnq7ofrvvTJz7TnNrzc8Z6Zrlu2dnUi5FMammbPm7+B56CpRlEBh0ocGncIplcV0Yllffe738274Y033qgoShQJAdEZp5964/+7Y58xYxlENemkkGhxapkGFXkm7FKxN2GjCy+8cO7cJbW1yb6SayVE0sN169bZlhmx4INly92yc8QRM0Z49A+XzvUbzGxo1gLoEKIEVwxFV3L5jkefKiFODTPSolxnW6HQPu6gfT9367UvXrxSWdsX5IJRSgpIcpSayInEdkN1ZvtwXNt5p6SSAjfSNQBaR3dh7nvvHXXixE/NOH7qyv3nr1uv2LUWM489cuaLTz/RuWGjvW+mnGyko2qWrF6lp2uPHH3gV885v+3x4mq3B9XWhQRq6uuS2RoduIuCwA+ZXQvBIO2Dq4y7qhy9UArVRO2t//cXi99f9Nf7//Jff7n3ndlzH37syUPH76MLCYuC1QQgHbAqkjQJ73I/kUi5ZbRqVfucOe8c98mjLvz8Gaced+xtP7/52SeeOPXk08469fPnf+HLfTkXOJRK5dhed/MZtyJtrNxUGe3AxRU/2UpWx63dgqIokjZk1VwoBm50+0qFb0usixZO4khkPR7s1Wa4Lg7y3UWKwOWua+IPOC0ccVDD5z9dJqlRUNfc59UsWvD8dTe4760rTzv2Uz+6jY5rKkBRt4pgozXlgGvJjMBzPMjPYEc6cP3INcBlNCqA2u3bPa+tmO2A4QXJiyd/kWzAfkAPPG56d7Tx+befrZnUVOZObWsHsM75fMUP/n5HCeCEhk9cfcz5DUXON/YkLbs39HIlJxHpOrUhRD3lkjBdHugz8Giql1al6JLoYownxpfMpbg1AvVrk2OCENZMq1B2unN9q9auMwzhE02Iunr16sWLF2uaRgjp6OgIQxhCiu66rmmaQRCEYZhIJGRK3nw+r8WXoiiECIsDWU06/vUb+e79WosUlKhpUzTmh2ZD4sQZMxOjWmrG7wc96959+q2QsNr6LC8X189b+NafHzjeSMEB04654oonb7ttUymANRumNY1pW7Y0L5RFQySHGyw4CFaNZOg5wKmW+P/tXdtvXMd5n9u57uEhVyRF0qYU6xLHig3bgO2oEGpVRes2gFEoRduXAGmBIOgf0KLwYx/6locCeSgMOOhD28cqbgEHFlI0UWHJdmzXke3KEhNZsi6kzYtI7u2cs+cyM8V3hjym6XNW3s0udxOeeSB3Z+f6zTcz38x83+9z7jVql6689WeP/cHTjz5+6vjjt+TGc0+d/Pk7b/kGXl1fR1OOmJmk447nN96/8cG/XfjR2d8/++yJ31s9vfHiz37M1+pVas6NT1zZWMTMJGOuiHtYOvI7UMjoyt5HgROprBhjhceSWxImJI4AqPHkyZPnz5+fn5+3bdv3/Wp1Ooq4wmFcWlo6fvy4piECug79CUpPOPMqyjl/5ZVX1CNXEASMsbNnzz7xxBMq2QgyOg2SWHqJ7wMGSRzdWriqv3vl2MIN+2uTYeQ3RFKPWwe8hltvLr786l1t/Cv/8HcHvvn8iXubL7/4z8gw7924aRKJK0j27djW3bgQISuaXquHSJema2+sNM7//Ge/+9gpmxjPTD8065tHqPPSm5caFmljPqbZtThqRJGNxWa8+a+vv4JnZ7914pvfffYvF+4srt65JVc3K5IIP6CubllOQClq94fXOzE6SQN4sIhjzkHlsKMPIKLpZgqAjh458ahKaVqVsA0ZHcd0HLhETzk+VjbR3VG0ILUQqT2H4xBCwjCUUr7wwgvXr1+vVCrK3cCZM2eUsmSr1RpBTxsUdCgkMw0E7//e4tLt5IP31zlC7zNHIMOpICLNcefE3Fy0svH6iy+tHXv46b/4k6e+81fowcNoctx0zQ0viM1ipaUCuvUrWvI4aXMkJCV6LHhsov9bvn557dofTR97/hvPtnjjo6sLa63NelU3bbe90UT2IR2xSct0Z5yb8eYP3/gvHI997/Ezf/vtv77w3+fHBMVBu8JYm9B6o4UIIBD1JRTK6DtL1zRNebrqoF6bJADEqPYBKeX6+rry62mYFBPpB+2W5zMNWbam6TRFUNpZQ++f01kEzggMw+Cc12q1VqtFKfU8T9O0+fn5ubk5Jfor53W91zSYnAlCIU4iwuu1e7XmJmFyzLUMk/CV1iyxaSSbXhB7rdXlRUvGPFh5//sv1V69SGceeubPz/rTdksLbZuiIT0WgTYVgYXG1AHIJGi12JhZo8Gr710IEX7s+BMnjh598/XXNEeTOJY6iwOOvLbWDETDW69tRuPmR7W7//nepQu3rs3i6T88fWbCde5trCEmqUZQEOIOpp5dDkfhii6l5BwQcRU+Eeh1SXggKuJ1yli7DaChhBDDMA6kD0hCwG6ggfd0MzsyxnEYRX0bGd/3CSEYY03TUvsPdu7cuVS7BoR0y7IeeeQRBZo3mtYeEUXNMJgYd8fHJ5DmuYa26dVwIB+ynGYQejGvVqe0qakEi5gH1Uqlffvqaz/4pz+enTSe+ap9aGalvnJUZ66P/CJ1xC4Zotvk1NaiRlvXLQRiRhtNVLgl31h4+8apP9Urc5dXbl1ZuiGnCeIibAWGVQk3/akxZ86d0JhFmCYweu/ewr+8cY6Zzz82ezwyEh9HISBXYKRpZA8YPYO3VR46FSd1Bl0xzc8MtoMgVAfBzDEipTQAUwwAPFLwot3SNDe9esmCJ9p0EgZBcOrUKTUt4dqL0kajUalUhBAjKLcghHRbmzGnHzh8FHkRMpInDx29+8CDzaXF9TgOEfnKQ48ee/gEeuDw6dOnf/U/lzzPqyCvsXD5zR/88Mzf/w3y7x6bnmp+uPwgstGQVvVEw8igEY9wrCNdT0SMGVr3au8u3mw+HP305uXmGBHKEM9vR5r+5JNfcyad6mT10a8/+fb6WpNQP/j0tZtLRyZnrdkxDzW0gy5CrVbkI6pxL6B9woMqXNE550rR8X6i+Rb7JRIcQzO2dc7ULUOdNzOYXC0NAF7H4Wyay7U9RKp5mG4arNFoZArAissJIa7rKi7PwMB6qGVwWXgYHz40K5rtl7//j7oRPh1HR2cfePf6Yg2Fk/b81OHDH3y4ULl7rTpe1SjTWKy50mh6n1x448d37nz9dw7Vbtyerph8SCdRkFRljBht+wERktl2EkdSItMx//0n57/6yeH//fDtNeHLSJjMFHYlivHYpH3p8lufVquEaLgZH5i0wnGNyeA/fvqTZX/FcOO1oBmaSeKHtDLHQ456ubPNGa5CRu8WvllLt5qcGghguShERVWm8vKck7KnKEJIhqa089ZyJ4ajEreyZD3VM6hMJCaL194R194ZS62SLyuLG41MJggFnyxd/BG6iO4hdDvVDnUR1jakhluc/1Iu/PKjBTSdXuS3wCgp/7iVWjnnNr4/xzwKvnAJAvVVJENAWEEMtVF4FV+5eu0KNKqyDRgvEkaTi5cvYik0yYlMkIWCwI8xbWGDHmmeW76IlsEAGWEB2KVJk4IiYyGL5vaqKLI/pRSVXsbflwLK0IZgsMtU0BdbMR1zbpuPDevyvGPjvsSPYFeVJtuFCPAlsvaYpGT0HgnXr2yf4bqkdlxKDbtz4TATUgM8lWzLJq1znj3/tQhnBl7EQUsw/ZP2I/s80DaWjD5Q8t6/8OzlbEuSkFu3JwW20Vtv/YDsnOYEW8mhPYp27l1m/rkrGbRbYbmAiJ9O710pBvG1ZPRBULWLMjN2yDhefejA6CpLlh5UoLuocI+SSkAzzQkEMYSxJFhstRpjMErNZLGcLH2JKhm9L2TsvZAiXJf8o2VaDxg1b+OiZDbavbdgb3MCSkwKAKauyBW/Q+SAm1Ey+oAJfL/ilQQCUnfGu2pDL8gIyNypmuLOGdJhVhQUM/BoUbCiKwkNJPh0GyoS5fvevpLR+07S7gpUWJ4iBQyCv2nubTbIL2rXNj+Cckt+u9NYgrFUx1Gl2CfhdArIzgN+2d0LRlfaBIyBT1MpZRAEYRgKIYIgADhpQsDylHPGWAc14A60G+hPScEArCex5Zo8qlMZJxIjVtFFTJDXrZmAmYd3ngnuX+yaKh8QjrYTARQt3LLnb/75sbCecgz+uhghOhKGRFpCUMhkmCJ9U8ETghLCAYVQnRm3q9vVJN7ldXyobSNzqJbhJGFJEeJpWnW+9iImVFKk4JmwwOBajNEE/KEKpCHPRJs0mkq4xQwYQLknSm9KCzLzmmvbtmVZUsr5+XmMcbvdjqJI+etSM2EXKYf7tUgqmBqf9Oue5NwZd90D1SRaaYWBThHr0wNH/3qd34NERoRgjgFvKQW4TRgSTESGoDwVK8CDbAqKpA67IimYwoPeUAomGEFiC2EUpYD0yoeRQIyAlonOdIMZoLGCBeJEJINndCmlUndRSEZJkhBC1Gu854GdkW3b6s0yUzro3xj3oaQiYBGcwFvHhDveWv40WVpkvu+AP0rE8F5skl++Y0VOtqiMCEXgtIUITDjBCZORJjhjgAYOIhRFZHuOwCWmuf3l83UP+sWnEPMxBT5VIj5OYdI0kWI7AciYABfAUqaOxMD+jcBdz4BD5qKIpSEMAWgHgNQsi4HCY1sJLcpfaUd99wE3tKD4ogWr5fsIobGK69itsTF3CmvjPJJxIAGMZYRCwYKINIQoeEDnQiYcXM7GSRTyOKhFAThiVmferPMSdXB3NZzeAtTn9sVqupyDymOKoIcE5rFIoEcxY2DqiTq4X+xj63VdV1K40hpHCFUqlSAI6vX6zMyMgmVU+u5qve9j1b9+UUXHhoMHDyKEbt25fagVOII1GgFCURVhrUCm//Vb0lsJcPLLC4a0MEUJxVi3pGEh3STMIMzULV0QxFJfzGq1Vj4zhPJPkFfUUOIkgxfhbEWnGBR7wccxR4RTAkrDcCAUoGoec8EGvqK3220lmSgdXUppkiT1ev3IkSO3b99WKllK8b3dbodhqLQdh0K7/EoLsMF/8e7bB6oH9IrT8qNNTXen59rtIHbdT+t388sZUiw4DMoLlrQpxSGRNWbUmOFhjQlNxsyte8qNBLjwVObWqb4YoGjlhYLovKQ9xRXdP2IJXK4OtCRF2WYcDNVjPxJhjKVklOq6TqjEFKNk8CenKIoUoysY9SAIhBBTU1Mff/zxmTNnlPtcdQbFGDxhRFH+KbsnKvUjUwGjO1Svhx62La9ifOKa+rRzp14DWdA90o9a+1aGLHCEK0QC+PZchNJoV9zIGNOJY0jn4M1VicFrHDiQSEUDmsoISQpL+MVmFcrQX0zaU0zRGQAW7LSF6qwMLr9SRncrrm3aDGvwLgUe/yRGhO7ByUmpzrbbbaU3yzl3HOe5555bX19fWVkJw9D3fWXVgTEeQWs3UsToHLFx66mT32jVNqPVNZPpYX3TOeAmQb6o0NMo9yFTEaOHcpMgYcaSRbqjj5OZiamjBzdlw4nBoa5y9YYQrJFYaQKLfBOCImdgfWh6WkQR3jxNT8pql4HLVgEOIjFCTRPPHZyrWFaSJJ7nmZgyTcNYAzmmX23qqpxarba6urq8vOyB3ximjqFJkgwCfaWrhu1KjEHuywkyBBNBwwAIXOVYOAzDOI6L7t1zitiTqCJGjAQYrQOCeGohSdONPt3rwedmGIaZ6aM6X43gPUEu/doBtyyrWq3OzMxMTU05DtgTow6w0bml9DHSMIyJiQl1J6MuZIQQSZL0hmHUx4btLqoAmUPG8MKlLJvAg3gKkwTtL5gYu4vdq+9FMjSXYP6bwfUoOzLYdWFbhaBue1UCznm3hjh71b/d9QgOtpq2bY+NjWXGk0IAUu5wVnTOeZIGKaXCGMreR3e3fajfi56miQAcbUq3nCmoxgMxCybGsDpxX0ZX9rXKBB6MvySA86jlHF7n00sbmYZhdaGregmGDVZ1J2s8TNphMTpMsm06qp6olozail60DBRJ4sOiZ1fcoJhbkfoLBE+2VeLBOCIrNovMYkbzA4YXAkCsyJqnZmn+3VOWaHAfdsJmCKHesbbWj8FV2kPJRQOsmCBb6rJJu5PEPVS3Z1lUy3fxevqMvWUUDz/tuIOXcIPxGxCE3FJVyNZNdRQZGqMX0WzUGKWI0Xn2MJSuepAsXUXUbUBR7/Y+/rOV7fN15x6x02dzqiTJzycHYWBXzGh+3SkpqAVUtXMkGD0jomrlSFGQFN1Dy1T0+vzmPmqztFtK7uSSbvOOTvpMGFOKsaphQ2N0dasFN7WAbLAVFNDX9reR+F+0IoptFb+slcrpIR6xLb7wHhp2IAjZ+q0ujtRVjFp6shO22v2zno7yBwUSurOFCtlqaIfRnU0pP5cUGDQFfjMEr0FToSz/t54CJaP/1g9x2UGgQMnoJR/sCwqUjL4vhrnsZMnoJQ/sCwqUjL4vhrnsZMnoJQ/sCwqUjL4vhrnsZMnoJQ/sCwqUjL4vhrnsZMnoJQ/sCwqUjL4vhrnsZMnoJQ/sCwqUjL4vhrnsZMnoJQ/sCwqUjL4vhrns5P8DDvNp0p/NMzsAAAAASUVORK5CYII=)"
      ],
      "metadata": {
        "id": "OvWld_M8Fa8e"
      }
    },
    {
      "cell_type": "code",
      "source": [
        "# criando uma tabela para exibição dos:\n",
        "# VN = verdadeiro negativo      FP = falso positivo\n",
        "# FN = falso negativo           VP = verdadeiro positivo\n",
        "\n",
        "pd.crosstab(y_test, y_pred, rownames=['Real'], colnames=['Predict'], margins=True)"
      ],
      "metadata": {
        "colab": {
          "base_uri": "https://localhost:8080/",
          "height": 175
        },
        "id": "HBNBkfXDQnZd",
        "outputId": "7ef81489-c51e-4bde-bf31-2a92fc389487"
      },
      "execution_count": 69,
      "outputs": [
        {
          "output_type": "execute_result",
          "data": {
            "text/html": [
              "\n",
              "  <div id=\"df-7ca03028-db55-4768-976d-ea7f819b207f\">\n",
              "    <div class=\"colab-df-container\">\n",
              "      <div>\n",
              "<style scoped>\n",
              "    .dataframe tbody tr th:only-of-type {\n",
              "        vertical-align: middle;\n",
              "    }\n",
              "\n",
              "    .dataframe tbody tr th {\n",
              "        vertical-align: top;\n",
              "    }\n",
              "\n",
              "    .dataframe thead th {\n",
              "        text-align: right;\n",
              "    }\n",
              "</style>\n",
              "<table border=\"1\" class=\"dataframe\">\n",
              "  <thead>\n",
              "    <tr style=\"text-align: right;\">\n",
              "      <th>Predict</th>\n",
              "      <th>0</th>\n",
              "      <th>1</th>\n",
              "      <th>All</th>\n",
              "    </tr>\n",
              "    <tr>\n",
              "      <th>Real</th>\n",
              "      <th></th>\n",
              "      <th></th>\n",
              "      <th></th>\n",
              "    </tr>\n",
              "  </thead>\n",
              "  <tbody>\n",
              "    <tr>\n",
              "      <th>0</th>\n",
              "      <td>11740</td>\n",
              "      <td>237</td>\n",
              "      <td>11977</td>\n",
              "    </tr>\n",
              "    <tr>\n",
              "      <th>1</th>\n",
              "      <td>1315</td>\n",
              "      <td>272</td>\n",
              "      <td>1587</td>\n",
              "    </tr>\n",
              "    <tr>\n",
              "      <th>All</th>\n",
              "      <td>13055</td>\n",
              "      <td>509</td>\n",
              "      <td>13564</td>\n",
              "    </tr>\n",
              "  </tbody>\n",
              "</table>\n",
              "</div>\n",
              "      <button class=\"colab-df-convert\" onclick=\"convertToInteractive('df-7ca03028-db55-4768-976d-ea7f819b207f')\"\n",
              "              title=\"Convert this dataframe to an interactive table.\"\n",
              "              style=\"display:none;\">\n",
              "        \n",
              "  <svg xmlns=\"http://www.w3.org/2000/svg\" height=\"24px\"viewBox=\"0 0 24 24\"\n",
              "       width=\"24px\">\n",
              "    <path d=\"M0 0h24v24H0V0z\" fill=\"none\"/>\n",
              "    <path d=\"M18.56 5.44l.94 2.06.94-2.06 2.06-.94-2.06-.94-.94-2.06-.94 2.06-2.06.94zm-11 1L8.5 8.5l.94-2.06 2.06-.94-2.06-.94L8.5 2.5l-.94 2.06-2.06.94zm10 10l.94 2.06.94-2.06 2.06-.94-2.06-.94-.94-2.06-.94 2.06-2.06.94z\"/><path d=\"M17.41 7.96l-1.37-1.37c-.4-.4-.92-.59-1.43-.59-.52 0-1.04.2-1.43.59L10.3 9.45l-7.72 7.72c-.78.78-.78 2.05 0 2.83L4 21.41c.39.39.9.59 1.41.59.51 0 1.02-.2 1.41-.59l7.78-7.78 2.81-2.81c.8-.78.8-2.07 0-2.86zM5.41 20L4 18.59l7.72-7.72 1.47 1.35L5.41 20z\"/>\n",
              "  </svg>\n",
              "      </button>\n",
              "      \n",
              "  <style>\n",
              "    .colab-df-container {\n",
              "      display:flex;\n",
              "      flex-wrap:wrap;\n",
              "      gap: 12px;\n",
              "    }\n",
              "\n",
              "    .colab-df-convert {\n",
              "      background-color: #E8F0FE;\n",
              "      border: none;\n",
              "      border-radius: 50%;\n",
              "      cursor: pointer;\n",
              "      display: none;\n",
              "      fill: #1967D2;\n",
              "      height: 32px;\n",
              "      padding: 0 0 0 0;\n",
              "      width: 32px;\n",
              "    }\n",
              "\n",
              "    .colab-df-convert:hover {\n",
              "      background-color: #E2EBFA;\n",
              "      box-shadow: 0px 1px 2px rgba(60, 64, 67, 0.3), 0px 1px 3px 1px rgba(60, 64, 67, 0.15);\n",
              "      fill: #174EA6;\n",
              "    }\n",
              "\n",
              "    [theme=dark] .colab-df-convert {\n",
              "      background-color: #3B4455;\n",
              "      fill: #D2E3FC;\n",
              "    }\n",
              "\n",
              "    [theme=dark] .colab-df-convert:hover {\n",
              "      background-color: #434B5C;\n",
              "      box-shadow: 0px 1px 3px 1px rgba(0, 0, 0, 0.15);\n",
              "      filter: drop-shadow(0px 1px 2px rgba(0, 0, 0, 0.3));\n",
              "      fill: #FFFFFF;\n",
              "    }\n",
              "  </style>\n",
              "\n",
              "      <script>\n",
              "        const buttonEl =\n",
              "          document.querySelector('#df-7ca03028-db55-4768-976d-ea7f819b207f button.colab-df-convert');\n",
              "        buttonEl.style.display =\n",
              "          google.colab.kernel.accessAllowed ? 'block' : 'none';\n",
              "\n",
              "        async function convertToInteractive(key) {\n",
              "          const element = document.querySelector('#df-7ca03028-db55-4768-976d-ea7f819b207f');\n",
              "          const dataTable =\n",
              "            await google.colab.kernel.invokeFunction('convertToInteractive',\n",
              "                                                     [key], {});\n",
              "          if (!dataTable) return;\n",
              "\n",
              "          const docLinkHtml = 'Like what you see? Visit the ' +\n",
              "            '<a target=\"_blank\" href=https://colab.research.google.com/notebooks/data_table.ipynb>data table notebook</a>'\n",
              "            + ' to learn more about interactive tables.';\n",
              "          element.innerHTML = '';\n",
              "          dataTable['output_type'] = 'display_data';\n",
              "          await google.colab.output.renderOutput(dataTable, element);\n",
              "          const docLink = document.createElement('div');\n",
              "          docLink.innerHTML = docLinkHtml;\n",
              "          element.appendChild(docLink);\n",
              "        }\n",
              "      </script>\n",
              "    </div>\n",
              "  </div>\n",
              "  "
            ],
            "text/plain": [
              "Predict      0    1    All\n",
              "Real                      \n",
              "0        11740  237  11977\n",
              "1         1315  272   1587\n",
              "All      13055  509  13564"
            ]
          },
          "metadata": {},
          "execution_count": 69
        }
      ]
    },
    {
      "cell_type": "markdown",
      "source": [
        "> Temos **1106** observações classificados como sendo da _classe 0_, quando na verdade eram da _classe 1_, esse tipo de erro é conhecido como `falsos negativos`.<br>\n",
        "Já para os `falsos positivos`, tivemos **195** observações classificadas erroneamente como da _classe 1_ e o correto era da _classe 0_."
      ],
      "metadata": {
        "id": "OMjHU1tf_OrS"
      }
    },
    {
      "cell_type": "code",
      "source": [
        "# imprimindo o relatório de classificação dos dados de teste do modelo\n",
        "print(classification_report(y_test, y_pred))\n",
        "\n",
        "# visualizando graficamente a matriz de confusão dos dados de teste do modelo\n",
        "fig = plt.figure(figsize=[8,5])\n",
        "fig.suptitle('Matriz de Confusão\\n', fontsize=16, fontweight='bold')\n",
        "\n",
        "sns.heatmap(confusion_matrix(y_test, y_pred), cmap='Blues', annot=True, fmt='.2f')\n",
        "plt.title('Regressão Logística - dados de teste', fontsize=14)\n",
        "plt.xticks()\n",
        "plt.yticks()\n",
        "\n",
        "plt.annotate('TP', (0.2,0.5), fontsize=18, fontweight='bold', color='green')\n",
        "plt.annotate('FP', (1.2,0.5), fontsize=18, fontweight='bold', color='red')\n",
        "plt.annotate('FN', (0.2,1.5), fontsize=18, fontweight='bold', color='red')\n",
        "plt.annotate('TN', (1.2,1.5), fontsize=18, fontweight='bold', color='green')\n",
        "\n",
        "# TP = True Positive (verdadeiro positivo)\n",
        "# FP = False Positive (falso positivo)\n",
        "# FN = False Negative (falso negativo)\n",
        "# TN = True Negative (verdadeiro negativo)\n",
        "\n",
        "plt.show();"
      ],
      "metadata": {
        "id": "dxOzWEmgQnWA",
        "colab": {
          "base_uri": "https://localhost:8080/",
          "height": 514
        },
        "outputId": "ad7b8568-c1ad-4b0b-ad43-40ce1febb9e8"
      },
      "execution_count": 74,
      "outputs": [
        {
          "output_type": "stream",
          "name": "stdout",
          "text": [
            "              precision    recall  f1-score   support\n",
            "\n",
            "           0       0.90      0.98      0.94     11977\n",
            "           1       0.53      0.17      0.26      1587\n",
            "\n",
            "    accuracy                           0.89     13564\n",
            "   macro avg       0.72      0.58      0.60     13564\n",
            "weighted avg       0.86      0.89      0.86     13564\n",
            "\n"
          ]
        },
        {
          "output_type": "display_data",
          "data": {
            "image/png": "[encoded data removed]",
            "text/plain": [
              "<Figure size 576x360 with 2 Axes>"
            ]
          },
          "metadata": {}
        }
      ]
    },
    {
      "cell_type": "markdown",
      "source": [
        "Agora iremos realizar o balanceamento das instâncias das classes. E para isso, utilizaremos a função _NearMiss_ da biblioteca **imblearn** e o método `under_sampling`, onde ela iguala as quantidade de amostras entre as classes.\n",
        "\n"
      ],
      "metadata": {
        "id": "fiXggV86R4jc"
      }
    },
    {
      "cell_type": "code",
      "source": [
        "# importando a função\n",
        "from imblearn.under_sampling import NearMiss"
      ],
      "metadata": {
        "id": "9zR7IpqCQnUI"
      },
      "execution_count": 75,
      "outputs": []
    },
    {
      "cell_type": "code",
      "source": [
        "# instanciando a função no objeto \"nr\"\n",
        "nr = NearMiss()"
      ],
      "metadata": {
        "id": "jDLXpE0TQnQt"
      },
      "execution_count": 76,
      "outputs": []
    },
    {
      "cell_type": "markdown",
      "source": [
        "> Existem algums parâmetros que podem ser configurados, mas para o nosso exemplo vamos usar o padrão já definido pela função."
      ],
      "metadata": {
        "id": "7t8_tEXLT2EZ"
      }
    },
    {
      "cell_type": "code",
      "source": [
        "# aplicando o balanceamentos dos das observações com a função \".fit_resample()\"\n",
        "X, y = nr.fit_resample(X, y)"
      ],
      "metadata": {
        "id": "QBL7IdnrQnNp"
      },
      "execution_count": 77,
      "outputs": []
    },
    {
      "cell_type": "code",
      "source": [
        "# gráfico de barras da distribuição das observações das classes\n",
        "plt.figure(figsize=(7,4))\n",
        "sns.countplot(x=y);"
      ],
      "metadata": {
        "id": "rQCH_-RGT85l",
        "colab": {
          "base_uri": "https://localhost:8080/",
          "height": 285
        },
        "outputId": "971b6cb5-4c94-4451-d80b-77af9462e2b4"
      },
      "execution_count": 78,
      "outputs": [
        {
          "output_type": "display_data",
          "data": {
            "image/png": "[encoded data removed]",
            "text/plain": [
              "<Figure size 504x288 with 1 Axes>"
            ]
          },
          "metadata": {}
        }
      ]
    },
    {
      "cell_type": "markdown",
      "source": [
        "> Agora as observações das classes estão balanceados. Temos um pouco mais de `5000 linhas` para cada classe."
      ],
      "metadata": {
        "id": "qFE4r_VOVTUR"
      }
    },
    {
      "cell_type": "markdown",
      "source": [
        "Iremos reaplicar novamente todas as etapas:\n",
        "- instanciar o modelo, nesse caso a _Regressão Logística_;\n",
        "- instanciar os dados de treino e teste;\n",
        "- realizar o treinamento do modelo e,\n",
        "- por fim, avaliar a performance do modelo utilizando as mesmas métricas utilizadas inicialmente.\n"
      ],
      "metadata": {
        "id": "mg3hbqHDVc2C"
      }
    },
    {
      "cell_type": "code",
      "source": [
        "# instanciando o modelo\n",
        "logReg_model = LogisticRegression(random_state=42)"
      ],
      "metadata": {
        "id": "qGwhBvJ1T82B"
      },
      "execution_count": 79,
      "outputs": []
    },
    {
      "cell_type": "code",
      "source": [
        "# instanciando os dados de treino e teste\n",
        "X_train, X_test, y_train, y_test = train_test_split(X, y, test_size=0.3, random_state=42, stratify=y)"
      ],
      "metadata": {
        "id": "HdssrSf4T80I"
      },
      "execution_count": 80,
      "outputs": []
    },
    {
      "cell_type": "code",
      "source": [
        "# treinando o modelo com os dados de treino - X_train e y_train\n",
        "logReg_model.fit(X_train, y_train)"
      ],
      "metadata": {
        "id": "y-7UJD1oT8wn",
        "colab": {
          "base_uri": "https://localhost:8080/"
        },
        "outputId": "9942d820-b84c-4e35-af3b-50f2d5c060b0"
      },
      "execution_count": 81,
      "outputs": [
        {
          "output_type": "execute_result",
          "data": {
            "text/plain": [
              "LogisticRegression(random_state=42)"
            ]
          },
          "metadata": {},
          "execution_count": 81
        }
      ]
    },
    {
      "cell_type": "code",
      "source": [
        "# realizando as predições com o modelo após seu treinamento\n",
        "y_pred = logReg_model.predict(X_test)"
      ],
      "metadata": {
        "id": "i1gneHRNWrn_"
      },
      "execution_count": 82,
      "outputs": []
    },
    {
      "cell_type": "code",
      "source": [
        "# visualizando acurácia do modelo\n",
        "accuracy_score(y_test, y_pred)"
      ],
      "metadata": {
        "id": "uK5yissIT8uj",
        "colab": {
          "base_uri": "https://localhost:8080/"
        },
        "outputId": "16895795-e7d9-4921-b633-70f9f2680b6f"
      },
      "execution_count": 83,
      "outputs": [
        {
          "output_type": "execute_result",
          "data": {
            "text/plain": [
              "0.8913043478260869"
            ]
          },
          "metadata": {},
          "execution_count": 83
        }
      ]
    },
    {
      "cell_type": "code",
      "source": [
        "# imprimindo o relatório de classificação\n",
        "print('\\tRelatório de Classificação:\\n', classification_report(y_test, y_pred, digits=4))\n",
        "\n",
        "# imprimindo a acurácia do modelo\n",
        "print('Acurácia: {:.4f}'.format(accuracy_score(y_test, y_pred)))\n",
        "\n",
        "# imprimindo a área sob a curva\n",
        "print('AUC: {:.4f}\\n'.format(roc_auc_score(y_test, y_pred)))\n",
        "\n",
        "# plotando a matrix de confusão\n",
        "skplt.metrics.plot_confusion_matrix(y_test, y_pred, normalize=True, text_fontsize=11,\n",
        "                                    title='Matriz de Confusão - Regressão Logística\\n', figsize=(6,6), );"
      ],
      "metadata": {
        "id": "SEQMYd_ET8rD",
        "colab": {
          "base_uri": "https://localhost:8080/",
          "height": 592
        },
        "outputId": "6bca98b1-4ca1-42df-f42f-ef021c4d451a"
      },
      "execution_count": 84,
      "outputs": [
        {
          "output_type": "stream",
          "name": "stdout",
          "text": [
            "\tRelatório de Classificação:\n",
            "               precision    recall  f1-score   support\n",
            "\n",
            "           0     0.8692    0.9212    0.8945      1587\n",
            "           1     0.9162    0.8614    0.8880      1587\n",
            "\n",
            "    accuracy                         0.8913      3174\n",
            "   macro avg     0.8927    0.8913    0.8912      3174\n",
            "weighted avg     0.8927    0.8913    0.8912      3174\n",
            "\n",
            "Acurácia: 0.8913\n",
            "AUC: 0.8913\n",
            "\n"
          ]
        },
        {
          "output_type": "display_data",
          "data": {
            "image/png": "[encoded data removed]",
            "text/plain": [
              "<Figure size 432x432 with 2 Axes>"
            ]
          },
          "metadata": {}
        }
      ]
    },
    {
      "cell_type": "markdown",
      "source": [
        "> Podemos visualizar que para _classe positiva_ (1) conseguimos reduzir consideravelmente as ocorrências dos `falsos negativos`, nesse caso **14%** das observações foram classificadas erroneamente e, **86%** foram classificadas corretas, como `verdadeiros positivos`."
      ],
      "metadata": {
        "id": "-Brqn92pXZJ9"
      }
    },
    {
      "cell_type": "code",
      "source": [
        "# criando uma tabela para exibição dos:\n",
        "# VN = verdadeiro negativo      FP = falso positivo\n",
        "# FN = falso negativo           VP = verdadeiro positivo\n",
        "\n",
        "pd.crosstab(y_test, y_pred, rownames=['Real'], colnames=['Predict'], margins=True)"
      ],
      "metadata": {
        "id": "GYldVbzjT8pb",
        "colab": {
          "base_uri": "https://localhost:8080/",
          "height": 175
        },
        "outputId": "d97201d3-9e8f-43ee-e6d1-eedc90d65045"
      },
      "execution_count": 85,
      "outputs": [
        {
          "output_type": "execute_result",
          "data": {
            "text/html": [
              "\n",
              "  <div id=\"df-207f38d4-690a-44af-9089-7b909d4cd701\">\n",
              "    <div class=\"colab-df-container\">\n",
              "      <div>\n",
              "<style scoped>\n",
              "    .dataframe tbody tr th:only-of-type {\n",
              "        vertical-align: middle;\n",
              "    }\n",
              "\n",
              "    .dataframe tbody tr th {\n",
              "        vertical-align: top;\n",
              "    }\n",
              "\n",
              "    .dataframe thead th {\n",
              "        text-align: right;\n",
              "    }\n",
              "</style>\n",
              "<table border=\"1\" class=\"dataframe\">\n",
              "  <thead>\n",
              "    <tr style=\"text-align: right;\">\n",
              "      <th>Predict</th>\n",
              "      <th>0</th>\n",
              "      <th>1</th>\n",
              "      <th>All</th>\n",
              "    </tr>\n",
              "    <tr>\n",
              "      <th>Real</th>\n",
              "      <th></th>\n",
              "      <th></th>\n",
              "      <th></th>\n",
              "    </tr>\n",
              "  </thead>\n",
              "  <tbody>\n",
              "    <tr>\n",
              "      <th>0</th>\n",
              "      <td>1462</td>\n",
              "      <td>125</td>\n",
              "      <td>1587</td>\n",
              "    </tr>\n",
              "    <tr>\n",
              "      <th>1</th>\n",
              "      <td>220</td>\n",
              "      <td>1367</td>\n",
              "      <td>1587</td>\n",
              "    </tr>\n",
              "    <tr>\n",
              "      <th>All</th>\n",
              "      <td>1682</td>\n",
              "      <td>1492</td>\n",
              "      <td>3174</td>\n",
              "    </tr>\n",
              "  </tbody>\n",
              "</table>\n",
              "</div>\n",
              "      <button class=\"colab-df-convert\" onclick=\"convertToInteractive('df-207f38d4-690a-44af-9089-7b909d4cd701')\"\n",
              "              title=\"Convert this dataframe to an interactive table.\"\n",
              "              style=\"display:none;\">\n",
              "        \n",
              "  <svg xmlns=\"http://www.w3.org/2000/svg\" height=\"24px\"viewBox=\"0 0 24 24\"\n",
              "       width=\"24px\">\n",
              "    <path d=\"M0 0h24v24H0V0z\" fill=\"none\"/>\n",
              "    <path d=\"M18.56 5.44l.94 2.06.94-2.06 2.06-.94-2.06-.94-.94-2.06-.94 2.06-2.06.94zm-11 1L8.5 8.5l.94-2.06 2.06-.94-2.06-.94L8.5 2.5l-.94 2.06-2.06.94zm10 10l.94 2.06.94-2.06 2.06-.94-2.06-.94-.94-2.06-.94 2.06-2.06.94z\"/><path d=\"M17.41 7.96l-1.37-1.37c-.4-.4-.92-.59-1.43-.59-.52 0-1.04.2-1.43.59L10.3 9.45l-7.72 7.72c-.78.78-.78 2.05 0 2.83L4 21.41c.39.39.9.59 1.41.59.51 0 1.02-.2 1.41-.59l7.78-7.78 2.81-2.81c.8-.78.8-2.07 0-2.86zM5.41 20L4 18.59l7.72-7.72 1.47 1.35L5.41 20z\"/>\n",
              "  </svg>\n",
              "      </button>\n",
              "      \n",
              "  <style>\n",
              "    .colab-df-container {\n",
              "      display:flex;\n",
              "      flex-wrap:wrap;\n",
              "      gap: 12px;\n",
              "    }\n",
              "\n",
              "    .colab-df-convert {\n",
              "      background-color: #E8F0FE;\n",
              "      border: none;\n",
              "      border-radius: 50%;\n",
              "      cursor: pointer;\n",
              "      display: none;\n",
              "      fill: #1967D2;\n",
              "      height: 32px;\n",
              "      padding: 0 0 0 0;\n",
              "      width: 32px;\n",
              "    }\n",
              "\n",
              "    .colab-df-convert:hover {\n",
              "      background-color: #E2EBFA;\n",
              "      box-shadow: 0px 1px 2px rgba(60, 64, 67, 0.3), 0px 1px 3px 1px rgba(60, 64, 67, 0.15);\n",
              "      fill: #174EA6;\n",
              "    }\n",
              "\n",
              "    [theme=dark] .colab-df-convert {\n",
              "      background-color: #3B4455;\n",
              "      fill: #D2E3FC;\n",
              "    }\n",
              "\n",
              "    [theme=dark] .colab-df-convert:hover {\n",
              "      background-color: #434B5C;\n",
              "      box-shadow: 0px 1px 3px 1px rgba(0, 0, 0, 0.15);\n",
              "      filter: drop-shadow(0px 1px 2px rgba(0, 0, 0, 0.3));\n",
              "      fill: #FFFFFF;\n",
              "    }\n",
              "  </style>\n",
              "\n",
              "      <script>\n",
              "        const buttonEl =\n",
              "          document.querySelector('#df-207f38d4-690a-44af-9089-7b909d4cd701 button.colab-df-convert');\n",
              "        buttonEl.style.display =\n",
              "          google.colab.kernel.accessAllowed ? 'block' : 'none';\n",
              "\n",
              "        async function convertToInteractive(key) {\n",
              "          const element = document.querySelector('#df-207f38d4-690a-44af-9089-7b909d4cd701');\n",
              "          const dataTable =\n",
              "            await google.colab.kernel.invokeFunction('convertToInteractive',\n",
              "                                                     [key], {});\n",
              "          if (!dataTable) return;\n",
              "\n",
              "          const docLinkHtml = 'Like what you see? Visit the ' +\n",
              "            '<a target=\"_blank\" href=https://colab.research.google.com/notebooks/data_table.ipynb>data table notebook</a>'\n",
              "            + ' to learn more about interactive tables.';\n",
              "          element.innerHTML = '';\n",
              "          dataTable['output_type'] = 'display_data';\n",
              "          await google.colab.output.renderOutput(dataTable, element);\n",
              "          const docLink = document.createElement('div');\n",
              "          docLink.innerHTML = docLinkHtml;\n",
              "          element.appendChild(docLink);\n",
              "        }\n",
              "      </script>\n",
              "    </div>\n",
              "  </div>\n",
              "  "
            ],
            "text/plain": [
              "Predict     0     1   All\n",
              "Real                     \n",
              "0        1462   125  1587\n",
              "1         220  1367  1587\n",
              "All      1682  1492  3174"
            ]
          },
          "metadata": {},
          "execution_count": 85
        }
      ]
    },
    {
      "cell_type": "markdown",
      "source": [
        "Pra fim de ampliação do conhecimento, iremos também aplicar o **SMOTE (Synthetic Minority Over-sampling Technique)**\n",
        "\n",
        "- essa função gera dados sintéticos da classe minoritária."
      ],
      "metadata": {
        "id": "USml8iEyZkGP"
      }
    },
    {
      "cell_type": "code",
      "source": [
        "# separando as variáveis explicativas (X) e a resposta (y)\n",
        "X = df_bank.drop('y', axis=1)\n",
        "y = df_bank['y']"
      ],
      "metadata": {
        "id": "MPSDU8pNT8lr"
      },
      "execution_count": 86,
      "outputs": []
    },
    {
      "cell_type": "code",
      "source": [
        "# gráfico de barras da distribuição das observações das classes\n",
        "plt.figure(figsize=(7,4))\n",
        "sns.countplot(x=y);"
      ],
      "metadata": {
        "colab": {
          "base_uri": "https://localhost:8080/",
          "height": 285
        },
        "id": "wyLiSn_wYUqf",
        "outputId": "f5786a35-5c50-4d67-9b6e-034554cfcfcf"
      },
      "execution_count": 87,
      "outputs": [
        {
          "output_type": "display_data",
          "data": {
            "image/png": "[encoded data removed]",
            "text/plain": [
              "<Figure size 504x288 with 1 Axes>"
            ]
          },
          "metadata": {}
        }
      ]
    },
    {
      "cell_type": "code",
      "source": [
        "# importando a biblioteca matemática \n",
        "import numpy as np"
      ],
      "metadata": {
        "id": "Ms9i5ChHaXoi"
      },
      "execution_count": 88,
      "outputs": []
    },
    {
      "cell_type": "code",
      "source": [
        "# realizando a contagem das classes\n",
        "np.bincount(y)"
      ],
      "metadata": {
        "colab": {
          "base_uri": "https://localhost:8080/"
        },
        "id": "BElPv3HJYUnp",
        "outputId": "110171fb-e824-4be4-a62e-04e6bf0402b4"
      },
      "execution_count": 89,
      "outputs": [
        {
          "output_type": "execute_result",
          "data": {
            "text/plain": [
              "array([39922,  5289])"
            ]
          },
          "metadata": {},
          "execution_count": 89
        }
      ]
    },
    {
      "cell_type": "code",
      "source": [
        "# importando a função\n",
        "from imblearn.over_sampling import SMOTE"
      ],
      "metadata": {
        "id": "TedpmXW7aEA-"
      },
      "execution_count": 90,
      "outputs": []
    },
    {
      "cell_type": "code",
      "source": [
        "# instanciando a função no objeto \"smt\"\n",
        "smt = SMOTE(random_state=42)"
      ],
      "metadata": {
        "id": "-60NeP1XaD_X"
      },
      "execution_count": 91,
      "outputs": []
    },
    {
      "cell_type": "markdown",
      "source": [
        "> Essa técnica possui o parâmetro sampling_strategy que nos permiti definir qual a porcentagem de dados sintéticos que queremos.<br>\n",
        "Se definirmos 0.5 por exemplo, ele vai gerar dados sintéticos até 50% da classe majoritária. Mas a título de exemplo será usada o método padrão."
      ],
      "metadata": {
        "id": "31oS6UYParC8"
      }
    },
    {
      "cell_type": "code",
      "source": [
        "# aplicando o balanceamentos das observações\n",
        "X, y = smt.fit_resample(X, y)"
      ],
      "metadata": {
        "id": "wZ4ymRoBaD9s"
      },
      "execution_count": 92,
      "outputs": []
    },
    {
      "cell_type": "code",
      "source": [
        "# gráfico de barras da distribuição das observações das classes\n",
        "plt.figure(figsize=(7,4))\n",
        "sns.countplot(x=y);\n",
        "\n",
        "print(f'Quantidades de observações por classe\\\n",
        "\\n- Classe negativa [0]: {np.bincount(y)[0]} \\n- Classe positiva [1]: {np.bincount(y)[1]}\\n')"
      ],
      "metadata": {
        "colab": {
          "base_uri": "https://localhost:8080/",
          "height": 354
        },
        "id": "fV-NukVyaD6C",
        "outputId": "4305e8e8-e8fb-4193-d975-d3476527d378"
      },
      "execution_count": 93,
      "outputs": [
        {
          "output_type": "stream",
          "name": "stdout",
          "text": [
            "Quantidades de observações por classe\n",
            "- Classe negativa [0]: 39922 \n",
            "- Classe positiva [1]: 39922\n",
            "\n"
          ]
        },
        {
          "output_type": "display_data",
          "data": {
            "image/png": "[encoded data removed]",
            "text/plain": [
              "<Figure size 504x288 with 1 Axes>"
            ]
          },
          "metadata": {}
        }
      ]
    },
    {
      "cell_type": "code",
      "source": [
        "# instanciando os dados de treino e teste\n",
        "X_train, X_test, y_train, y_test = train_test_split(X, y, test_size=0.3, random_state=42, stratify=y)"
      ],
      "metadata": {
        "id": "yLzoSZ7yaD2-"
      },
      "execution_count": 94,
      "outputs": []
    },
    {
      "cell_type": "code",
      "source": [
        "# instanciando o modelo\n",
        "logReg_model = LogisticRegression(random_state=42)"
      ],
      "metadata": {
        "id": "zaTq1Bc5aD0L"
      },
      "execution_count": 95,
      "outputs": []
    },
    {
      "cell_type": "code",
      "source": [
        "# treinando o modelo com os dados de treino - X_train e y_train\n",
        "logReg_model.fit(X_train, y_train)"
      ],
      "metadata": {
        "colab": {
          "base_uri": "https://localhost:8080/"
        },
        "id": "9bgU-lk5aDwb",
        "outputId": "2bb63918-f188-4d57-f3ff-8b862d4a6893"
      },
      "execution_count": 96,
      "outputs": [
        {
          "output_type": "execute_result",
          "data": {
            "text/plain": [
              "LogisticRegression(random_state=42)"
            ]
          },
          "metadata": {},
          "execution_count": 96
        }
      ]
    },
    {
      "cell_type": "code",
      "source": [
        "# realizando as predições com o modelo após seu treinamento\n",
        "y_pred = logReg_model.predict(X_test)"
      ],
      "metadata": {
        "id": "Wk00Rd4jaDt_"
      },
      "execution_count": 97,
      "outputs": []
    },
    {
      "cell_type": "code",
      "source": [
        "# visualizando acurácia do modelo\n",
        "accuracy_score(y_test, y_pred)"
      ],
      "metadata": {
        "colab": {
          "base_uri": "https://localhost:8080/"
        },
        "id": "iT4XCjzTaDrZ",
        "outputId": "060becdd-4b2b-43f6-b8a9-778fb2a8ffc3"
      },
      "execution_count": 98,
      "outputs": [
        {
          "output_type": "execute_result",
          "data": {
            "text/plain": [
              "0.7816648576438173"
            ]
          },
          "metadata": {},
          "execution_count": 98
        }
      ]
    },
    {
      "cell_type": "markdown",
      "source": [
        "> Note que a acurácia caiu um pouco!"
      ],
      "metadata": {
        "id": "SAL-jwLCc4U6"
      }
    },
    {
      "cell_type": "code",
      "source": [
        "# imprimindo o relatório de classificação\n",
        "print('\\tRelatório de Classificação:\\n', classification_report(y_test, y_pred, digits=4))\n",
        "\n",
        "# imprimindo a acurácia do modelo\n",
        "print('Acurácia: {:.4f}'.format(accuracy_score(y_test, y_pred)))\n",
        "\n",
        "# imprimindo a área sob a curva\n",
        "print('AUC: {:.4f}\\n'.format(roc_auc_score(y_test, y_pred)))\n",
        "\n",
        "# plotando a matrix de confusão\n",
        "skplt.metrics.plot_confusion_matrix(y_test, y_pred, normalize=True, text_fontsize=11,\n",
        "                                    title='Matriz de Confusão - Regressão Logística\\n', figsize=(6,6), );"
      ],
      "metadata": {
        "colab": {
          "base_uri": "https://localhost:8080/",
          "height": 592
        },
        "id": "2OpJFympaDo9",
        "outputId": "661fb45a-598d-42c6-9863-56aebd6dbebc"
      },
      "execution_count": 99,
      "outputs": [
        {
          "output_type": "stream",
          "name": "stdout",
          "text": [
            "\tRelatório de Classificação:\n",
            "               precision    recall  f1-score   support\n",
            "\n",
            "           0     0.7653    0.8125    0.7882     11977\n",
            "           1     0.8002    0.7509    0.7747     11977\n",
            "\n",
            "    accuracy                         0.7817     23954\n",
            "   macro avg     0.7827    0.7817    0.7815     23954\n",
            "weighted avg     0.7827    0.7817    0.7815     23954\n",
            "\n",
            "Acurácia: 0.7817\n",
            "AUC: 0.7817\n",
            "\n"
          ]
        },
        {
          "output_type": "display_data",
          "data": {
            "image/png": "[encoded data removed]",
            "text/plain": [
              "<Figure size 432x432 with 2 Axes>"
            ]
          },
          "metadata": {}
        }
      ]
    },
    {
      "cell_type": "markdown",
      "source": [
        "> Tanto a `acurácia` e a `auc` tiveram os mesmos resultados.<br>\n",
        "Porém no geral, o modelo perdeu um pouco da sua capacidade de classificação em relação a técnica utilizada anteriormente no tratamento do desbalanceamentos das classes."
      ],
      "metadata": {
        "id": "_792F2ZXdiF9"
      }
    },
    {
      "cell_type": "code",
      "source": [
        "# criando uma tabela para exibição dos:\n",
        "# VN = verdadeiro negativo      FP = falso positivo\n",
        "# FN = falso negativo           VP = verdadeiro positivo\n",
        "\n",
        "pd.crosstab(y_test, y_pred, rownames=['Real'], colnames=['Predict'], margins=True)"
      ],
      "metadata": {
        "colab": {
          "base_uri": "https://localhost:8080/",
          "height": 175
        },
        "id": "liGYjGILcooN",
        "outputId": "e15337c9-3b10-4fd2-f454-05385cb6d00e"
      },
      "execution_count": 100,
      "outputs": [
        {
          "output_type": "execute_result",
          "data": {
            "text/html": [
              "\n",
              "  <div id=\"df-63dad4d9-2e78-4817-91be-af12a8594503\">\n",
              "    <div class=\"colab-df-container\">\n",
              "      <div>\n",
              "<style scoped>\n",
              "    .dataframe tbody tr th:only-of-type {\n",
              "        vertical-align: middle;\n",
              "    }\n",
              "\n",
              "    .dataframe tbody tr th {\n",
              "        vertical-align: top;\n",
              "    }\n",
              "\n",
              "    .dataframe thead th {\n",
              "        text-align: right;\n",
              "    }\n",
              "</style>\n",
              "<table border=\"1\" class=\"dataframe\">\n",
              "  <thead>\n",
              "    <tr style=\"text-align: right;\">\n",
              "      <th>Predict</th>\n",
              "      <th>0</th>\n",
              "      <th>1</th>\n",
              "      <th>All</th>\n",
              "    </tr>\n",
              "    <tr>\n",
              "      <th>Real</th>\n",
              "      <th></th>\n",
              "      <th></th>\n",
              "      <th></th>\n",
              "    </tr>\n",
              "  </thead>\n",
              "  <tbody>\n",
              "    <tr>\n",
              "      <th>0</th>\n",
              "      <td>9731</td>\n",
              "      <td>2246</td>\n",
              "      <td>11977</td>\n",
              "    </tr>\n",
              "    <tr>\n",
              "      <th>1</th>\n",
              "      <td>2984</td>\n",
              "      <td>8993</td>\n",
              "      <td>11977</td>\n",
              "    </tr>\n",
              "    <tr>\n",
              "      <th>All</th>\n",
              "      <td>12715</td>\n",
              "      <td>11239</td>\n",
              "      <td>23954</td>\n",
              "    </tr>\n",
              "  </tbody>\n",
              "</table>\n",
              "</div>\n",
              "      <button class=\"colab-df-convert\" onclick=\"convertToInteractive('df-63dad4d9-2e78-4817-91be-af12a8594503')\"\n",
              "              title=\"Convert this dataframe to an interactive table.\"\n",
              "              style=\"display:none;\">\n",
              "        \n",
              "  <svg xmlns=\"http://www.w3.org/2000/svg\" height=\"24px\"viewBox=\"0 0 24 24\"\n",
              "       width=\"24px\">\n",
              "    <path d=\"M0 0h24v24H0V0z\" fill=\"none\"/>\n",
              "    <path d=\"M18.56 5.44l.94 2.06.94-2.06 2.06-.94-2.06-.94-.94-2.06-.94 2.06-2.06.94zm-11 1L8.5 8.5l.94-2.06 2.06-.94-2.06-.94L8.5 2.5l-.94 2.06-2.06.94zm10 10l.94 2.06.94-2.06 2.06-.94-2.06-.94-.94-2.06-.94 2.06-2.06.94z\"/><path d=\"M17.41 7.96l-1.37-1.37c-.4-.4-.92-.59-1.43-.59-.52 0-1.04.2-1.43.59L10.3 9.45l-7.72 7.72c-.78.78-.78 2.05 0 2.83L4 21.41c.39.39.9.59 1.41.59.51 0 1.02-.2 1.41-.59l7.78-7.78 2.81-2.81c.8-.78.8-2.07 0-2.86zM5.41 20L4 18.59l7.72-7.72 1.47 1.35L5.41 20z\"/>\n",
              "  </svg>\n",
              "      </button>\n",
              "      \n",
              "  <style>\n",
              "    .colab-df-container {\n",
              "      display:flex;\n",
              "      flex-wrap:wrap;\n",
              "      gap: 12px;\n",
              "    }\n",
              "\n",
              "    .colab-df-convert {\n",
              "      background-color: #E8F0FE;\n",
              "      border: none;\n",
              "      border-radius: 50%;\n",
              "      cursor: pointer;\n",
              "      display: none;\n",
              "      fill: #1967D2;\n",
              "      height: 32px;\n",
              "      padding: 0 0 0 0;\n",
              "      width: 32px;\n",
              "    }\n",
              "\n",
              "    .colab-df-convert:hover {\n",
              "      background-color: #E2EBFA;\n",
              "      box-shadow: 0px 1px 2px rgba(60, 64, 67, 0.3), 0px 1px 3px 1px rgba(60, 64, 67, 0.15);\n",
              "      fill: #174EA6;\n",
              "    }\n",
              "\n",
              "    [theme=dark] .colab-df-convert {\n",
              "      background-color: #3B4455;\n",
              "      fill: #D2E3FC;\n",
              "    }\n",
              "\n",
              "    [theme=dark] .colab-df-convert:hover {\n",
              "      background-color: #434B5C;\n",
              "      box-shadow: 0px 1px 3px 1px rgba(0, 0, 0, 0.15);\n",
              "      filter: drop-shadow(0px 1px 2px rgba(0, 0, 0, 0.3));\n",
              "      fill: #FFFFFF;\n",
              "    }\n",
              "  </style>\n",
              "\n",
              "      <script>\n",
              "        const buttonEl =\n",
              "          document.querySelector('#df-63dad4d9-2e78-4817-91be-af12a8594503 button.colab-df-convert');\n",
              "        buttonEl.style.display =\n",
              "          google.colab.kernel.accessAllowed ? 'block' : 'none';\n",
              "\n",
              "        async function convertToInteractive(key) {\n",
              "          const element = document.querySelector('#df-63dad4d9-2e78-4817-91be-af12a8594503');\n",
              "          const dataTable =\n",
              "            await google.colab.kernel.invokeFunction('convertToInteractive',\n",
              "                                                     [key], {});\n",
              "          if (!dataTable) return;\n",
              "\n",
              "          const docLinkHtml = 'Like what you see? Visit the ' +\n",
              "            '<a target=\"_blank\" href=https://colab.research.google.com/notebooks/data_table.ipynb>data table notebook</a>'\n",
              "            + ' to learn more about interactive tables.';\n",
              "          element.innerHTML = '';\n",
              "          dataTable['output_type'] = 'display_data';\n",
              "          await google.colab.output.renderOutput(dataTable, element);\n",
              "          const docLink = document.createElement('div');\n",
              "          docLink.innerHTML = docLinkHtml;\n",
              "          element.appendChild(docLink);\n",
              "        }\n",
              "      </script>\n",
              "    </div>\n",
              "  </div>\n",
              "  "
            ],
            "text/plain": [
              "Predict      0      1    All\n",
              "Real                        \n",
              "0         9731   2246  11977\n",
              "1         2984   8993  11977\n",
              "All      12715  11239  23954"
            ]
          },
          "metadata": {},
          "execution_count": 100
        }
      ]
    },
    {
      "cell_type": "markdown",
      "source": [
        "## Dados do `mundo real`\n",
        "\n",
        "Os motivos que permitem que os dados sejam desbalanceados são os mais diversos. E isso é um desafio enorme para o _Cientista de Dados_ conseguir coletar igualmente dados de cada classe, ou pode ser que a amostra não reflita a população do problema em questão..\n",
        "\n",
        "Independente dos motivos, o não tratamento do desbalanceamento afeta negativamente o desempenho do modelo, refletindo na qualidade geral do seu projeto de *Data Science*.\n",
        "\n",
        "Não existe um método universal e ótimo. Existem técnicas que evoluem constantemente, e cabe a você identificar os prós e contras de cada uma.\n",
        "\n",
        "Por isso, recomendo não acompanhar apenas sites como o Kaggle, mas também acompanhar *papers* e trabalhos acadêmicos que tragam pesquisas nessa área tão importante."
      ],
      "metadata": {
        "id": "f2Sn3FqG9h_g"
      }
    },
    {
      "cell_type": "code",
      "source": [
        ""
      ],
      "metadata": {
        "id": "IbNVXrjF654f"
      },
      "execution_count": null,
      "outputs": []
    },
    {
      "cell_type": "code",
      "source": [
        ""
      ],
      "metadata": {
        "id": "tUO8vyx4-qwB"
      },
      "execution_count": null,
      "outputs": []
    },
    {
      "cell_type": "code",
      "source": [
        ""
      ],
      "metadata": {
        "id": "lRnVIFi_-qsD"
      },
      "execution_count": null,
      "outputs": []
    }
  ]
}